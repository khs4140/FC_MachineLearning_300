{
 "cells": [
  {
   "cell_type": "markdown",
   "metadata": {
    "id": "NqqLNJZjfi8U"
   },
   "source": [
    "# 주제 : 추천 시스템 - 영화 데이터셋과 Embedding & Ranking 알고리즘으로 추천시스템 만들기\n",
    "----------\n",
    "\n",
    "## 실습 가이드\n",
    "    1. 데이터를 다운로드하여 Colab에 불러옵니다.\n",
    "    2. 필요한 라이브러리는 모두 코드로 작성되어 있습니다.\n",
    "    3. 코드는 위에서부터 아래로 순서대로 실행합니다.\n",
    "    4. 전체 문제 구성은 좌측 첫 번째 아이콘을 통해 확인할 수 있습니다.\n",
    "    \n",
    "    \n",
    "## 데이터 소개\n",
    "    - 이번 주제도 마찬가지로 MovieLens Dataset을 사용합니다.\n",
    "    - 같은 데이터라도 상황과 데이터의 크기에 따라 다양한 추천 방법을 활용할 수 있어야 합니다.\n",
    "    - 파일은 세 개 이며, 각각의 컬럼은 아래와 같습니다.\n",
    "    \n",
    "    1. ratings.dat\n",
    "    user_id : 영화를 시청한 사용자 아이디\n",
    "    movie_id : 영화의 아이디\n",
    "    rating : 사용자가 영화를 평가한 점수\n",
    "    time : 사용자가 영화를 시청한 시간\n",
    "    \n",
    "    2. movies.dat\n",
    "    movie_id : 영화의 아이디\n",
    "    title : 영화 제목\n",
    "    genre : 영화 장르\n",
    "\n",
    "    3. users.dat\n",
    "    user_id : 사용자 아이디\n",
    "    gender : 사용자 성별\n",
    "    age : 사용자 나이\n",
    "    occupation : 사용자 직업코드\n",
    "    zipcode : 사용자 거주코드\n",
    "\n",
    "    \n",
    "- 데이터 출처: https://grouplens.org/datasets/movielens/\n",
    "\n",
    "\n",
    "## 최종 목표\n",
    "    - Large-Scale 에서 적용 가능한 추천시스템 구조 이해\n",
    "    - Word2Vec 기반의 임베딩 모델 이해\n",
    "    - EDA로 수행할 수 있는 다양한 인사이트 활용\n",
    "    - Point-wise 모델링에 대한 이해\n",
    "    - Factorization Machine 알고리즘에 대한 이해\n",
    "    - ML에 활용할 수 있는 데이터 변환 능력 습득\n",
    "    - 모델의 추천 결과를 평가하는 방법에 대한 연습\n",
    "\n",
    "- 출제자 : 윤기태 강사\n",
    "---"
   ]
  },
  {
   "cell_type": "markdown",
   "metadata": {
    "id": "z3ImE3b9W1bu"
   },
   "source": [
    "## Step 1. Word2Vec 알고리즘 기반 추천 후보군 생성"
   ]
  },
  {
   "cell_type": "markdown",
   "metadata": {
    "id": "80IuPq2yozGm"
   },
   "source": [
    "#### Rating Matrix 기반 추천시스템의 한계\n",
    "\n",
    "    [Memory Based Recommendations]\n",
    "    1. 만약 유저, 영화의 수가 3000이 아니라 3천만 개 라면?\n",
    "    2. Matrix의 크기는 30,000,000 X 30,000,000\n",
    "    3. 연산량 자체도 문제가 되지만, Extreme Sparse 벡터가 되면서 정확도 역시 현저하게 떨어지게 됨\n",
    "    4. 차원축소, ALS 등의 방법으로 어느정도 극복할 수 있지만, 근본적인 해결책이 되지는 못함\n",
    "\n",
    "- Recommendation in Large Scale System\n",
    "  - Architecture\n",
    "  ![recsys_architecture](https://img1.daumcdn.net/thumb/R1280x0/?scode=mtistory2&fname=https%3A%2F%2Fblog.kakaocdn.net%2Fdn%2F30pCp%2Fbtqv7PV6365%2FCkl5dwvSoQF3RdneCIzGr1%2Fimg.png)\n",
    "  - 데이터 수집과 처리 단계를 제외하면, 추천시스템은 다음과 같은 레이어로 구분되는 추세\n",
    "    - `Generate Candidates` : 수백, 수천만개의 Item 중, 후보가 될 만한 Item을 추출. 여기에 CF 등의 방법을 사용할 수도 있지만, 일반적으로는 연산량이 작은 여러 개의 전략(시나리오)들을 합쳐서 coverage 자체를 확보하는 역할을 함. 예를 들면 인기도가 높은 Item, 연관성이 높은 Item 등을 별개의 전략으로 추출하는 것.\n",
    "    - `Intention Predict` : User의 Context에 기반하여 Candidates를 한 번 더 좁혀주는 역할. 반드시 필요한 단계는 아니며, Candidates를 추렸음에도 여전히 Large Scale 문제를 가지고 있는 경우에 필터링의 역할로 사용할 수 있음.\n",
    "    - `Personalized Ranking` : 일반적으로 추천시스템에서 추천이 잘 되었는지를 평가하는 지표는 CTR, CVR 같은 지표. 이 지표들을 Maximize 할 수 있는 방법으로 개인화 모델을 학습. 일반적인 Classifier를 생각해도 무방하며, 학습 데이터셋을 잘 구축하는 것이 좋은 추천 랭킹모델을 만드는 것.\n",
    "\n",
    "![recsys_architecture2](https://img1.daumcdn.net/thumb/R1280x0/?scode=mtistory2&fname=https%3A%2F%2Fblog.kakaocdn.net%2Fdn%2FUsbKo%2Fbtqv7PBN46z%2Fd4m5pf7lrKs1CqxzkROY81%2Fimg.png)\n",
    "\n",
    "\n",
    "-----"
   ]
  },
  {
   "cell_type": "markdown",
   "metadata": {
    "id": "fP3kOoWly9U4"
   },
   "source": [
    "#### Word2Vec 기반의 Movie2Vec 만들기\n",
    "\n",
    "    [Word2Vec]\n",
    "    1. 임베딩(Embedding) 방법론 중 가장 대중적이고 성능이 좋은 방법\n",
    "    2. 같은 문장 내, 혹은 비슷한 위치에 등장하는 단어들은 유사한 의미를 가지고 있을 것이라는 가정.\n",
    "    3. 원래는 단어를 벡터로 표현하는 방법으로 고안되었지만, word2vec의 메커니즘을 다양하게 활용할 수 있음\n",
    "    4. Word2Vec은 중심 단어와 주변 단어와의 연관성을 학습하여 벡터로 표현함.\n",
    "      - 예시 문장 : \"역시 성공은 고난을 동반 말없이 등산을 등반하는 것처럼\"\n",
    "      - 만약 \"성공\"이라는 단어를 중심 단어로 활용한다면, [역시, _, 고난을, 동반] 이러한 주변 단어를 가지고 중심에 있는 단어의 벡터를 학습할 수 있게 됨. (Skip-gram 방식. CBOW는 반대)\n",
    "\n",
    "![skipgram](http://i.imgur.com/TupGxMl.png)\n",
    "\n",
    "    [학습 원리]\n",
    "    1. 단어셋의 크기를 dim으로 하는 input/output 벡터를 활용하여 softmax classification\n",
    "    2. 따라서 아래 함수를 최소화 하는 것을 목표로 하는 network를 학습하게 됨\n",
    "\n",
    "![function](https://raw.githubusercontent.com/yoonkt200/FastCampusDataset/master/images/function.png)\n",
    "\n",
    "    [벡터 표현]\n",
    "    1. 학습된 네트워크의 hidden layer (projection layer)에 단어의 벡터가 표현됨\n",
    "    2. 이를 lookup 이라고 함\n",
    "\n",
    "![lookup](https://raw.githubusercontent.com/yoonkt200/FastCampusDataset/master/images/lookup.png)\n",
    "\n",
    "-----\n",
    "\n",
    "    [영화의 벡터 표현]\n",
    "    1. word2vec 방법에서 word를 item으로 치환하면, item2vec으로 활용할 수 있음 (많은 추천시스템에서 활용하는 방법)\n",
    "    2. 단, 이 방법은 데이터의 meta-data가 하나의 축으로 이루어진 단어에서와 달리, 영화처럼 multi-axis meta-data를 가진 데이터에서는 완전한 표현이라고 볼 수 없음 (ex. 장르, 감독 등등의 정보)\n",
    "    3. 또한 item2vec 메커니즘을 추천시스템에 활용하면 필연적으로 cold-start 문제가 발생할 수 있음\n",
    "    4. `Cold-start Problem` : 새로운 유저나 새로운 아이템을 대상으로 추천하게 될 때, 기존 학습모델에서는 등장한 적 없는 데이터이기 때문에 추천 대상으로 포함되기 어려운 현상\n",
    "    5. 임베딩 기반 추천에서 cold-start를 극복하는 방법은 여러가지가 있지만, 그 중에서 가장 적용하기 간단하면서도 중요한 개념을 담고 있는 meta-prod2vec을 활용\n",
    "    6. 자세한 내용 : https://arxiv.org/pdf/1607.07326.pdf\n",
    "\n",
    "![meta-prod2vec](https://image.slidesharecdn.com/metaprod2vec-161007133531/95/metaprod2vec-simple-product-embeddings-with-sideinformation-36-638.jpg?cb=1475847427)"
   ]
  },
  {
   "cell_type": "markdown",
   "metadata": {
    "id": "OxCZryRrfi8Y"
   },
   "source": [
    "### 문제 1. 데이터 불러오기"
   ]
  },
  {
   "cell_type": "code",
   "execution_count": 1,
   "metadata": {
    "ExecuteTime": {
     "end_time": "2022-08-31T13:34:21.329947Z",
     "start_time": "2022-08-31T13:34:21.326934Z"
    }
   },
   "outputs": [],
   "source": [
    "import warnings\n",
    "warnings.filterwarnings('ignore')"
   ]
  },
  {
   "cell_type": "code",
   "execution_count": 2,
   "metadata": {
    "ExecuteTime": {
     "end_time": "2022-08-31T13:34:35.352263Z",
     "start_time": "2022-08-31T13:34:21.332670Z"
    },
    "id": "anUepBeJfi8V"
   },
   "outputs": [],
   "source": [
    "import pandas as pd\n",
    "\n",
    "rating_url = 'https://raw.githubusercontent.com/yoonkt200/python-data-analysis/master/data/ml-1m/ratings.dat'\n",
    "rating_df = pd.io.parsers.read_csv(rating_url, names=['user_id', 'movie_id', 'rating', 'time'], delimiter='::', engine ='python')\n",
    "\n",
    "movie_url = 'https://raw.githubusercontent.com/yoonkt200/python-data-analysis/master/data/ml-1m/movies.dat'\n",
    "movie_df = pd.io.parsers.read_csv(movie_url, names=['movie_id', 'title', 'genre'], delimiter='::', engine ='python', encoding='ISO-8859-1')\n",
    "\n",
    "user_url = 'https://raw.githubusercontent.com/yoonkt200/python-data-analysis/master/data/ml-1m/users.dat'\n",
    "user_df = pd.io.parsers.read_csv(user_url, names=['user_id', 'gender', 'age', 'occupation', 'zipcode'], delimiter='::', engine ='python')"
   ]
  },
  {
   "cell_type": "code",
   "execution_count": 3,
   "metadata": {
    "ExecuteTime": {
     "end_time": "2022-08-31T13:34:35.372088Z",
     "start_time": "2022-08-31T13:34:35.353826Z"
    }
   },
   "outputs": [
    {
     "name": "stdout",
     "output_type": "stream",
     "text": [
      "Rating\n"
     ]
    },
    {
     "data": {
      "text/html": [
       "<div>\n",
       "<style scoped>\n",
       "    .dataframe tbody tr th:only-of-type {\n",
       "        vertical-align: middle;\n",
       "    }\n",
       "\n",
       "    .dataframe tbody tr th {\n",
       "        vertical-align: top;\n",
       "    }\n",
       "\n",
       "    .dataframe thead th {\n",
       "        text-align: right;\n",
       "    }\n",
       "</style>\n",
       "<table border=\"1\" class=\"dataframe\">\n",
       "  <thead>\n",
       "    <tr style=\"text-align: right;\">\n",
       "      <th></th>\n",
       "      <th>user_id</th>\n",
       "      <th>movie_id</th>\n",
       "      <th>rating</th>\n",
       "      <th>time</th>\n",
       "    </tr>\n",
       "  </thead>\n",
       "  <tbody>\n",
       "    <tr>\n",
       "      <th>0</th>\n",
       "      <td>1</td>\n",
       "      <td>1193</td>\n",
       "      <td>5</td>\n",
       "      <td>978300760</td>\n",
       "    </tr>\n",
       "    <tr>\n",
       "      <th>1</th>\n",
       "      <td>1</td>\n",
       "      <td>661</td>\n",
       "      <td>3</td>\n",
       "      <td>978302109</td>\n",
       "    </tr>\n",
       "  </tbody>\n",
       "</table>\n",
       "</div>"
      ],
      "text/plain": [
       "   user_id  movie_id  rating       time\n",
       "0        1      1193       5  978300760\n",
       "1        1       661       3  978302109"
      ]
     },
     "metadata": {},
     "output_type": "display_data"
    },
    {
     "name": "stdout",
     "output_type": "stream",
     "text": [
      "Movie\n"
     ]
    },
    {
     "data": {
      "text/html": [
       "<div>\n",
       "<style scoped>\n",
       "    .dataframe tbody tr th:only-of-type {\n",
       "        vertical-align: middle;\n",
       "    }\n",
       "\n",
       "    .dataframe tbody tr th {\n",
       "        vertical-align: top;\n",
       "    }\n",
       "\n",
       "    .dataframe thead th {\n",
       "        text-align: right;\n",
       "    }\n",
       "</style>\n",
       "<table border=\"1\" class=\"dataframe\">\n",
       "  <thead>\n",
       "    <tr style=\"text-align: right;\">\n",
       "      <th></th>\n",
       "      <th>movie_id</th>\n",
       "      <th>title</th>\n",
       "      <th>genre</th>\n",
       "    </tr>\n",
       "  </thead>\n",
       "  <tbody>\n",
       "    <tr>\n",
       "      <th>0</th>\n",
       "      <td>1</td>\n",
       "      <td>Toy Story (1995)</td>\n",
       "      <td>Animation|Children's|Comedy</td>\n",
       "    </tr>\n",
       "    <tr>\n",
       "      <th>1</th>\n",
       "      <td>2</td>\n",
       "      <td>Jumanji (1995)</td>\n",
       "      <td>Adventure|Children's|Fantasy</td>\n",
       "    </tr>\n",
       "  </tbody>\n",
       "</table>\n",
       "</div>"
      ],
      "text/plain": [
       "   movie_id             title                         genre\n",
       "0         1  Toy Story (1995)   Animation|Children's|Comedy\n",
       "1         2    Jumanji (1995)  Adventure|Children's|Fantasy"
      ]
     },
     "metadata": {},
     "output_type": "display_data"
    },
    {
     "name": "stdout",
     "output_type": "stream",
     "text": [
      "User\n"
     ]
    },
    {
     "data": {
      "text/html": [
       "<div>\n",
       "<style scoped>\n",
       "    .dataframe tbody tr th:only-of-type {\n",
       "        vertical-align: middle;\n",
       "    }\n",
       "\n",
       "    .dataframe tbody tr th {\n",
       "        vertical-align: top;\n",
       "    }\n",
       "\n",
       "    .dataframe thead th {\n",
       "        text-align: right;\n",
       "    }\n",
       "</style>\n",
       "<table border=\"1\" class=\"dataframe\">\n",
       "  <thead>\n",
       "    <tr style=\"text-align: right;\">\n",
       "      <th></th>\n",
       "      <th>user_id</th>\n",
       "      <th>gender</th>\n",
       "      <th>age</th>\n",
       "      <th>occupation</th>\n",
       "      <th>zipcode</th>\n",
       "    </tr>\n",
       "  </thead>\n",
       "  <tbody>\n",
       "    <tr>\n",
       "      <th>0</th>\n",
       "      <td>1</td>\n",
       "      <td>F</td>\n",
       "      <td>1</td>\n",
       "      <td>10</td>\n",
       "      <td>48067</td>\n",
       "    </tr>\n",
       "    <tr>\n",
       "      <th>1</th>\n",
       "      <td>2</td>\n",
       "      <td>M</td>\n",
       "      <td>56</td>\n",
       "      <td>16</td>\n",
       "      <td>70072</td>\n",
       "    </tr>\n",
       "  </tbody>\n",
       "</table>\n",
       "</div>"
      ],
      "text/plain": [
       "   user_id gender  age  occupation zipcode\n",
       "0        1      F    1          10   48067\n",
       "1        2      M   56          16   70072"
      ]
     },
     "metadata": {},
     "output_type": "display_data"
    }
   ],
   "source": [
    "print('Rating')\n",
    "display(rating_df.head(2))\n",
    "print('Movie')\n",
    "display(movie_df.head(2))\n",
    "print('User')\n",
    "display(user_df.head(2))"
   ]
  },
  {
   "cell_type": "markdown",
   "metadata": {
    "id": "O6EUoRG3fi8Z"
   },
   "source": [
    "### 문제 2. EDA & 전처리 - 사용자별 시청 목록 추출"
   ]
  },
  {
   "cell_type": "code",
   "execution_count": 4,
   "metadata": {
    "ExecuteTime": {
     "end_time": "2022-08-31T13:34:36.230033Z",
     "start_time": "2022-08-31T13:34:35.373100Z"
    },
    "id": "q_thuiGNlQ0e"
   },
   "outputs": [
    {
     "data": {
      "text/plain": [
       "user_id\n",
       "1       [3186, 1721, 1022, 1270, 2340, 1836, 3408, 120...\n",
       "2       [1198, 1217, 1210, 2717, 1293, 2943, 1225, 119...\n",
       "3       [593, 2858, 3534, 1968, 1961, 1431, 1266, 1378...\n",
       "4       [1210, 1097, 3468, 3527, 480, 260, 1196, 1198,...\n",
       "5       [2717, 919, 908, 356, 1250, 2188, 2858, 1127, ...\n",
       "                              ...                        \n",
       "6036    [1721, 2376, 3438, 2428, 1883, 2492, 2827, 268...\n",
       "6037    [1882, 2028, 1267, 702, 3508, 562, 3148, 858, ...\n",
       "6038    [920, 3396, 1210, 2146, 356, 1387, 1079, 1148,...\n",
       "6039    [111, 282, 2067, 930, 1230, 3133, 3022, 947, 3...\n",
       "6040    [858, 2384, 593, 1961, 2019, 573, 3111, 3505, ...\n",
       "Length: 6040, dtype: object"
      ]
     },
     "execution_count": 4,
     "metadata": {},
     "output_type": "execute_result"
    }
   ],
   "source": [
    "# groupby, apply 함수로 사용자별 시청 목록 추출 \n",
    "def get_movie_list_sort_vy_time(x):\n",
    "    return x.sort_values(['time'])['movie_id'].tolist()\n",
    "\n",
    "user_watch_list = rating_df.groupby('user_id')[['movie_id', 'time']].apply(lambda x: get_movie_list_sort_vy_time(x))\n",
    "user_watch_list"
   ]
  },
  {
   "cell_type": "code",
   "execution_count": 5,
   "metadata": {
    "ExecuteTime": {
     "end_time": "2022-08-31T13:34:36.611570Z",
     "start_time": "2022-08-31T13:34:36.231021Z"
    }
   },
   "outputs": [
    {
     "name": "stdout",
     "output_type": "stream",
     "text": [
      "영화 개수 : 3706\n"
     ]
    },
    {
     "data": {
      "text/plain": [
       "<AxesSubplot:>"
      ]
     },
     "execution_count": 5,
     "metadata": {},
     "output_type": "execute_result"
    },
    {
     "data": {
      "image/png": "[encoded data removed]",
      "text/plain": [
       "<Figure size 432x288 with 1 Axes>"
      ]
     },
     "metadata": {
      "needs_background": "light"
     },
     "output_type": "display_data"
    }
   ],
   "source": [
    "print(f'영화 개수 : {rating_df[\"movie_id\"].nunique()}')\n",
    "\n",
    "rating_df['movie_id'].value_counts().hist(bins=100)"
   ]
  },
  {
   "cell_type": "markdown",
   "metadata": {
    "id": "VMdnS_mJfi8i"
   },
   "source": [
    "### 문제 3. EDA & 전처리 - 영화 개봉년도 피쳐 생성"
   ]
  },
  {
   "cell_type": "code",
   "execution_count": 6,
   "metadata": {
    "ExecuteTime": {
     "end_time": "2022-08-31T13:34:36.617258Z",
     "start_time": "2022-08-31T13:34:36.612587Z"
    },
    "colab": {
     "base_uri": "https://localhost:8080/",
     "height": 204
    },
    "executionInfo": {
     "elapsed": 9681,
     "status": "ok",
     "timestamp": 1609042051074,
     "user": {
      "displayName": "윤기태",
      "photoUrl": "https://lh3.googleusercontent.com/a-/AOh14GhjX4czjHvHYRaEdNzkkF2s-g0b57J74mP9aSZTyg=s64",
      "userId": "10622173580637109440"
     },
     "user_tz": -540
    },
    "id": "_IWsz3v1fi8g",
    "outputId": "63a1b3a2-8714-4f17-dbe1-216b7ccba0fc"
   },
   "outputs": [
    {
     "data": {
      "text/html": [
       "<div>\n",
       "<style scoped>\n",
       "    .dataframe tbody tr th:only-of-type {\n",
       "        vertical-align: middle;\n",
       "    }\n",
       "\n",
       "    .dataframe tbody tr th {\n",
       "        vertical-align: top;\n",
       "    }\n",
       "\n",
       "    .dataframe thead th {\n",
       "        text-align: right;\n",
       "    }\n",
       "</style>\n",
       "<table border=\"1\" class=\"dataframe\">\n",
       "  <thead>\n",
       "    <tr style=\"text-align: right;\">\n",
       "      <th></th>\n",
       "      <th>movie_id</th>\n",
       "      <th>title</th>\n",
       "      <th>genre</th>\n",
       "    </tr>\n",
       "  </thead>\n",
       "  <tbody>\n",
       "    <tr>\n",
       "      <th>0</th>\n",
       "      <td>1</td>\n",
       "      <td>Toy Story (1995)</td>\n",
       "      <td>Animation|Children's|Comedy</td>\n",
       "    </tr>\n",
       "    <tr>\n",
       "      <th>1</th>\n",
       "      <td>2</td>\n",
       "      <td>Jumanji (1995)</td>\n",
       "      <td>Adventure|Children's|Fantasy</td>\n",
       "    </tr>\n",
       "    <tr>\n",
       "      <th>2</th>\n",
       "      <td>3</td>\n",
       "      <td>Grumpier Old Men (1995)</td>\n",
       "      <td>Comedy|Romance</td>\n",
       "    </tr>\n",
       "    <tr>\n",
       "      <th>3</th>\n",
       "      <td>4</td>\n",
       "      <td>Waiting to Exhale (1995)</td>\n",
       "      <td>Comedy|Drama</td>\n",
       "    </tr>\n",
       "    <tr>\n",
       "      <th>4</th>\n",
       "      <td>5</td>\n",
       "      <td>Father of the Bride Part II (1995)</td>\n",
       "      <td>Comedy</td>\n",
       "    </tr>\n",
       "  </tbody>\n",
       "</table>\n",
       "</div>"
      ],
      "text/plain": [
       "   movie_id                               title                         genre\n",
       "0         1                    Toy Story (1995)   Animation|Children's|Comedy\n",
       "1         2                      Jumanji (1995)  Adventure|Children's|Fantasy\n",
       "2         3             Grumpier Old Men (1995)                Comedy|Romance\n",
       "3         4            Waiting to Exhale (1995)                  Comedy|Drama\n",
       "4         5  Father of the Bride Part II (1995)                        Comedy"
      ]
     },
     "execution_count": 6,
     "metadata": {},
     "output_type": "execute_result"
    }
   ],
   "source": [
    "movie_df.head()"
   ]
  },
  {
   "cell_type": "code",
   "execution_count": 7,
   "metadata": {
    "ExecuteTime": {
     "end_time": "2022-08-31T13:34:36.628287Z",
     "start_time": "2022-08-31T13:34:36.619690Z"
    },
    "executionInfo": {
     "elapsed": 1209,
     "status": "ok",
     "timestamp": 1610517504659,
     "user": {
      "displayName": "윤기태",
      "photoUrl": "https://lh3.googleusercontent.com/a-/AOh14GhjX4czjHvHYRaEdNzkkF2s-g0b57J74mP9aSZTyg=s64",
      "userId": "10622173580637109440"
     },
     "user_tz": -540
    },
    "id": "XZkIJUvWqraa"
   },
   "outputs": [
    {
     "data": {
      "text/html": [
       "<div>\n",
       "<style scoped>\n",
       "    .dataframe tbody tr th:only-of-type {\n",
       "        vertical-align: middle;\n",
       "    }\n",
       "\n",
       "    .dataframe tbody tr th {\n",
       "        vertical-align: top;\n",
       "    }\n",
       "\n",
       "    .dataframe thead th {\n",
       "        text-align: right;\n",
       "    }\n",
       "</style>\n",
       "<table border=\"1\" class=\"dataframe\">\n",
       "  <thead>\n",
       "    <tr style=\"text-align: right;\">\n",
       "      <th></th>\n",
       "      <th>movie_id</th>\n",
       "      <th>title</th>\n",
       "      <th>genre</th>\n",
       "      <th>released_year_area</th>\n",
       "    </tr>\n",
       "  </thead>\n",
       "  <tbody>\n",
       "    <tr>\n",
       "      <th>0</th>\n",
       "      <td>1</td>\n",
       "      <td>Toy Story (1995)</td>\n",
       "      <td>Animation|Children's|Comedy</td>\n",
       "      <td>1995</td>\n",
       "    </tr>\n",
       "    <tr>\n",
       "      <th>1</th>\n",
       "      <td>2</td>\n",
       "      <td>Jumanji (1995)</td>\n",
       "      <td>Adventure|Children's|Fantasy</td>\n",
       "      <td>1995</td>\n",
       "    </tr>\n",
       "    <tr>\n",
       "      <th>2</th>\n",
       "      <td>3</td>\n",
       "      <td>Grumpier Old Men (1995)</td>\n",
       "      <td>Comedy|Romance</td>\n",
       "      <td>1995</td>\n",
       "    </tr>\n",
       "  </tbody>\n",
       "</table>\n",
       "</div>"
      ],
      "text/plain": [
       "   movie_id                    title                         genre  \\\n",
       "0         1         Toy Story (1995)   Animation|Children's|Comedy   \n",
       "1         2           Jumanji (1995)  Adventure|Children's|Fantasy   \n",
       "2         3  Grumpier Old Men (1995)                Comedy|Romance   \n",
       "\n",
       "   released_year_area  \n",
       "0                1995  \n",
       "1                1995  \n",
       "2                1995  "
      ]
     },
     "execution_count": 7,
     "metadata": {},
     "output_type": "execute_result"
    }
   ],
   "source": [
    "# title 피처에서 개봉 년도 (ex. 1990, 2000...) 분리\n",
    "\n",
    "movie_df['released_year_area'] = movie_df['title'].apply(lambda x: int(x[-5:].split(')')[0]))\n",
    "movie_df.head(3)"
   ]
  },
  {
   "cell_type": "code",
   "execution_count": 8,
   "metadata": {
    "ExecuteTime": {
     "end_time": "2022-08-31T13:34:37.458322Z",
     "start_time": "2022-08-31T13:34:36.630193Z"
    },
    "executionInfo": {
     "elapsed": 1614,
     "status": "ok",
     "timestamp": 1610517546014,
     "user": {
      "displayName": "윤기태",
      "photoUrl": "https://lh3.googleusercontent.com/a-/AOh14GhjX4czjHvHYRaEdNzkkF2s-g0b57J74mP9aSZTyg=s64",
      "userId": "10622173580637109440"
     },
     "user_tz": -540
    },
    "id": "gOi0_th5smr8"
   },
   "outputs": [
    {
     "data": {
      "image/png": "[encoded data removed]",
      "text/plain": [
       "<Figure size 1440x864 with 1 Axes>"
      ]
     },
     "metadata": {
      "needs_background": "light"
     },
     "output_type": "display_data"
    }
   ],
   "source": [
    "import seaborn as sns\n",
    "import matplotlib.pyplot as plt\n",
    "\n",
    "# sns.barplot으로 개봉 년도별 영화 갯수 시각화\n",
    "released_year_area = movie_df['released_year_area'].value_counts().sort_index()\n",
    "\n",
    "plt.figure(figsize=(20, 12))\n",
    "sns.barplot(x=released_year_area.index, y=released_year_area.values)\n",
    "plt.xticks(rotation=90)\n",
    "plt.hlines(y=released_year_area.mean(), xmin=0, xmax=len(released_year_area))\n",
    "plt.show()"
   ]
  },
  {
   "cell_type": "markdown",
   "metadata": {
    "id": "kU-ADcR81zRo"
   },
   "source": [
    "### 문제 4. EDA & 전처리 - 영화 장르 피쳐 생성"
   ]
  },
  {
   "cell_type": "code",
   "execution_count": 9,
   "metadata": {
    "ExecuteTime": {
     "end_time": "2022-08-31T13:34:37.579891Z",
     "start_time": "2022-08-31T13:34:37.459340Z"
    },
    "colab": {
     "base_uri": "https://localhost:8080/"
    },
    "executionInfo": {
     "elapsed": 731,
     "status": "ok",
     "timestamp": 1609042061681,
     "user": {
      "displayName": "윤기태",
      "photoUrl": "https://lh3.googleusercontent.com/a-/AOh14GhjX4czjHvHYRaEdNzkkF2s-g0b57J74mP9aSZTyg=s64",
      "userId": "10622173580637109440"
     },
     "user_tz": -540
    },
    "id": "DcLGYDO6134D",
    "outputId": "1c987a6f-5173-4965-ae55-bfd65bc6cb1b"
   },
   "outputs": [
    {
     "data": {
      "text/plain": [
       "<AxesSubplot:>"
      ]
     },
     "execution_count": 9,
     "metadata": {},
     "output_type": "execute_result"
    },
    {
     "data": {
      "image/png": "[encoded data removed]",
      "text/plain": [
       "<Figure size 432x288 with 1 Axes>"
      ]
     },
     "metadata": {
      "needs_background": "light"
     },
     "output_type": "display_data"
    }
   ],
   "source": [
    "movie_df['genre'].value_counts().hist(bins=100) # 대부분이 장르가 1개"
   ]
  },
  {
   "cell_type": "code",
   "execution_count": 10,
   "metadata": {
    "ExecuteTime": {
     "end_time": "2022-08-31T13:34:37.585863Z",
     "start_time": "2022-08-31T13:34:37.581190Z"
    },
    "executionInfo": {
     "elapsed": 754,
     "status": "ok",
     "timestamp": 1610517593152,
     "user": {
      "displayName": "윤기태",
      "photoUrl": "https://lh3.googleusercontent.com/a-/AOh14GhjX4czjHvHYRaEdNzkkF2s-g0b57J74mP9aSZTyg=s64",
      "userId": "10622173580637109440"
     },
     "user_tz": -540
    },
    "id": "8_A_F15zuTgo"
   },
   "outputs": [
    {
     "name": "stdout",
     "output_type": "stream",
     "text": [
      "Drama          1176\n",
      "Comedy         1024\n",
      "Action          503\n",
      "Horror          262\n",
      "Adventure       155\n",
      "Crime           131\n",
      "Documentary     123\n",
      "Thriller        101\n",
      "Animation        90\n",
      "Children's       89\n",
      "Romance          50\n",
      "Sci-Fi           46\n",
      "Mystery          36\n",
      "Western          33\n",
      "Musical          25\n",
      "Film-Noir        25\n",
      "War              12\n",
      "Fantasy           2\n",
      "Name: main_genre, dtype: int64\n"
     ]
    }
   ],
   "source": [
    "# genre 피처에서 영화의 대표 장르 추출\n",
    "movie_df['main_genre'] = movie_df['genre'].map(lambda x: x.split('|')[0])\n",
    "print(movie_df['main_genre'].value_counts())"
   ]
  },
  {
   "cell_type": "markdown",
   "metadata": {
    "id": "nFu61UX8UI_Y"
   },
   "source": [
    "### 문제 5. Embedding - EDA 결과를 활용하여 Movie2Vec 학습"
   ]
  },
  {
   "cell_type": "code",
   "execution_count": 11,
   "metadata": {
    "ExecuteTime": {
     "end_time": "2022-08-31T13:34:37.591863Z",
     "start_time": "2022-08-31T13:34:37.586874Z"
    },
    "colab": {
     "base_uri": "https://localhost:8080/",
     "height": 204
    },
    "executionInfo": {
     "elapsed": 589,
     "status": "ok",
     "timestamp": 1609042064753,
     "user": {
      "displayName": "윤기태",
      "photoUrl": "https://lh3.googleusercontent.com/a-/AOh14GhjX4czjHvHYRaEdNzkkF2s-g0b57J74mP9aSZTyg=s64",
      "userId": "10622173580637109440"
     },
     "user_tz": -540
    },
    "id": "XzK3cR10zJ5S",
    "outputId": "268a21f5-5785-4833-9053-946e52a9da8b"
   },
   "outputs": [
    {
     "data": {
      "text/html": [
       "<div>\n",
       "<style scoped>\n",
       "    .dataframe tbody tr th:only-of-type {\n",
       "        vertical-align: middle;\n",
       "    }\n",
       "\n",
       "    .dataframe tbody tr th {\n",
       "        vertical-align: top;\n",
       "    }\n",
       "\n",
       "    .dataframe thead th {\n",
       "        text-align: right;\n",
       "    }\n",
       "</style>\n",
       "<table border=\"1\" class=\"dataframe\">\n",
       "  <thead>\n",
       "    <tr style=\"text-align: right;\">\n",
       "      <th></th>\n",
       "      <th>movie_id</th>\n",
       "      <th>title</th>\n",
       "      <th>genre</th>\n",
       "      <th>released_year_area</th>\n",
       "      <th>main_genre</th>\n",
       "    </tr>\n",
       "  </thead>\n",
       "  <tbody>\n",
       "    <tr>\n",
       "      <th>0</th>\n",
       "      <td>1</td>\n",
       "      <td>Toy Story (1995)</td>\n",
       "      <td>Animation|Children's|Comedy</td>\n",
       "      <td>1995</td>\n",
       "      <td>Animation</td>\n",
       "    </tr>\n",
       "    <tr>\n",
       "      <th>1</th>\n",
       "      <td>2</td>\n",
       "      <td>Jumanji (1995)</td>\n",
       "      <td>Adventure|Children's|Fantasy</td>\n",
       "      <td>1995</td>\n",
       "      <td>Adventure</td>\n",
       "    </tr>\n",
       "    <tr>\n",
       "      <th>2</th>\n",
       "      <td>3</td>\n",
       "      <td>Grumpier Old Men (1995)</td>\n",
       "      <td>Comedy|Romance</td>\n",
       "      <td>1995</td>\n",
       "      <td>Comedy</td>\n",
       "    </tr>\n",
       "    <tr>\n",
       "      <th>3</th>\n",
       "      <td>4</td>\n",
       "      <td>Waiting to Exhale (1995)</td>\n",
       "      <td>Comedy|Drama</td>\n",
       "      <td>1995</td>\n",
       "      <td>Comedy</td>\n",
       "    </tr>\n",
       "    <tr>\n",
       "      <th>4</th>\n",
       "      <td>5</td>\n",
       "      <td>Father of the Bride Part II (1995)</td>\n",
       "      <td>Comedy</td>\n",
       "      <td>1995</td>\n",
       "      <td>Comedy</td>\n",
       "    </tr>\n",
       "  </tbody>\n",
       "</table>\n",
       "</div>"
      ],
      "text/plain": [
       "   movie_id                               title                         genre  \\\n",
       "0         1                    Toy Story (1995)   Animation|Children's|Comedy   \n",
       "1         2                      Jumanji (1995)  Adventure|Children's|Fantasy   \n",
       "2         3             Grumpier Old Men (1995)                Comedy|Romance   \n",
       "3         4            Waiting to Exhale (1995)                  Comedy|Drama   \n",
       "4         5  Father of the Bride Part II (1995)                        Comedy   \n",
       "\n",
       "   released_year_area main_genre  \n",
       "0                1995  Animation  \n",
       "1                1995  Adventure  \n",
       "2                1995     Comedy  \n",
       "3                1995     Comedy  \n",
       "4                1995     Comedy  "
      ]
     },
     "execution_count": 11,
     "metadata": {},
     "output_type": "execute_result"
    }
   ],
   "source": [
    "movie_df.head()"
   ]
  },
  {
   "cell_type": "code",
   "execution_count": 12,
   "metadata": {
    "ExecuteTime": {
     "end_time": "2022-08-31T13:34:37.597629Z",
     "start_time": "2022-08-31T13:34:37.592868Z"
    },
    "executionInfo": {
     "elapsed": 1030,
     "status": "ok",
     "timestamp": 1610517689536,
     "user": {
      "displayName": "윤기태",
      "photoUrl": "https://lh3.googleusercontent.com/a-/AOh14GhjX4czjHvHYRaEdNzkkF2s-g0b57J74mP9aSZTyg=s64",
      "userId": "10622173580637109440"
     },
     "user_tz": -540
    },
    "id": "fYa5fBjQUTP5"
   },
   "outputs": [],
   "source": [
    "# movie_meta_dict 생성\n",
    "\n",
    "# ex.\n",
    "# {'main_genre': {1: 'Animation',\n",
    "#   2: 'Adventure',\n",
    "#   3: 'Comedy',\n",
    "#   4: 'Comedy',\n",
    "#   5: 'Comedy',\n",
    "#   ...\n",
    "#   'released_year_area': {...},\n",
    "#   ...\n",
    "# }\n",
    "\n",
    "movie_meta_dict = movie_df.set_index('movie_id')[['released_year_area', 'main_genre']].to_dict()"
   ]
  },
  {
   "cell_type": "code",
   "execution_count": 13,
   "metadata": {
    "ExecuteTime": {
     "end_time": "2022-08-31T13:34:38.489127Z",
     "start_time": "2022-08-31T13:34:37.598662Z"
    },
    "id": "4TEgooeckYOz"
   },
   "outputs": [],
   "source": [
    "# Gensim을 활용한 meta-prod2vec을 학습할 수 있는 데이터셋 생성\n",
    "\n",
    "# ex. [['movie_id:3186', 'year:1990', 'genre:Drama', 'movie_id:1721', \n",
    "#       'year:1990', 'genre:Drama', 'movie_id:1022', 'year:1950', \n",
    "#       'genre:Animation', 'movie_id:1270', 'year:1980', 'genre:Comedy', 'movie_id:2340'...]]\n",
    "movie2vec_dataset = []\n",
    "for movie_list in user_watch_list:\n",
    "    meta_list = []\n",
    "    for movie_id in movie_list:\n",
    "        word_meta_1 = 'movie_id:' + str(movie_id)\n",
    "        word_meta_2 = 'year:' + str(movie_meta_dict['released_year_area'][movie_id])\n",
    "        word_meta_3 = 'genre:' + str(movie_meta_dict['main_genre'][movie_id])\n",
    "        meta_list.append(word_meta_1)\n",
    "        meta_list.append(word_meta_2)\n",
    "        meta_list.append(word_meta_3)\n",
    "    movie2vec_dataset.append(meta_list)"
   ]
  },
  {
   "cell_type": "code",
   "execution_count": null,
   "metadata": {},
   "outputs": [],
   "source": [
    "# from gensim.models import Word2Vec\n",
    "\n",
    "# model = Word2Vec(movie2vec_dataset,\n",
    "#                  size=100,\n",
    "#                  window=6,  # 주변 word의 윈도우\n",
    "#                  sg=1,  # skip-gram OR cbow\n",
    "#                  hs=0,  # hierarchical softmax OR negative sampling\n",
    "#                  negative=20,  # negative sampling 파라미터\n",
    "#                  min_count=1,  # word의 등장 최소 횟수\n",
    "#                  iter=20)"
   ]
  },
  {
   "cell_type": "code",
   "execution_count": 14,
   "metadata": {
    "ExecuteTime": {
     "end_time": "2022-08-31T13:34:38.493032Z",
     "start_time": "2022-08-31T13:34:38.490122Z"
    }
   },
   "outputs": [
    {
     "name": "stdout",
     "output_type": "stream",
     "text": [
      "6942\n"
     ]
    }
   ],
   "source": [
    "max_leng = 0\n",
    "for i in movie2vec_dataset:a\n",
    "    if len(i) > max_leng:\n",
    "        max_leng = len(i)\n",
    "    else:\n",
    "        continue\n",
    "        \n",
    "print(max_leng)"
   ]
  },
  {
   "cell_type": "code",
   "execution_count": 15,
   "metadata": {
    "ExecuteTime": {
     "end_time": "2022-08-31T13:34:38.495210Z",
     "start_time": "2022-08-31T13:34:38.493937Z"
    },
    "colab": {
     "base_uri": "https://localhost:8080/"
    },
    "executionInfo": {
     "elapsed": 4056,
     "status": "ok",
     "timestamp": 1609042083951,
     "user": {
      "displayName": "윤기태",
      "photoUrl": "https://lh3.googleusercontent.com/a-/AOh14GhjX4czjHvHYRaEdNzkkF2s-g0b57J74mP9aSZTyg=s64",
      "userId": "10622173580637109440"
     },
     "user_tz": -540
    },
    "id": "1bPzDPI-3v_D",
    "outputId": "5f2e6b18-7636-466e-f900-3f1dea8efc57"
   },
   "outputs": [],
   "source": [
    "# !pip install gensim"
   ]
  },
  {
   "cell_type": "code",
   "execution_count": 91,
   "metadata": {
    "ExecuteTime": {
     "end_time": "2022-08-31T14:42:42.067207Z",
     "start_time": "2022-08-31T14:42:42.053994Z"
    }
   },
   "outputs": [
    {
     "data": {
      "text/plain": [
       "['movie_id:3186',\n",
       " 'year:1999',\n",
       " 'genre:Drama',\n",
       " 'movie_id:1721',\n",
       " 'year:1997',\n",
       " 'genre:Drama',\n",
       " 'movie_id:1022',\n",
       " 'year:1950',\n",
       " 'genre:Animation',\n",
       " 'movie_id:1270',\n",
       " 'year:1985',\n",
       " 'genre:Comedy',\n",
       " 'movie_id:2340',\n",
       " 'year:1998',\n",
       " 'genre:Romance',\n",
       " 'movie_id:1836',\n",
       " 'year:1998',\n",
       " 'genre:Drama',\n",
       " 'movie_id:3408',\n",
       " 'year:2000',\n",
       " 'genre:Drama',\n",
       " 'movie_id:1207',\n",
       " 'year:1962',\n",
       " 'genre:Drama',\n",
       " 'movie_id:2804',\n",
       " 'year:1983',\n",
       " 'genre:Comedy',\n",
       " 'movie_id:720',\n",
       " 'year:1996',\n",
       " 'genre:Animation',\n",
       " 'movie_id:1193',\n",
       " 'year:1975',\n",
       " 'genre:Drama',\n",
       " 'movie_id:260',\n",
       " 'year:1977',\n",
       " 'genre:Action',\n",
       " 'movie_id:919',\n",
       " 'year:1939',\n",
       " 'genre:Adventure',\n",
       " 'movie_id:608',\n",
       " 'year:1996',\n",
       " 'genre:Crime',\n",
       " 'movie_id:2692',\n",
       " 'year:1998',\n",
       " 'genre:Action',\n",
       " 'movie_id:1961',\n",
       " 'year:1988',\n",
       " 'genre:Drama',\n",
       " 'movie_id:2028',\n",
       " 'year:1998',\n",
       " 'genre:Action',\n",
       " 'movie_id:3105',\n",
       " 'year:1990',\n",
       " 'genre:Drama',\n",
       " 'movie_id:938',\n",
       " 'year:1958',\n",
       " 'genre:Musical',\n",
       " 'movie_id:1962',\n",
       " 'year:1989',\n",
       " 'genre:Drama',\n",
       " 'movie_id:1035',\n",
       " 'year:1965',\n",
       " 'genre:Musical',\n",
       " 'movie_id:150',\n",
       " 'year:1995',\n",
       " 'genre:Drama',\n",
       " 'movie_id:2018',\n",
       " 'year:1942',\n",
       " 'genre:Animation',\n",
       " 'movie_id:1028',\n",
       " 'year:1964',\n",
       " \"genre:Children's\",\n",
       " 'movie_id:1097',\n",
       " 'year:1982',\n",
       " \"genre:Children's\",\n",
       " 'movie_id:914',\n",
       " 'year:1964',\n",
       " 'genre:Musical',\n",
       " 'movie_id:2797',\n",
       " 'year:1988',\n",
       " 'genre:Comedy',\n",
       " 'movie_id:1287',\n",
       " 'year:1959',\n",
       " 'genre:Action',\n",
       " 'movie_id:2762',\n",
       " 'year:1999',\n",
       " 'genre:Thriller',\n",
       " 'movie_id:1246',\n",
       " 'year:1989',\n",
       " 'genre:Drama',\n",
       " 'movie_id:661',\n",
       " 'year:1996',\n",
       " 'genre:Animation',\n",
       " 'movie_id:2918',\n",
       " 'year:1986',\n",
       " 'genre:Comedy',\n",
       " 'movie_id:531',\n",
       " 'year:1993',\n",
       " \"genre:Children's\",\n",
       " 'movie_id:3114',\n",
       " 'year:1999',\n",
       " 'genre:Animation',\n",
       " 'movie_id:2791',\n",
       " 'year:1980',\n",
       " 'genre:Comedy',\n",
       " 'movie_id:1029',\n",
       " 'year:1941',\n",
       " 'genre:Animation',\n",
       " 'movie_id:2321',\n",
       " 'year:1998',\n",
       " 'genre:Comedy',\n",
       " 'movie_id:1197',\n",
       " 'year:1987',\n",
       " 'genre:Action',\n",
       " 'movie_id:594',\n",
       " 'year:1937',\n",
       " 'genre:Animation',\n",
       " 'movie_id:2398',\n",
       " 'year:1947',\n",
       " 'genre:Drama',\n",
       " 'movie_id:1545',\n",
       " 'year:1996',\n",
       " 'genre:Drama',\n",
       " 'movie_id:527',\n",
       " 'year:1993',\n",
       " 'genre:Drama',\n",
       " 'movie_id:1',\n",
       " 'year:1995',\n",
       " 'genre:Animation',\n",
       " 'movie_id:588',\n",
       " 'year:1992',\n",
       " 'genre:Animation',\n",
       " 'movie_id:2687',\n",
       " 'year:1999',\n",
       " 'genre:Animation',\n",
       " 'movie_id:745',\n",
       " 'year:1995',\n",
       " 'genre:Animation',\n",
       " 'movie_id:595',\n",
       " 'year:1991',\n",
       " 'genre:Animation',\n",
       " 'movie_id:2294',\n",
       " 'year:1998',\n",
       " 'genre:Animation',\n",
       " 'movie_id:783',\n",
       " 'year:1996',\n",
       " 'genre:Animation',\n",
       " 'movie_id:2355',\n",
       " 'year:1998',\n",
       " 'genre:Animation',\n",
       " 'movie_id:1907',\n",
       " 'year:1998',\n",
       " 'genre:Animation',\n",
       " 'movie_id:1566',\n",
       " 'year:1997',\n",
       " 'genre:Adventure',\n",
       " 'movie_id:48',\n",
       " 'year:1995',\n",
       " 'genre:Animation']"
      ]
     },
     "execution_count": 91,
     "metadata": {},
     "output_type": "execute_result"
    }
   ],
   "source": [
    "movie2vec_dataset[0]"
   ]
  },
  {
   "cell_type": "code",
   "execution_count": 17,
   "metadata": {
    "ExecuteTime": {
     "end_time": "2022-08-31T13:40:08.044928Z",
     "start_time": "2022-08-31T13:34:38.500059Z"
    },
    "id": "AqEsApb-1wXe"
   },
   "outputs": [],
   "source": [
    "from gensim.models import Word2Vec\n",
    "\n",
    "model = Word2Vec(movie2vec_dataset,\n",
    "                 vector_size=100, \n",
    "                 window=7,  # 주변 word의 윈도우\n",
    "                 sg=1,  # skip-gram OR cbow\n",
    "                 hs=0,  # hierarchical softmax OR negative sampling\n",
    "                 negative=20,  # negative sampling 파라미터\n",
    "                 min_count=1,  # word의 등장 최소 횟수\n",
    "                 epochs=20)"
   ]
  },
  {
   "cell_type": "code",
   "execution_count": 18,
   "metadata": {
    "ExecuteTime": {
     "end_time": "2022-08-31T13:40:08.052599Z",
     "start_time": "2022-08-31T13:40:08.046652Z"
    }
   },
   "outputs": [],
   "source": [
    "model.save('movie2vec_model')"
   ]
  },
  {
   "cell_type": "markdown",
   "metadata": {
    "id": "6SCUvPciUUpj"
   },
   "source": [
    "### 문제 6. Embedding - 일부 데이터로 Movie2Vec 학습 결과 확인"
   ]
  },
  {
   "cell_type": "code",
   "execution_count": 19,
   "metadata": {
    "ExecuteTime": {
     "end_time": "2022-08-31T13:40:08.068253Z",
     "start_time": "2022-08-31T13:40:08.053721Z"
    }
   },
   "outputs": [
    {
     "data": {
      "text/html": [
       "<div>\n",
       "<style scoped>\n",
       "    .dataframe tbody tr th:only-of-type {\n",
       "        vertical-align: middle;\n",
       "    }\n",
       "\n",
       "    .dataframe tbody tr th {\n",
       "        vertical-align: top;\n",
       "    }\n",
       "\n",
       "    .dataframe thead th {\n",
       "        text-align: right;\n",
       "    }\n",
       "</style>\n",
       "<table border=\"1\" class=\"dataframe\">\n",
       "  <thead>\n",
       "    <tr style=\"text-align: right;\">\n",
       "      <th></th>\n",
       "      <th>movie_id</th>\n",
       "      <th>title</th>\n",
       "      <th>genre</th>\n",
       "      <th>released_year_area</th>\n",
       "      <th>main_genre</th>\n",
       "    </tr>\n",
       "  </thead>\n",
       "  <tbody>\n",
       "    <tr>\n",
       "      <th>0</th>\n",
       "      <td>1</td>\n",
       "      <td>Toy Story (1995)</td>\n",
       "      <td>Animation|Children's|Comedy</td>\n",
       "      <td>1995</td>\n",
       "      <td>Animation</td>\n",
       "    </tr>\n",
       "    <tr>\n",
       "      <th>1</th>\n",
       "      <td>2</td>\n",
       "      <td>Jumanji (1995)</td>\n",
       "      <td>Adventure|Children's|Fantasy</td>\n",
       "      <td>1995</td>\n",
       "      <td>Adventure</td>\n",
       "    </tr>\n",
       "    <tr>\n",
       "      <th>2</th>\n",
       "      <td>3</td>\n",
       "      <td>Grumpier Old Men (1995)</td>\n",
       "      <td>Comedy|Romance</td>\n",
       "      <td>1995</td>\n",
       "      <td>Comedy</td>\n",
       "    </tr>\n",
       "    <tr>\n",
       "      <th>3</th>\n",
       "      <td>4</td>\n",
       "      <td>Waiting to Exhale (1995)</td>\n",
       "      <td>Comedy|Drama</td>\n",
       "      <td>1995</td>\n",
       "      <td>Comedy</td>\n",
       "    </tr>\n",
       "    <tr>\n",
       "      <th>4</th>\n",
       "      <td>5</td>\n",
       "      <td>Father of the Bride Part II (1995)</td>\n",
       "      <td>Comedy</td>\n",
       "      <td>1995</td>\n",
       "      <td>Comedy</td>\n",
       "    </tr>\n",
       "  </tbody>\n",
       "</table>\n",
       "</div>"
      ],
      "text/plain": [
       "   movie_id                               title                         genre  \\\n",
       "0         1                    Toy Story (1995)   Animation|Children's|Comedy   \n",
       "1         2                      Jumanji (1995)  Adventure|Children's|Fantasy   \n",
       "2         3             Grumpier Old Men (1995)                Comedy|Romance   \n",
       "3         4            Waiting to Exhale (1995)                  Comedy|Drama   \n",
       "4         5  Father of the Bride Part II (1995)                        Comedy   \n",
       "\n",
       "   released_year_area main_genre  \n",
       "0                1995  Animation  \n",
       "1                1995  Adventure  \n",
       "2                1995     Comedy  \n",
       "3                1995     Comedy  \n",
       "4                1995     Comedy  "
      ]
     },
     "execution_count": 19,
     "metadata": {},
     "output_type": "execute_result"
    }
   ],
   "source": [
    "movie_df.head()"
   ]
  },
  {
   "cell_type": "code",
   "execution_count": 20,
   "metadata": {
    "ExecuteTime": {
     "end_time": "2022-08-31T13:40:08.110077Z",
     "start_time": "2022-08-31T13:40:08.071450Z"
    },
    "executionInfo": {
     "elapsed": 1137,
     "status": "ok",
     "timestamp": 1610518024846,
     "user": {
      "displayName": "윤기태",
      "photoUrl": "https://lh3.googleusercontent.com/a-/AOh14GhjX4czjHvHYRaEdNzkkF2s-g0b57J74mP9aSZTyg=s64",
      "userId": "10622173580637109440"
     },
     "user_tz": -540
    },
    "id": "-jubUDxCRi7r"
   },
   "outputs": [
    {
     "data": {
      "text/plain": [
       "[('movie_id:3125', 0.8196754455566406),\n",
       " ('movie_id:3145', 0.8140808343887329),\n",
       " ('movie_id:3078', 0.7281928658485413),\n",
       " ('movie_id:3147', 0.7254190444946289),\n",
       " ('movie_id:2889', 0.7143061757087708)]"
      ]
     },
     "metadata": {},
     "output_type": "display_data"
    },
    {
     "data": {
      "text/html": [
       "<div>\n",
       "<style scoped>\n",
       "    .dataframe tbody tr th:only-of-type {\n",
       "        vertical-align: middle;\n",
       "    }\n",
       "\n",
       "    .dataframe tbody tr th {\n",
       "        vertical-align: top;\n",
       "    }\n",
       "\n",
       "    .dataframe thead th {\n",
       "        text-align: right;\n",
       "    }\n",
       "</style>\n",
       "<table border=\"1\" class=\"dataframe\">\n",
       "  <thead>\n",
       "    <tr style=\"text-align: right;\">\n",
       "      <th></th>\n",
       "      <th>Title</th>\n",
       "      <th>Similarity</th>\n",
       "    </tr>\n",
       "  </thead>\n",
       "  <tbody>\n",
       "    <tr>\n",
       "      <th>0</th>\n",
       "      <td>End of the Affair, The (1999)</td>\n",
       "      <td>0.819675</td>\n",
       "    </tr>\n",
       "    <tr>\n",
       "      <th>1</th>\n",
       "      <td>Cradle Will Rock, The (1999)</td>\n",
       "      <td>0.814081</td>\n",
       "    </tr>\n",
       "    <tr>\n",
       "      <th>2</th>\n",
       "      <td>Liberty Heights (1999)</td>\n",
       "      <td>0.728193</td>\n",
       "    </tr>\n",
       "    <tr>\n",
       "      <th>3</th>\n",
       "      <td>Green Mile, The (1999)</td>\n",
       "      <td>0.725419</td>\n",
       "    </tr>\n",
       "    <tr>\n",
       "      <th>4</th>\n",
       "      <td>Mystery, Alaska (1999)</td>\n",
       "      <td>0.714306</td>\n",
       "    </tr>\n",
       "  </tbody>\n",
       "</table>\n",
       "</div>"
      ],
      "text/plain": [
       "                           Title  Similarity\n",
       "0  End of the Affair, The (1999)    0.819675\n",
       "1   Cradle Will Rock, The (1999)    0.814081\n",
       "2         Liberty Heights (1999)    0.728193\n",
       "3         Green Mile, The (1999)    0.725419\n",
       "4         Mystery, Alaska (1999)    0.714306"
      ]
     },
     "execution_count": 20,
     "metadata": {},
     "output_type": "execute_result"
    }
   ],
   "source": [
    "# most_similar 함수로 학습 결과 확인\n",
    "display(model.wv.most_similar('movie_id:3186', topn=5))\n",
    "\n",
    "def similar_movie_title(x):\n",
    "    movie_titles = []\n",
    "    movie_similarities = []\n",
    "    for i in x:\n",
    "        movie_idx = int(i[0].split(':')[1])\n",
    "        movie_title = movie_df.loc[movie_df['movie_id'] == movie_idx, 'title'].values\n",
    "        movie_titles.append(movie_title[0])\n",
    "        movie_similarities.append(i[1])\n",
    "        df = pd.DataFrame({'Title' : movie_titles, 'Similarity' : movie_similarities})\n",
    "        \n",
    "    return df\n",
    "    \n",
    "\n",
    "similar_movie_title(model.wv.most_similar('movie_id:3186', topn=5))"
   ]
  },
  {
   "cell_type": "code",
   "execution_count": 21,
   "metadata": {
    "ExecuteTime": {
     "end_time": "2022-08-31T13:40:08.126349Z",
     "start_time": "2022-08-31T13:40:08.113578Z"
    }
   },
   "outputs": [
    {
     "data": {
      "text/html": [
       "<div>\n",
       "<style scoped>\n",
       "    .dataframe tbody tr th:only-of-type {\n",
       "        vertical-align: middle;\n",
       "    }\n",
       "\n",
       "    .dataframe tbody tr th {\n",
       "        vertical-align: top;\n",
       "    }\n",
       "\n",
       "    .dataframe thead th {\n",
       "        text-align: right;\n",
       "    }\n",
       "</style>\n",
       "<table border=\"1\" class=\"dataframe\">\n",
       "  <thead>\n",
       "    <tr style=\"text-align: right;\">\n",
       "      <th></th>\n",
       "      <th>Title</th>\n",
       "      <th>Similarity</th>\n",
       "    </tr>\n",
       "  </thead>\n",
       "  <tbody>\n",
       "    <tr>\n",
       "      <th>0</th>\n",
       "      <td>Grand Day Out, A (1992)</td>\n",
       "      <td>0.791891</td>\n",
       "    </tr>\n",
       "    <tr>\n",
       "      <th>1</th>\n",
       "      <td>Close Shave, A (1995)</td>\n",
       "      <td>0.732300</td>\n",
       "    </tr>\n",
       "    <tr>\n",
       "      <th>2</th>\n",
       "      <td>Babe (1995)</td>\n",
       "      <td>0.727030</td>\n",
       "    </tr>\n",
       "    <tr>\n",
       "      <th>3</th>\n",
       "      <td>Toy Story 2 (1999)</td>\n",
       "      <td>0.722694</td>\n",
       "    </tr>\n",
       "    <tr>\n",
       "      <th>4</th>\n",
       "      <td>Creature Comforts (1990)</td>\n",
       "      <td>0.691877</td>\n",
       "    </tr>\n",
       "  </tbody>\n",
       "</table>\n",
       "</div>"
      ],
      "text/plain": [
       "                      Title  Similarity\n",
       "0   Grand Day Out, A (1992)    0.791891\n",
       "1     Close Shave, A (1995)    0.732300\n",
       "2               Babe (1995)    0.727030\n",
       "3        Toy Story 2 (1999)    0.722694\n",
       "4  Creature Comforts (1990)    0.691877"
      ]
     },
     "execution_count": 21,
     "metadata": {},
     "output_type": "execute_result"
    }
   ],
   "source": [
    "similar_movie_title(model.wv.most_similar('movie_id:1', topn=5))"
   ]
  },
  {
   "cell_type": "code",
   "execution_count": 22,
   "metadata": {
    "ExecuteTime": {
     "end_time": "2022-08-31T13:40:08.163790Z",
     "start_time": "2022-08-31T13:40:08.143831Z"
    }
   },
   "outputs": [
    {
     "data": {
      "text/html": [
       "<div>\n",
       "<style scoped>\n",
       "    .dataframe tbody tr th:only-of-type {\n",
       "        vertical-align: middle;\n",
       "    }\n",
       "\n",
       "    .dataframe tbody tr th {\n",
       "        vertical-align: top;\n",
       "    }\n",
       "\n",
       "    .dataframe thead th {\n",
       "        text-align: right;\n",
       "    }\n",
       "</style>\n",
       "<table border=\"1\" class=\"dataframe\">\n",
       "  <thead>\n",
       "    <tr style=\"text-align: right;\">\n",
       "      <th></th>\n",
       "      <th>movie_id</th>\n",
       "      <th>title</th>\n",
       "      <th>genre</th>\n",
       "      <th>released_year_area</th>\n",
       "      <th>main_genre</th>\n",
       "    </tr>\n",
       "  </thead>\n",
       "  <tbody>\n",
       "    <tr>\n",
       "      <th>0</th>\n",
       "      <td>1</td>\n",
       "      <td>Toy Story (1995)</td>\n",
       "      <td>Animation|Children's|Comedy</td>\n",
       "      <td>1995</td>\n",
       "      <td>Animation</td>\n",
       "    </tr>\n",
       "  </tbody>\n",
       "</table>\n",
       "</div>"
      ],
      "text/plain": [
       "   movie_id             title                        genre  \\\n",
       "0         1  Toy Story (1995)  Animation|Children's|Comedy   \n",
       "\n",
       "   released_year_area main_genre  \n",
       "0                1995  Animation  "
      ]
     },
     "metadata": {},
     "output_type": "display_data"
    },
    {
     "data": {
      "text/html": [
       "<div>\n",
       "<style scoped>\n",
       "    .dataframe tbody tr th:only-of-type {\n",
       "        vertical-align: middle;\n",
       "    }\n",
       "\n",
       "    .dataframe tbody tr th {\n",
       "        vertical-align: top;\n",
       "    }\n",
       "\n",
       "    .dataframe thead th {\n",
       "        text-align: right;\n",
       "    }\n",
       "</style>\n",
       "<table border=\"1\" class=\"dataframe\">\n",
       "  <thead>\n",
       "    <tr style=\"text-align: right;\">\n",
       "      <th></th>\n",
       "      <th>movie_id</th>\n",
       "      <th>title</th>\n",
       "      <th>genre</th>\n",
       "      <th>released_year_area</th>\n",
       "      <th>main_genre</th>\n",
       "    </tr>\n",
       "  </thead>\n",
       "  <tbody>\n",
       "    <tr>\n",
       "      <th>33</th>\n",
       "      <td>34</td>\n",
       "      <td>Babe (1995)</td>\n",
       "      <td>Children's|Comedy|Drama</td>\n",
       "      <td>1995</td>\n",
       "      <td>Children's</td>\n",
       "    </tr>\n",
       "    <tr>\n",
       "      <th>735</th>\n",
       "      <td>745</td>\n",
       "      <td>Close Shave, A (1995)</td>\n",
       "      <td>Animation|Comedy|Thriller</td>\n",
       "      <td>1995</td>\n",
       "      <td>Animation</td>\n",
       "    </tr>\n",
       "    <tr>\n",
       "      <th>1132</th>\n",
       "      <td>1148</td>\n",
       "      <td>Wrong Trousers, The (1993)</td>\n",
       "      <td>Animation|Comedy</td>\n",
       "      <td>1993</td>\n",
       "      <td>Animation</td>\n",
       "    </tr>\n",
       "    <tr>\n",
       "      <th>1205</th>\n",
       "      <td>1223</td>\n",
       "      <td>Grand Day Out, A (1992)</td>\n",
       "      <td>Animation|Comedy</td>\n",
       "      <td>1992</td>\n",
       "      <td>Animation</td>\n",
       "    </tr>\n",
       "    <tr>\n",
       "      <th>3045</th>\n",
       "      <td>3114</td>\n",
       "      <td>Toy Story 2 (1999)</td>\n",
       "      <td>Animation|Children's|Comedy</td>\n",
       "      <td>1999</td>\n",
       "      <td>Animation</td>\n",
       "    </tr>\n",
       "  </tbody>\n",
       "</table>\n",
       "</div>"
      ],
      "text/plain": [
       "      movie_id                       title                        genre  \\\n",
       "33          34                 Babe (1995)      Children's|Comedy|Drama   \n",
       "735        745       Close Shave, A (1995)    Animation|Comedy|Thriller   \n",
       "1132      1148  Wrong Trousers, The (1993)             Animation|Comedy   \n",
       "1205      1223     Grand Day Out, A (1992)             Animation|Comedy   \n",
       "3045      3114          Toy Story 2 (1999)  Animation|Children's|Comedy   \n",
       "\n",
       "      released_year_area  main_genre  \n",
       "33                  1995  Children's  \n",
       "735                 1995   Animation  \n",
       "1132                1993   Animation  \n",
       "1205                1992   Animation  \n",
       "3045                1999   Animation  "
      ]
     },
     "metadata": {},
     "output_type": "display_data"
    }
   ],
   "source": [
    "display(movie_df[movie_df['movie_id'] == 1])\n",
    "display(movie_df[movie_df['movie_id'].isin([1223, 3114, 745, 34, 1148])])"
   ]
  },
  {
   "cell_type": "code",
   "execution_count": 23,
   "metadata": {
    "ExecuteTime": {
     "end_time": "2022-08-31T13:40:08.184098Z",
     "start_time": "2022-08-31T13:40:08.169733Z"
    }
   },
   "outputs": [
    {
     "data": {
      "text/html": [
       "<div>\n",
       "<style scoped>\n",
       "    .dataframe tbody tr th:only-of-type {\n",
       "        vertical-align: middle;\n",
       "    }\n",
       "\n",
       "    .dataframe tbody tr th {\n",
       "        vertical-align: top;\n",
       "    }\n",
       "\n",
       "    .dataframe thead th {\n",
       "        text-align: right;\n",
       "    }\n",
       "</style>\n",
       "<table border=\"1\" class=\"dataframe\">\n",
       "  <thead>\n",
       "    <tr style=\"text-align: right;\">\n",
       "      <th></th>\n",
       "      <th>movie_id</th>\n",
       "      <th>title</th>\n",
       "      <th>genre</th>\n",
       "      <th>released_year_area</th>\n",
       "      <th>main_genre</th>\n",
       "    </tr>\n",
       "  </thead>\n",
       "  <tbody>\n",
       "    <tr>\n",
       "      <th>0</th>\n",
       "      <td>1</td>\n",
       "      <td>Toy Story (1995)</td>\n",
       "      <td>Animation|Children's|Comedy</td>\n",
       "      <td>1995</td>\n",
       "      <td>Animation</td>\n",
       "    </tr>\n",
       "  </tbody>\n",
       "</table>\n",
       "</div>"
      ],
      "text/plain": [
       "   movie_id             title                        genre  \\\n",
       "0         1  Toy Story (1995)  Animation|Children's|Comedy   \n",
       "\n",
       "   released_year_area main_genre  \n",
       "0                1995  Animation  "
      ]
     },
     "metadata": {},
     "output_type": "display_data"
    },
    {
     "data": {
      "text/html": [
       "<div>\n",
       "<style scoped>\n",
       "    .dataframe tbody tr th:only-of-type {\n",
       "        vertical-align: middle;\n",
       "    }\n",
       "\n",
       "    .dataframe tbody tr th {\n",
       "        vertical-align: top;\n",
       "    }\n",
       "\n",
       "    .dataframe thead th {\n",
       "        text-align: right;\n",
       "    }\n",
       "</style>\n",
       "<table border=\"1\" class=\"dataframe\">\n",
       "  <thead>\n",
       "    <tr style=\"text-align: right;\">\n",
       "      <th></th>\n",
       "      <th>movie_id</th>\n",
       "      <th>title</th>\n",
       "      <th>genre</th>\n",
       "      <th>released_year_area</th>\n",
       "      <th>main_genre</th>\n",
       "    </tr>\n",
       "  </thead>\n",
       "  <tbody>\n",
       "    <tr>\n",
       "      <th>33</th>\n",
       "      <td>34</td>\n",
       "      <td>Babe (1995)</td>\n",
       "      <td>Children's|Comedy|Drama</td>\n",
       "      <td>1995</td>\n",
       "      <td>Children's</td>\n",
       "    </tr>\n",
       "    <tr>\n",
       "      <th>735</th>\n",
       "      <td>745</td>\n",
       "      <td>Close Shave, A (1995)</td>\n",
       "      <td>Animation|Comedy|Thriller</td>\n",
       "      <td>1995</td>\n",
       "      <td>Animation</td>\n",
       "    </tr>\n",
       "    <tr>\n",
       "      <th>1132</th>\n",
       "      <td>1148</td>\n",
       "      <td>Wrong Trousers, The (1993)</td>\n",
       "      <td>Animation|Comedy</td>\n",
       "      <td>1993</td>\n",
       "      <td>Animation</td>\n",
       "    </tr>\n",
       "    <tr>\n",
       "      <th>1205</th>\n",
       "      <td>1223</td>\n",
       "      <td>Grand Day Out, A (1992)</td>\n",
       "      <td>Animation|Comedy</td>\n",
       "      <td>1992</td>\n",
       "      <td>Animation</td>\n",
       "    </tr>\n",
       "    <tr>\n",
       "      <th>3045</th>\n",
       "      <td>3114</td>\n",
       "      <td>Toy Story 2 (1999)</td>\n",
       "      <td>Animation|Children's|Comedy</td>\n",
       "      <td>1999</td>\n",
       "      <td>Animation</td>\n",
       "    </tr>\n",
       "  </tbody>\n",
       "</table>\n",
       "</div>"
      ],
      "text/plain": [
       "      movie_id                       title                        genre  \\\n",
       "33          34                 Babe (1995)      Children's|Comedy|Drama   \n",
       "735        745       Close Shave, A (1995)    Animation|Comedy|Thriller   \n",
       "1132      1148  Wrong Trousers, The (1993)             Animation|Comedy   \n",
       "1205      1223     Grand Day Out, A (1992)             Animation|Comedy   \n",
       "3045      3114          Toy Story 2 (1999)  Animation|Children's|Comedy   \n",
       "\n",
       "      released_year_area  main_genre  \n",
       "33                  1995  Children's  \n",
       "735                 1995   Animation  \n",
       "1132                1993   Animation  \n",
       "1205                1992   Animation  \n",
       "3045                1999   Animation  "
      ]
     },
     "metadata": {},
     "output_type": "display_data"
    }
   ],
   "source": [
    "display(movie_df[movie_df['movie_id'] == 1])\n",
    "display(movie_df[movie_df['movie_id'].isin([1223, 3114, 745, 34, 1148])])"
   ]
  },
  {
   "cell_type": "code",
   "execution_count": 24,
   "metadata": {
    "ExecuteTime": {
     "end_time": "2022-08-31T13:40:08.193002Z",
     "start_time": "2022-08-31T13:40:08.185580Z"
    },
    "id": "MP-rjcVd9Typ"
   },
   "outputs": [
    {
     "data": {
      "text/plain": [
       "[('movie_id:2218', 0.5939661860466003),\n",
       " ('movie_id:381', 0.5925782322883606),\n",
       " ('movie_id:515', 0.5840121507644653),\n",
       " ('movie_id:523', 0.5766736268997192),\n",
       " ('movie_id:90', 0.5765171051025391),\n",
       " ('movie_id:650', 0.5731550455093384),\n",
       " ('movie_id:1709', 0.5687155723571777),\n",
       " ('movie_id:2501', 0.5680491924285889),\n",
       " ('movie_id:448', 0.5680034756660461),\n",
       " ('movie_id:1139', 0.566596269607544)]"
      ]
     },
     "execution_count": 24,
     "metadata": {},
     "output_type": "execute_result"
    }
   ],
   "source": [
    "model.wv.most_similar('genre:Drama')"
   ]
  },
  {
   "cell_type": "markdown",
   "metadata": {
    "id": "sdgJnK6iRjm6"
   },
   "source": [
    "### 문제 7. EDA & 전처리 - Movie2Vec 모델로 Item2Item 후보군 생성"
   ]
  },
  {
   "cell_type": "code",
   "execution_count": 25,
   "metadata": {
    "ExecuteTime": {
     "end_time": "2022-08-31T13:40:08.199458Z",
     "start_time": "2022-08-31T13:40:08.194726Z"
    }
   },
   "outputs": [
    {
     "data": {
      "text/plain": [
       "0          1\n",
       "1          2\n",
       "2          3\n",
       "3          4\n",
       "4          5\n",
       "        ... \n",
       "3878    3948\n",
       "3879    3949\n",
       "3880    3950\n",
       "3881    3951\n",
       "3882    3952\n",
       "Name: movie_id, Length: 3883, dtype: int64"
      ]
     },
     "execution_count": 25,
     "metadata": {},
     "output_type": "execute_result"
    }
   ],
   "source": [
    "movie_df['movie_id']"
   ]
  },
  {
   "cell_type": "code",
   "execution_count": 26,
   "metadata": {
    "ExecuteTime": {
     "end_time": "2022-08-31T13:40:11.557813Z",
     "start_time": "2022-08-31T13:40:08.201101Z"
    },
    "executionInfo": {
     "elapsed": 790,
     "status": "ok",
     "timestamp": 1610518078801,
     "user": {
      "displayName": "윤기태",
      "photoUrl": "https://lh3.googleusercontent.com/a-/AOh14GhjX4czjHvHYRaEdNzkkF2s-g0b57J74mP9aSZTyg=s64",
      "userId": "10622173580637109440"
     },
     "user_tz": -540
    },
    "id": "IGxmZFbyRoBX"
   },
   "outputs": [
    {
     "name": "stdout",
     "output_type": "stream",
     "text": [
      "word 51 not in vocabulary\n",
      "word 109 not in vocabulary\n",
      "word 115 not in vocabulary\n",
      "word 143 not in vocabulary\n",
      "word 284 not in vocabulary\n",
      "word 285 not in vocabulary\n",
      "word 395 not in vocabulary\n",
      "word 399 not in vocabulary\n",
      "word 400 not in vocabulary\n",
      "word 403 not in vocabulary\n",
      "word 604 not in vocabulary\n",
      "word 620 not in vocabulary\n",
      "word 625 not in vocabulary\n",
      "word 629 not in vocabulary\n",
      "word 636 not in vocabulary\n",
      "word 654 not in vocabulary\n",
      "word 675 not in vocabulary\n",
      "word 676 not in vocabulary\n",
      "word 683 not in vocabulary\n",
      "word 693 not in vocabulary\n",
      "word 699 not in vocabulary\n",
      "word 713 not in vocabulary\n",
      "word 721 not in vocabulary\n",
      "word 723 not in vocabulary\n",
      "word 727 not in vocabulary\n",
      "word 738 not in vocabulary\n",
      "word 739 not in vocabulary\n",
      "word 752 not in vocabulary\n",
      "word 768 not in vocabulary\n",
      "word 770 not in vocabulary\n",
      "word 772 not in vocabulary\n",
      "word 773 not in vocabulary\n",
      "word 777 not in vocabulary\n",
      "word 794 not in vocabulary\n",
      "word 795 not in vocabulary\n",
      "word 797 not in vocabulary\n",
      "word 812 not in vocabulary\n",
      "word 816 not in vocabulary\n",
      "word 819 not in vocabulary\n",
      "word 822 not in vocabulary\n",
      "word 825 not in vocabulary\n",
      "word 845 not in vocabulary\n",
      "word 855 not in vocabulary\n",
      "word 856 not in vocabulary\n",
      "word 857 not in vocabulary\n",
      "word 871 not in vocabulary\n",
      "word 873 not in vocabulary\n",
      "word 890 not in vocabulary\n",
      "word 894 not in vocabulary\n",
      "word 979 not in vocabulary\n",
      "word 983 not in vocabulary\n",
      "word 1001 not in vocabulary\n",
      "word 1045 not in vocabulary\n",
      "word 1052 not in vocabulary\n",
      "word 1065 not in vocabulary\n",
      "word 1075 not in vocabulary\n",
      "word 1106 not in vocabulary\n",
      "word 1108 not in vocabulary\n",
      "word 1109 not in vocabulary\n",
      "word 1110 not in vocabulary\n",
      "word 1122 not in vocabulary\n",
      "word 1137 not in vocabulary\n",
      "word 1140 not in vocabulary\n",
      "word 1141 not in vocabulary\n",
      "word 1143 not in vocabulary\n",
      "word 1146 not in vocabulary\n",
      "word 1155 not in vocabulary\n",
      "word 1156 not in vocabulary\n",
      "word 1157 not in vocabulary\n",
      "word 1158 not in vocabulary\n",
      "word 1159 not in vocabulary\n",
      "word 1166 not in vocabulary\n",
      "word 1308 not in vocabulary\n",
      "word 1309 not in vocabulary\n",
      "word 1314 not in vocabulary\n",
      "word 1318 not in vocabulary\n",
      "word 1319 not in vocabulary\n",
      "word 1368 not in vocabulary\n",
      "word 1400 not in vocabulary\n",
      "word 1424 not in vocabulary\n",
      "word 1443 not in vocabulary\n",
      "word 1448 not in vocabulary\n",
      "word 1462 not in vocabulary\n",
      "word 1467 not in vocabulary\n",
      "word 1524 not in vocabulary\n",
      "word 1557 not in vocabulary\n",
      "word 1559 not in vocabulary\n",
      "word 1568 not in vocabulary\n",
      "word 1577 not in vocabulary\n",
      "word 1578 not in vocabulary\n",
      "word 1628 not in vocabulary\n",
      "word 1697 not in vocabulary\n",
      "word 1698 not in vocabulary\n",
      "word 1705 not in vocabulary\n",
      "word 1706 not in vocabulary\n",
      "word 1708 not in vocabulary\n",
      "word 1710 not in vocabulary\n",
      "word 1716 not in vocabulary\n",
      "word 1723 not in vocabulary\n",
      "word 1738 not in vocabulary\n",
      "word 1740 not in vocabulary\n",
      "word 1742 not in vocabulary\n",
      "word 1757 not in vocabulary\n",
      "word 1765 not in vocabulary\n",
      "word 1768 not in vocabulary\n",
      "word 1774 not in vocabulary\n",
      "word 1776 not in vocabulary\n",
      "word 1781 not in vocabulary\n",
      "word 1789 not in vocabulary\n",
      "word 1819 not in vocabulary\n",
      "word 1847 not in vocabulary\n",
      "word 2030 not in vocabulary\n",
      "word 2199 not in vocabulary\n",
      "word 2216 not in vocabulary\n",
      "word 2220 not in vocabulary\n",
      "word 2222 not in vocabulary\n",
      "word 2224 not in vocabulary\n",
      "word 2225 not in vocabulary\n",
      "word 2228 not in vocabulary\n",
      "word 2229 not in vocabulary\n",
      "word 2230 not in vocabulary\n",
      "word 2270 not in vocabulary\n",
      "word 2274 not in vocabulary\n",
      "word 2319 not in vocabulary\n",
      "word 2489 not in vocabulary\n",
      "word 2508 not in vocabulary\n",
      "word 2547 not in vocabulary\n",
      "word 2564 not in vocabulary\n",
      "word 2588 not in vocabulary\n",
      "word 2595 not in vocabulary\n",
      "word 2601 not in vocabulary\n",
      "word 2603 not in vocabulary\n",
      "word 2604 not in vocabulary\n",
      "word 2680 not in vocabulary\n",
      "word 2684 not in vocabulary\n",
      "word 2698 not in vocabulary\n",
      "word 2832 not in vocabulary\n",
      "word 2838 not in vocabulary\n",
      "word 2910 not in vocabulary\n",
      "word 2954 not in vocabulary\n",
      "word 2957 not in vocabulary\n",
      "word 2958 not in vocabulary\n",
      "word 2980 not in vocabulary\n",
      "word 3009 not in vocabulary\n",
      "word 3023 not in vocabulary\n",
      "word 3059 not in vocabulary\n",
      "word 3080 not in vocabulary\n",
      "word 3170 not in vocabulary\n",
      "word 3191 not in vocabulary\n",
      "word 3193 not in vocabulary\n",
      "word 3195 not in vocabulary\n",
      "word 3226 not in vocabulary\n",
      "word 3227 not in vocabulary\n",
      "word 3231 not in vocabulary\n",
      "word 3234 not in vocabulary\n",
      "word 3278 not in vocabulary\n",
      "word 3279 not in vocabulary\n",
      "word 3332 not in vocabulary\n",
      "word 3348 not in vocabulary\n",
      "word 3356 not in vocabulary\n",
      "word 3369 not in vocabulary\n",
      "word 3383 not in vocabulary\n",
      "word 3411 not in vocabulary\n",
      "word 3455 not in vocabulary\n",
      "word 3541 not in vocabulary\n",
      "word 3558 not in vocabulary\n",
      "word 3560 not in vocabulary\n",
      "word 3561 not in vocabulary\n",
      "word 3582 not in vocabulary\n",
      "word 3583 not in vocabulary\n",
      "word 3589 not in vocabulary\n",
      "word 3630 not in vocabulary\n",
      "word 3650 not in vocabulary\n",
      "word 3750 not in vocabulary\n",
      "word 3829 not in vocabulary\n",
      "word 3856 not in vocabulary\n",
      "word 3907 not in vocabulary\n"
     ]
    }
   ],
   "source": [
    "# item to item 후보군 생성할 변수\n",
    "item2item = {}\n",
    "\n",
    "# 영화별 연관 영화 k개씩 추출\n",
    "k = 10\n",
    "not_in_count = 0\n",
    "\n",
    "for movie_id in movie_df['movie_id'].values:\n",
    "    item2item[movie_id] = []\n",
    "    try :\n",
    "        sim_list = model.wv.most_similar('movie_id:' + str(movie_id), topn=k+10)\n",
    "        for movie_tup in sim_list:\n",
    "            tup_info = movie_tup[0].split(':')\n",
    "            if (tup_info[0] == 'movie_id') and (len(item2item) < 10):\n",
    "                item2item[movie_id].append(tup_info[1])\n",
    "    except:\n",
    "        not_in_count +=1\n",
    "        print('word', str(movie_id), 'not in vocabulary')"
   ]
  },
  {
   "cell_type": "code",
   "execution_count": 27,
   "metadata": {
    "ExecuteTime": {
     "end_time": "2022-08-31T13:40:11.561400Z",
     "start_time": "2022-08-31T13:40:11.558859Z"
    },
    "id": "iSLclcjjBdTq"
   },
   "outputs": [
    {
     "data": {
      "text/plain": [
       "['1223',\n",
       " '745',\n",
       " '34',\n",
       " '3114',\n",
       " '3429',\n",
       " '1265',\n",
       " '1148',\n",
       " '176',\n",
       " '2324',\n",
       " '1537',\n",
       " '1136',\n",
       " '2700',\n",
       " '2289',\n",
       " '720',\n",
       " '2321',\n",
       " '1923',\n",
       " '1394',\n",
       " '50',\n",
       " '235',\n",
       " '2359']"
      ]
     },
     "execution_count": 27,
     "metadata": {},
     "output_type": "execute_result"
    }
   ],
   "source": [
    "item2item[1]"
   ]
  },
  {
   "cell_type": "markdown",
   "metadata": {
    "id": "QMmyuJ-gRm-a"
   },
   "source": [
    "## Step 2. 탐색적으로 다양한 추천 후보군 생성"
   ]
  },
  {
   "cell_type": "markdown",
   "metadata": {
    "id": "DpndYXP6Rxi9"
   },
   "source": [
    "### 문제 8. EDA & 전처리 - 평균 평점 기반 Popular 후보군 생성"
   ]
  },
  {
   "cell_type": "code",
   "execution_count": 28,
   "metadata": {
    "ExecuteTime": {
     "end_time": "2022-08-31T13:40:11.603016Z",
     "start_time": "2022-08-31T13:40:11.562434Z"
    },
    "executionInfo": {
     "elapsed": 778,
     "status": "ok",
     "timestamp": 1610518204373,
     "user": {
      "displayName": "윤기태",
      "photoUrl": "https://lh3.googleusercontent.com/a-/AOh14GhjX4czjHvHYRaEdNzkkF2s-g0b57J74mP9aSZTyg=s64",
      "userId": "10622173580637109440"
     },
     "user_tz": -540
    },
    "id": "e6fSZzk6R1Ku"
   },
   "outputs": [
    {
     "data": {
      "text/html": [
       "<div>\n",
       "<style scoped>\n",
       "    .dataframe tbody tr th:only-of-type {\n",
       "        vertical-align: middle;\n",
       "    }\n",
       "\n",
       "    .dataframe tbody tr th {\n",
       "        vertical-align: top;\n",
       "    }\n",
       "\n",
       "    .dataframe thead th {\n",
       "        text-align: right;\n",
       "    }\n",
       "</style>\n",
       "<table border=\"1\" class=\"dataframe\">\n",
       "  <thead>\n",
       "    <tr style=\"text-align: right;\">\n",
       "      <th></th>\n",
       "      <th>mean</th>\n",
       "      <th>count</th>\n",
       "    </tr>\n",
       "    <tr>\n",
       "      <th>movie_id</th>\n",
       "      <th></th>\n",
       "      <th></th>\n",
       "    </tr>\n",
       "  </thead>\n",
       "  <tbody>\n",
       "    <tr>\n",
       "      <th>1</th>\n",
       "      <td>4.146846</td>\n",
       "      <td>2077</td>\n",
       "    </tr>\n",
       "    <tr>\n",
       "      <th>2</th>\n",
       "      <td>3.201141</td>\n",
       "      <td>701</td>\n",
       "    </tr>\n",
       "    <tr>\n",
       "      <th>3</th>\n",
       "      <td>3.016736</td>\n",
       "      <td>478</td>\n",
       "    </tr>\n",
       "    <tr>\n",
       "      <th>4</th>\n",
       "      <td>2.729412</td>\n",
       "      <td>170</td>\n",
       "    </tr>\n",
       "    <tr>\n",
       "      <th>5</th>\n",
       "      <td>3.006757</td>\n",
       "      <td>296</td>\n",
       "    </tr>\n",
       "    <tr>\n",
       "      <th>...</th>\n",
       "      <td>...</td>\n",
       "      <td>...</td>\n",
       "    </tr>\n",
       "    <tr>\n",
       "      <th>3948</th>\n",
       "      <td>3.635731</td>\n",
       "      <td>862</td>\n",
       "    </tr>\n",
       "    <tr>\n",
       "      <th>3949</th>\n",
       "      <td>4.115132</td>\n",
       "      <td>304</td>\n",
       "    </tr>\n",
       "    <tr>\n",
       "      <th>3950</th>\n",
       "      <td>3.666667</td>\n",
       "      <td>54</td>\n",
       "    </tr>\n",
       "    <tr>\n",
       "      <th>3951</th>\n",
       "      <td>3.900000</td>\n",
       "      <td>40</td>\n",
       "    </tr>\n",
       "    <tr>\n",
       "      <th>3952</th>\n",
       "      <td>3.780928</td>\n",
       "      <td>388</td>\n",
       "    </tr>\n",
       "  </tbody>\n",
       "</table>\n",
       "<p>3706 rows × 2 columns</p>\n",
       "</div>"
      ],
      "text/plain": [
       "              mean  count\n",
       "movie_id                 \n",
       "1         4.146846   2077\n",
       "2         3.201141    701\n",
       "3         3.016736    478\n",
       "4         2.729412    170\n",
       "5         3.006757    296\n",
       "...            ...    ...\n",
       "3948      3.635731    862\n",
       "3949      4.115132    304\n",
       "3950      3.666667     54\n",
       "3951      3.900000     40\n",
       "3952      3.780928    388\n",
       "\n",
       "[3706 rows x 2 columns]"
      ]
     },
     "execution_count": 28,
     "metadata": {},
     "output_type": "execute_result"
    }
   ],
   "source": [
    "## 인기도에 따른 movie 추천\n",
    "# 일정 count 이상이면서 평균 rating이 높은 순서대로 Popular 후보군 생성 (movie_id에 groupby 적용)\n",
    "\n",
    "mean_ratings = rating_df.groupby('movie_id')['rating'].agg(['mean', 'count'])\n",
    "mean_ratings"
   ]
  },
  {
   "cell_type": "code",
   "execution_count": 29,
   "metadata": {
    "ExecuteTime": {
     "end_time": "2022-08-31T13:40:11.727216Z",
     "start_time": "2022-08-31T13:40:11.604489Z"
    },
    "id": "0iZmFT_ydCZZ"
   },
   "outputs": [
    {
     "data": {
      "image/png": "[encoded data removed]",
      "text/plain": [
       "<Figure size 432x288 with 1 Axes>"
      ]
     },
     "metadata": {
      "needs_background": "light"
     },
     "output_type": "display_data"
    }
   ],
   "source": [
    "plt.hist(mean_ratings['count'], bins=50)\n",
    "plt.show()"
   ]
  },
  {
   "cell_type": "markdown",
   "metadata": {
    "id": "K3YJ-yVPRxlf"
   },
   "source": [
    "### 문제 9. EDA & 전처리 - Popular 후보군 생성 결과 확인"
   ]
  },
  {
   "cell_type": "code",
   "execution_count": 30,
   "metadata": {
    "ExecuteTime": {
     "end_time": "2022-08-31T13:40:11.734710Z",
     "start_time": "2022-08-31T13:40:11.728919Z"
    },
    "executionInfo": {
     "elapsed": 1150,
     "status": "ok",
     "timestamp": 1610518236488,
     "user": {
      "displayName": "윤기태",
      "photoUrl": "https://lh3.googleusercontent.com/a-/AOh14GhjX4czjHvHYRaEdNzkkF2s-g0b57J74mP9aSZTyg=s64",
      "userId": "10622173580637109440"
     },
     "user_tz": -540
    },
    "id": "nEJ880oiSE_n"
   },
   "outputs": [
    {
     "data": {
      "text/plain": [
       "[4.608695652173913,\n",
       " 4.560509554140127,\n",
       " 4.554557700942973,\n",
       " 4.524966261808367,\n",
       " 4.52054794520548,\n",
       " 4.517106001121705,\n",
       " 4.510416666666667,\n",
       " 4.507936507936508,\n",
       " 4.491489361702127,\n",
       " 4.477724741447892,\n",
       " 4.476190476190476,\n",
       " 4.473913043478261,\n",
       " 4.453694416583082,\n",
       " 4.452083333333333,\n",
       " 4.4498902706656915]"
      ]
     },
     "execution_count": 30,
     "metadata": {},
     "output_type": "execute_result"
    }
   ],
   "source": [
    "# 생성 결과를 popular_movie_list 변수에 할당\n",
    "# 10번 이상 rating있는 것들\n",
    "\n",
    "popular_movie_list = mean_ratings[mean_ratings['count'] >10]['mean'].sort_values(ascending=False)[:15].tolist()\n",
    "popular_movie_list"
   ]
  },
  {
   "cell_type": "markdown",
   "metadata": {
    "id": "JZn3DyH0RxoF"
   },
   "source": [
    "### 문제 10. EDA & 전처리 - 장르 & 연도 기준 Meta2Item 후보군 생성"
   ]
  },
  {
   "cell_type": "code",
   "execution_count": 31,
   "metadata": {
    "ExecuteTime": {
     "end_time": "2022-08-31T13:40:11.748700Z",
     "start_time": "2022-08-31T13:40:11.736335Z"
    }
   },
   "outputs": [
    {
     "data": {
      "text/html": [
       "<div>\n",
       "<style scoped>\n",
       "    .dataframe tbody tr th:only-of-type {\n",
       "        vertical-align: middle;\n",
       "    }\n",
       "\n",
       "    .dataframe tbody tr th {\n",
       "        vertical-align: top;\n",
       "    }\n",
       "\n",
       "    .dataframe thead th {\n",
       "        text-align: right;\n",
       "    }\n",
       "</style>\n",
       "<table border=\"1\" class=\"dataframe\">\n",
       "  <thead>\n",
       "    <tr style=\"text-align: right;\">\n",
       "      <th></th>\n",
       "      <th>movie_id</th>\n",
       "      <th>mean</th>\n",
       "      <th>count</th>\n",
       "      <th>title</th>\n",
       "      <th>genre</th>\n",
       "      <th>released_year_area</th>\n",
       "      <th>main_genre</th>\n",
       "    </tr>\n",
       "  </thead>\n",
       "  <tbody>\n",
       "    <tr>\n",
       "      <th>0</th>\n",
       "      <td>1</td>\n",
       "      <td>4.146846</td>\n",
       "      <td>2077</td>\n",
       "      <td>Toy Story (1995)</td>\n",
       "      <td>Animation|Children's|Comedy</td>\n",
       "      <td>1995</td>\n",
       "      <td>Animation</td>\n",
       "    </tr>\n",
       "    <tr>\n",
       "      <th>1</th>\n",
       "      <td>2</td>\n",
       "      <td>3.201141</td>\n",
       "      <td>701</td>\n",
       "      <td>Jumanji (1995)</td>\n",
       "      <td>Adventure|Children's|Fantasy</td>\n",
       "      <td>1995</td>\n",
       "      <td>Adventure</td>\n",
       "    </tr>\n",
       "    <tr>\n",
       "      <th>2</th>\n",
       "      <td>3</td>\n",
       "      <td>3.016736</td>\n",
       "      <td>478</td>\n",
       "      <td>Grumpier Old Men (1995)</td>\n",
       "      <td>Comedy|Romance</td>\n",
       "      <td>1995</td>\n",
       "      <td>Comedy</td>\n",
       "    </tr>\n",
       "  </tbody>\n",
       "</table>\n",
       "</div>"
      ],
      "text/plain": [
       "   movie_id      mean  count                    title  \\\n",
       "0         1  4.146846   2077         Toy Story (1995)   \n",
       "1         2  3.201141    701           Jumanji (1995)   \n",
       "2         3  3.016736    478  Grumpier Old Men (1995)   \n",
       "\n",
       "                          genre  released_year_area main_genre  \n",
       "0   Animation|Children's|Comedy                1995  Animation  \n",
       "1  Adventure|Children's|Fantasy                1995  Adventure  \n",
       "2                Comedy|Romance                1995     Comedy  "
      ]
     },
     "execution_count": 31,
     "metadata": {},
     "output_type": "execute_result"
    }
   ],
   "source": [
    "merge_df = pd.merge(mean_ratings, movie_df, on='movie_id')\n",
    "merge_df.head(3)"
   ]
  },
  {
   "cell_type": "code",
   "execution_count": 32,
   "metadata": {
    "ExecuteTime": {
     "end_time": "2022-08-31T13:40:11.785318Z",
     "start_time": "2022-08-31T13:40:11.751207Z"
    },
    "id": "HHiF8D9fMu5x"
   },
   "outputs": [
    {
     "name": "stdout",
     "output_type": "stream",
     "text": [
      "main_genre\n",
      "Action        [2905, 2019, 858, 1198, 260, 1221, 2028, 2571,...\n",
      "Adventure     [3172, 1204, 1262, 3470, 1254, 919, 1303, 1259...\n",
      "Animation     [745, 1148, 720, 1223, 3429, 3114, 1, 741, 276...\n",
      "Children's    [1097, 1028, 34, 262, 3396, 755, 531, 3397, 55...\n",
      "Comedy        [1830, 3233, 3607, 3030, 3307, 3022, 1136, 341...\n",
      "dtype: object\n",
      "\n",
      "released_year_area\n",
      "1919    [3132, 2821, 2823]\n",
      "1920                [3309]\n",
      "1921                [3310]\n",
      "1922                [1348]\n",
      "1923          [3140, 3641]\n",
      "dtype: object\n"
     ]
    }
   ],
   "source": [
    "# 장르 & 연도를 meta로 하는, meta별 상위 10개씩 popular list 추출\n",
    "\n",
    "def get_meta_popular_list(k, x):\n",
    "    movie_id_list = x.sort_values(by='mean', ascending=False)['movie_id'].tolist()\n",
    "    return movie_id_list[:k]\n",
    "    \n",
    "\n",
    "genre_popular = merge_df.groupby('main_genre').apply(lambda x: get_meta_popular_list(x=x, k=10))\n",
    "year_popular = merge_df.groupby('released_year_area').apply(lambda x: get_meta_popular_list(x=x, k=10))\n",
    "\n",
    "print(genre_popular[:5])\n",
    "print()\n",
    "print(year_popular[:5])"
   ]
  },
  {
   "cell_type": "markdown",
   "metadata": {
    "id": "71YJM0PGRxqo"
   },
   "source": [
    "### 문제 11. EDA & 전처리 - Meta 후보군 생성 결과 확인"
   ]
  },
  {
   "cell_type": "code",
   "execution_count": 33,
   "metadata": {
    "ExecuteTime": {
     "end_time": "2022-08-31T13:40:11.790157Z",
     "start_time": "2022-08-31T13:40:11.787199Z"
    },
    "id": "rupwEwUjM5OO"
   },
   "outputs": [
    {
     "name": "stdout",
     "output_type": "stream",
     "text": [
      "Action : [2905, 2019, 858, 1198, 260, 1221, 2028, 2571, 1197, 1233]\n",
      "2000 Year : [3881, 3888, 3897, 3949, 3578, 3911, 3647, 3353, 3851, 3317]\n"
     ]
    }
   ],
   "source": [
    "# 위 결과 확인\n",
    "# ex.\n",
    "# 연도별 popular list - {'1910': [3132, 2821, 2823], '1920': [3517, 3022, 3629, 2010], ....}\n",
    "\n",
    "genre_popular_dict = genre_popular.to_dict()\n",
    "year_popular_dict = year_popular.to_dict()\n",
    "\n",
    "print(f\"Action : {genre_popular_dict['Action']}\")\n",
    "print(f\"2000 Year : {year_popular_dict[2000]}\")"
   ]
  },
  {
   "cell_type": "markdown",
   "metadata": {
    "id": "73JbBkvIW8GC"
   },
   "source": [
    "## Step 3. Point-wise 데이터셋 생성"
   ]
  },
  {
   "cell_type": "markdown",
   "metadata": {
    "id": "lV3VxxCLqN7Y"
   },
   "source": [
    "#### Ranking Model\n",
    "\n",
    "    [랭킹 모델의 형태와 역할]\n",
    "    1. Binary Classification을 학습하는 Regressor가 가장 대표적인 예\n",
    "    2. y=1은 User가 Item을 시청(혹은 구매 등)한 경우 -> **Ground Truth**\n",
    "    3. f(x_ui) = X_u + X_i + b -> **X_u는 User의 여러가지 정보를 벡터로 나타낸 것, 그리고 X_i는 아이템의 여러가지 정보를 벡터로 나타낸 것**\n",
    "    4. NDCG, AUC, Top@Precision... 등을 기준으로 모델을 학습 (랭킹 학습 방식인 Point-wise, Pair-wise 등을 기준으로 각각 다름)\n",
    "\n",
    "![point-wise](https://raw.githubusercontent.com/yoonkt200/FastCampusDataset/master/images/point-wise.png)"
   ]
  },
  {
   "cell_type": "markdown",
   "metadata": {
    "id": "hVZlWklUE3p9"
   },
   "source": [
    "### 문제 12. EDA & 전처리 - 특정 시간 기준 데이터셋 분리"
   ]
  },
  {
   "cell_type": "code",
   "execution_count": 34,
   "metadata": {
    "ExecuteTime": {
     "end_time": "2022-08-31T13:40:11.979417Z",
     "start_time": "2022-08-31T13:40:11.791803Z"
    },
    "id": "d8FubZ-SFTFc"
   },
   "outputs": [
    {
     "name": "stdout",
     "output_type": "stream",
     "text": [
      "975768738.0\n"
     ]
    },
    {
     "data": {
      "image/png": "[encoded data removed]",
      "text/plain": [
       "<Figure size 432x288 with 1 Axes>"
      ]
     },
     "metadata": {
      "needs_background": "light"
     },
     "output_type": "display_data"
    }
   ],
   "source": [
    "# 데이터셋을 8:2로 나눌 수 있는 시간을 기준으로 데이터셋을 train,test로 분리\n",
    "\n",
    "q_8 = rating_df['time'].quantile(0.8)\n",
    "print(q_8)\n",
    "rating_df['time'].hist(bins=100)\n",
    "plt.show()"
   ]
  },
  {
   "cell_type": "code",
   "execution_count": 35,
   "metadata": {
    "ExecuteTime": {
     "end_time": "2022-08-31T13:40:12.007373Z",
     "start_time": "2022-08-31T13:40:11.981489Z"
    }
   },
   "outputs": [
    {
     "name": "stdout",
     "output_type": "stream",
     "text": [
      "Train DataFrame Shape : (800164, 4)\n",
      "Test DataFrame Shape : (200045, 4)\n"
     ]
    }
   ],
   "source": [
    "train_df = rating_df[rating_df['time'] < q_8] \n",
    "test_df = rating_df[rating_df['time'] >= q_8]\n",
    "\n",
    "print(f'Train DataFrame Shape : {train_df.shape}')\n",
    "print(f'Test DataFrame Shape : {test_df.shape}')"
   ]
  },
  {
   "cell_type": "markdown",
   "metadata": {
    "id": "VZRzhB4vUVAp"
   },
   "source": [
    "### 문제 13. User Profiling - 유저 속성 EDA (gender, age, occupation, zipcode)"
   ]
  },
  {
   "cell_type": "code",
   "execution_count": 36,
   "metadata": {
    "ExecuteTime": {
     "end_time": "2022-08-31T13:40:12.014965Z",
     "start_time": "2022-08-31T13:40:12.008743Z"
    }
   },
   "outputs": [
    {
     "data": {
      "text/html": [
       "<div>\n",
       "<style scoped>\n",
       "    .dataframe tbody tr th:only-of-type {\n",
       "        vertical-align: middle;\n",
       "    }\n",
       "\n",
       "    .dataframe tbody tr th {\n",
       "        vertical-align: top;\n",
       "    }\n",
       "\n",
       "    .dataframe thead th {\n",
       "        text-align: right;\n",
       "    }\n",
       "</style>\n",
       "<table border=\"1\" class=\"dataframe\">\n",
       "  <thead>\n",
       "    <tr style=\"text-align: right;\">\n",
       "      <th></th>\n",
       "      <th>user_id</th>\n",
       "      <th>gender</th>\n",
       "      <th>age</th>\n",
       "      <th>occupation</th>\n",
       "      <th>zipcode</th>\n",
       "    </tr>\n",
       "  </thead>\n",
       "  <tbody>\n",
       "    <tr>\n",
       "      <th>0</th>\n",
       "      <td>1</td>\n",
       "      <td>F</td>\n",
       "      <td>1</td>\n",
       "      <td>10</td>\n",
       "      <td>48067</td>\n",
       "    </tr>\n",
       "    <tr>\n",
       "      <th>1</th>\n",
       "      <td>2</td>\n",
       "      <td>M</td>\n",
       "      <td>56</td>\n",
       "      <td>16</td>\n",
       "      <td>70072</td>\n",
       "    </tr>\n",
       "    <tr>\n",
       "      <th>2</th>\n",
       "      <td>3</td>\n",
       "      <td>M</td>\n",
       "      <td>25</td>\n",
       "      <td>15</td>\n",
       "      <td>55117</td>\n",
       "    </tr>\n",
       "  </tbody>\n",
       "</table>\n",
       "</div>"
      ],
      "text/plain": [
       "   user_id gender  age  occupation zipcode\n",
       "0        1      F    1          10   48067\n",
       "1        2      M   56          16   70072\n",
       "2        3      M   25          15   55117"
      ]
     },
     "execution_count": 36,
     "metadata": {},
     "output_type": "execute_result"
    }
   ],
   "source": [
    "user_df.head(3)"
   ]
  },
  {
   "cell_type": "markdown",
   "metadata": {
    "id": "0wrVCz5BGvjW"
   },
   "source": [
    "##### 1) Gender"
   ]
  },
  {
   "cell_type": "code",
   "execution_count": 37,
   "metadata": {
    "ExecuteTime": {
     "end_time": "2022-08-31T13:40:12.071631Z",
     "start_time": "2022-08-31T13:40:12.016301Z"
    }
   },
   "outputs": [
    {
     "data": {
      "image/png": "[encoded data removed]",
      "text/plain": [
       "<Figure size 432x288 with 1 Axes>"
      ]
     },
     "metadata": {
      "needs_background": "light"
     },
     "output_type": "display_data"
    }
   ],
   "source": [
    "gender = user_df['gender'].value_counts()\n",
    "sns.barplot(gender.index, gender.values)\n",
    "plt.show()"
   ]
  },
  {
   "cell_type": "markdown",
   "metadata": {
    "id": "D7VRqrpkG14k"
   },
   "source": [
    "#### 2) Age"
   ]
  },
  {
   "cell_type": "code",
   "execution_count": 38,
   "metadata": {
    "ExecuteTime": {
     "end_time": "2022-08-31T13:40:12.274791Z",
     "start_time": "2022-08-31T13:40:12.073106Z"
    },
    "executionInfo": {
     "elapsed": 833,
     "status": "ok",
     "timestamp": 1610518778808,
     "user": {
      "displayName": "윤기태",
      "photoUrl": "https://lh3.googleusercontent.com/a-/AOh14GhjX4czjHvHYRaEdNzkkF2s-g0b57J74mP9aSZTyg=s64",
      "userId": "10622173580637109440"
     },
     "user_tz": -540
    },
    "id": "XUoR8H0CDDPo"
   },
   "outputs": [
    {
     "data": {
      "text/plain": [
       "<AxesSubplot:>"
      ]
     },
     "execution_count": 38,
     "metadata": {},
     "output_type": "execute_result"
    },
    {
     "data": {
      "image/png": "[encoded data removed]",
      "text/plain": [
       "<Figure size 432x288 with 1 Axes>"
      ]
     },
     "metadata": {
      "needs_background": "light"
     },
     "output_type": "display_data"
    }
   ],
   "source": [
    "# age 피처 탐색\n",
    "user_df.age.hist()"
   ]
  },
  {
   "cell_type": "code",
   "execution_count": 39,
   "metadata": {
    "ExecuteTime": {
     "end_time": "2022-08-31T13:40:12.280907Z",
     "start_time": "2022-08-31T13:40:12.276387Z"
    },
    "executionInfo": {
     "elapsed": 1242,
     "status": "ok",
     "timestamp": 1610518796426,
     "user": {
      "displayName": "윤기태",
      "photoUrl": "https://lh3.googleusercontent.com/a-/AOh14GhjX4czjHvHYRaEdNzkkF2s-g0b57J74mP9aSZTyg=s64",
      "userId": "10622173580637109440"
     },
     "user_tz": -540
    },
    "id": "CqTRoOXLH4L-"
   },
   "outputs": [
    {
     "data": {
      "text/plain": [
       "25    2096\n",
       "35    1193\n",
       "18    1103\n",
       "45     550\n",
       "50     496\n",
       "56     380\n",
       "1      222\n",
       "Name: age, dtype: int64"
      ]
     },
     "execution_count": 39,
     "metadata": {},
     "output_type": "execute_result"
    }
   ],
   "source": [
    "# age 피처 bucketize (구간별로 되어있는 것)\n",
    "user_df['age'].value_counts()"
   ]
  },
  {
   "cell_type": "code",
   "execution_count": 40,
   "metadata": {
    "ExecuteTime": {
     "end_time": "2022-08-31T13:40:12.290706Z",
     "start_time": "2022-08-31T13:40:12.282269Z"
    }
   },
   "outputs": [
    {
     "data": {
      "text/plain": [
       "20         2096\n",
       "30         1193\n",
       "10         1103\n",
       "50          876\n",
       "40          550\n",
       "outlier     222\n",
       "Name: age_bucket, dtype: int64"
      ]
     },
     "execution_count": 40,
     "metadata": {},
     "output_type": "execute_result"
    }
   ],
   "source": [
    "def age_bucket(age):\n",
    "    if age == 1:\n",
    "        return 'outlier'\n",
    "    else:\n",
    "        return str(age)[0] + \"0\"\n",
    "\n",
    "user_df['age_bucket'] = user_df['age'].apply(age_bucket)\n",
    "user_df['age_bucket'].value_counts()"
   ]
  },
  {
   "cell_type": "markdown",
   "metadata": {
    "id": "uBDIwD-GG6Qf"
   },
   "source": [
    "#### 3) Occupation"
   ]
  },
  {
   "cell_type": "code",
   "execution_count": 41,
   "metadata": {
    "ExecuteTime": {
     "end_time": "2022-08-31T13:40:12.297675Z",
     "start_time": "2022-08-31T13:40:12.292328Z"
    },
    "executionInfo": {
     "elapsed": 1079,
     "status": "ok",
     "timestamp": 1610518809682,
     "user": {
      "displayName": "윤기태",
      "photoUrl": "https://lh3.googleusercontent.com/a-/AOh14GhjX4czjHvHYRaEdNzkkF2s-g0b57J74mP9aSZTyg=s64",
      "userId": "10622173580637109440"
     },
     "user_tz": -540
    },
    "id": "6T_jdIECDDZw"
   },
   "outputs": [
    {
     "data": {
      "text/plain": [
       "4     759\n",
       "0     711\n",
       "7     679\n",
       "1     528\n",
       "17    502\n",
       "12    388\n",
       "14    302\n",
       "20    281\n",
       "2     267\n",
       "16    241\n",
       "6     236\n",
       "10    195\n",
       "3     173\n",
       "15    144\n",
       "13    142\n",
       "11    129\n",
       "5     112\n",
       "9      92\n",
       "19     72\n",
       "18     70\n",
       "8      17\n",
       "Name: occupation, dtype: int64"
      ]
     },
     "execution_count": 41,
     "metadata": {},
     "output_type": "execute_result"
    }
   ],
   "source": [
    "# occupation 피처 탐색\n",
    "\n",
    "user_df['occupation'].value_counts()"
   ]
  },
  {
   "cell_type": "code",
   "execution_count": 42,
   "metadata": {
    "ExecuteTime": {
     "end_time": "2022-08-31T13:40:12.449361Z",
     "start_time": "2022-08-31T13:40:12.300054Z"
    }
   },
   "outputs": [
    {
     "data": {
      "image/png": "[encoded data removed]",
      "text/plain": [
       "<Figure size 432x288 with 1 Axes>"
      ]
     },
     "metadata": {
      "needs_background": "light"
     },
     "output_type": "display_data"
    }
   ],
   "source": [
    "user_df['occupation'].value_counts().plot(kind='bar')\n",
    "plt.show()"
   ]
  },
  {
   "cell_type": "markdown",
   "metadata": {
    "id": "81MD-1OQG976"
   },
   "source": [
    "#### 4) Zipcode"
   ]
  },
  {
   "cell_type": "code",
   "execution_count": 43,
   "metadata": {
    "ExecuteTime": {
     "end_time": "2022-08-31T13:40:12.458411Z",
     "start_time": "2022-08-31T13:40:12.450954Z"
    },
    "executionInfo": {
     "elapsed": 1959,
     "status": "ok",
     "timestamp": 1610518820228,
     "user": {
      "displayName": "윤기태",
      "photoUrl": "https://lh3.googleusercontent.com/a-/AOh14GhjX4czjHvHYRaEdNzkkF2s-g0b57J74mP9aSZTyg=s64",
      "userId": "10622173580637109440"
     },
     "user_tz": -540
    },
    "id": "zwadmLV4Do2j"
   },
   "outputs": [
    {
     "data": {
      "text/plain": [
       "48104    19\n",
       "22903    18\n",
       "55104    17\n",
       "94110    17\n",
       "55455    16\n",
       "         ..\n",
       "77459     1\n",
       "03756     1\n",
       "76205     1\n",
       "47274     1\n",
       "02777     1\n",
       "Name: zipcode, Length: 3439, dtype: int64"
      ]
     },
     "execution_count": 43,
     "metadata": {},
     "output_type": "execute_result"
    }
   ],
   "source": [
    "# zipcode 피처 탐색\n",
    "user_df['zipcode'].value_counts()"
   ]
  },
  {
   "cell_type": "markdown",
   "metadata": {
    "id": "QvguJidV2djG"
   },
   "source": [
    "### 문제 14. User Profiling - 유저 속성별 피쳐맵 생성"
   ]
  },
  {
   "cell_type": "code",
   "execution_count": 44,
   "metadata": {
    "ExecuteTime": {
     "end_time": "2022-08-31T13:40:12.468672Z",
     "start_time": "2022-08-31T13:40:12.460124Z"
    }
   },
   "outputs": [
    {
     "data": {
      "text/html": [
       "<div>\n",
       "<style scoped>\n",
       "    .dataframe tbody tr th:only-of-type {\n",
       "        vertical-align: middle;\n",
       "    }\n",
       "\n",
       "    .dataframe tbody tr th {\n",
       "        vertical-align: top;\n",
       "    }\n",
       "\n",
       "    .dataframe thead th {\n",
       "        text-align: right;\n",
       "    }\n",
       "</style>\n",
       "<table border=\"1\" class=\"dataframe\">\n",
       "  <thead>\n",
       "    <tr style=\"text-align: right;\">\n",
       "      <th></th>\n",
       "      <th>user_id</th>\n",
       "      <th>gender</th>\n",
       "      <th>age</th>\n",
       "      <th>occupation</th>\n",
       "      <th>zipcode</th>\n",
       "      <th>age_bucket</th>\n",
       "    </tr>\n",
       "  </thead>\n",
       "  <tbody>\n",
       "    <tr>\n",
       "      <th>0</th>\n",
       "      <td>1</td>\n",
       "      <td>F</td>\n",
       "      <td>1</td>\n",
       "      <td>10</td>\n",
       "      <td>48067</td>\n",
       "      <td>outlier</td>\n",
       "    </tr>\n",
       "    <tr>\n",
       "      <th>1</th>\n",
       "      <td>2</td>\n",
       "      <td>M</td>\n",
       "      <td>56</td>\n",
       "      <td>16</td>\n",
       "      <td>70072</td>\n",
       "      <td>50</td>\n",
       "    </tr>\n",
       "  </tbody>\n",
       "</table>\n",
       "</div>"
      ],
      "text/plain": [
       "   user_id gender  age  occupation zipcode age_bucket\n",
       "0        1      F    1          10   48067    outlier\n",
       "1        2      M   56          16   70072         50"
      ]
     },
     "execution_count": 44,
     "metadata": {},
     "output_type": "execute_result"
    }
   ],
   "source": [
    "user_df.head(2)"
   ]
  },
  {
   "cell_type": "markdown",
   "metadata": {
    "id": "yLff1k3iJdLJ"
   },
   "source": [
    "#### 1) Gender"
   ]
  },
  {
   "cell_type": "code",
   "execution_count": 45,
   "metadata": {
    "ExecuteTime": {
     "end_time": "2022-08-31T13:40:12.474787Z",
     "start_time": "2022-08-31T13:40:12.470195Z"
    },
    "executionInfo": {
     "elapsed": 1371,
     "status": "ok",
     "timestamp": 1610519194514,
     "user": {
      "displayName": "윤기태",
      "photoUrl": "https://lh3.googleusercontent.com/a-/AOh14GhjX4czjHvHYRaEdNzkkF2s-g0b57J74mP9aSZTyg=s64",
      "userId": "10622173580637109440"
     },
     "user_tz": -540
    },
    "id": "Vn4wnq7JIpkD"
   },
   "outputs": [
    {
     "data": {
      "text/plain": [
       "{'F': 1, 'M': 2}"
      ]
     },
     "execution_count": 45,
     "metadata": {},
     "output_type": "execute_result"
    }
   ],
   "source": [
    "# gender 피처맵 생성 \n",
    "gender_list = user_df['gender'].unique()\n",
    "gender_index = {}\n",
    "\n",
    "for idx, gender in enumerate(gender_list):\n",
    "    gender_index[gender] = idx+1\n",
    "    \n",
    "    \n",
    "gender_index\n",
    "# ex.\n",
    "# {'F': 1, 'M': 2}"
   ]
  },
  {
   "cell_type": "markdown",
   "metadata": {
    "id": "hbniNcJKJgF5"
   },
   "source": [
    "#### 2) Age"
   ]
  },
  {
   "cell_type": "code",
   "execution_count": 46,
   "metadata": {
    "ExecuteTime": {
     "end_time": "2022-08-31T13:40:12.481769Z",
     "start_time": "2022-08-31T13:40:12.476377Z"
    },
    "executionInfo": {
     "elapsed": 863,
     "status": "ok",
     "timestamp": 1610519190741,
     "user": {
      "displayName": "윤기태",
      "photoUrl": "https://lh3.googleusercontent.com/a-/AOh14GhjX4czjHvHYRaEdNzkkF2s-g0b57J74mP9aSZTyg=s64",
      "userId": "10622173580637109440"
     },
     "user_tz": -540
    },
    "id": "00eY0KeAJho_"
   },
   "outputs": [
    {
     "data": {
      "text/plain": [
       "{'outlier': 1, '50': 2, '20': 3, '40': 4, '30': 5, '10': 6}"
      ]
     },
     "execution_count": 46,
     "metadata": {},
     "output_type": "execute_result"
    }
   ],
   "source": [
    "# age 피처맵 생성\n",
    "\n",
    "age_list = user_df['age_bucket'].unique()\n",
    "age_index = {}\n",
    "\n",
    "for idx, age in enumerate(age_list):\n",
    "    age_index[age] = idx+1\n",
    "\n",
    "age_index\n",
    "# ex.\n",
    "# {'10': 6, '20': 3, '30': 5, '40': 4, '50': 2, 'outlier': 1}"
   ]
  },
  {
   "cell_type": "markdown",
   "metadata": {
    "id": "xX2nMlvPKXws"
   },
   "source": [
    "#### 3) Occupation"
   ]
  },
  {
   "cell_type": "code",
   "execution_count": 47,
   "metadata": {
    "ExecuteTime": {
     "end_time": "2022-08-31T13:40:12.489398Z",
     "start_time": "2022-08-31T13:40:12.484568Z"
    },
    "id": "ugHi1hrIKXVB"
   },
   "outputs": [
    {
     "data": {
      "text/plain": [
       "{10: 1,\n",
       " 16: 2,\n",
       " 15: 3,\n",
       " 7: 4,\n",
       " 20: 5,\n",
       " 9: 6,\n",
       " 1: 7,\n",
       " 12: 8,\n",
       " 17: 9,\n",
       " 0: 10,\n",
       " 3: 11,\n",
       " 14: 12,\n",
       " 4: 13,\n",
       " 11: 14,\n",
       " 8: 15,\n",
       " 19: 16,\n",
       " 2: 17,\n",
       " 18: 18,\n",
       " 5: 19,\n",
       " 13: 20,\n",
       " 6: 21}"
      ]
     },
     "execution_count": 47,
     "metadata": {},
     "output_type": "execute_result"
    }
   ],
   "source": [
    "# occupation 피처맵 생성\n",
    "occupation_list = user_df['occupation'].unique()\n",
    "occupation_index = {}\n",
    "\n",
    "for idx, occ in enumerate(occupation_list):\n",
    "    occupation_index[occ] = idx+1\n",
    "\n",
    "occupation_index\n",
    "# ex.\n",
    "# {0: 10,\n",
    "#  1: 7,\n",
    "#  2: 17,\n",
    "#  3: 11,\n",
    "#  4: 13,\n",
    "#  ...}"
   ]
  },
  {
   "cell_type": "markdown",
   "metadata": {
    "id": "LsrXLeWVUVnk"
   },
   "source": [
    "### 문제 15. Item Profiling - 영화 속성별 피쳐맵 생성 (장르, 년도)"
   ]
  },
  {
   "cell_type": "markdown",
   "metadata": {
    "id": "fYvAd8npNcXG"
   },
   "source": [
    "#### 1) Genre"
   ]
  },
  {
   "cell_type": "code",
   "execution_count": 48,
   "metadata": {
    "ExecuteTime": {
     "end_time": "2022-08-31T13:40:12.496300Z",
     "start_time": "2022-08-31T13:40:12.491079Z"
    },
    "executionInfo": {
     "elapsed": 762,
     "status": "ok",
     "timestamp": 1610519252174,
     "user": {
      "displayName": "윤기태",
      "photoUrl": "https://lh3.googleusercontent.com/a-/AOh14GhjX4czjHvHYRaEdNzkkF2s-g0b57J74mP9aSZTyg=s64",
      "userId": "10622173580637109440"
     },
     "user_tz": -540
    },
    "id": "he9mfzhZNauV"
   },
   "outputs": [
    {
     "data": {
      "text/plain": [
       "{'Animation': 1,\n",
       " 'Adventure': 2,\n",
       " 'Comedy': 3,\n",
       " 'Action': 4,\n",
       " 'Drama': 5,\n",
       " 'Thriller': 6,\n",
       " 'Crime': 7,\n",
       " 'Romance': 8,\n",
       " \"Children's\": 9,\n",
       " 'Documentary': 10,\n",
       " 'Sci-Fi': 11,\n",
       " 'Horror': 12,\n",
       " 'Western': 13,\n",
       " 'Mystery': 14,\n",
       " 'Film-Noir': 15,\n",
       " 'War': 16,\n",
       " 'Fantasy': 17,\n",
       " 'Musical': 18}"
      ]
     },
     "execution_count": 48,
     "metadata": {},
     "output_type": "execute_result"
    }
   ],
   "source": [
    "# genre 피처맵 생성\n",
    "\n",
    "genre_list = merge_df['main_genre'].unique()\n",
    "genre_dict = {}\n",
    "\n",
    "for i, g in enumerate(genre_list):\n",
    "    genre_dict[g] = i + 1\n",
    "genre_dict\n",
    "\n",
    "# ex.\n",
    "# {'Action': 4,\n",
    "#  'Adventure': 2,\n",
    "#  'Animation': 1,\n",
    "#  \"Children's\": 9,\n",
    "#  'Comedy': 3,\n",
    "#  'Crime': 7,\n",
    "#  'Documentary': 10,\n",
    "#  'Drama': 5,\n",
    "#  'Fantasy': 17,\n",
    "#  'Film-Noir': 15,\n",
    "#  'Horror': 12,\n",
    "#  'Musical': 18,\n",
    "#  'Mystery': 14,\n",
    "#  'Romance': 8,\n",
    "#  'Sci-Fi': 11,\n",
    "#  'Thriller': 6,\n",
    "#  'War': 16,\n",
    "#  'Western': 13}"
   ]
  },
  {
   "cell_type": "markdown",
   "metadata": {
    "id": "ilOx4ajqNeov"
   },
   "source": [
    "#### 2) Year"
   ]
  },
  {
   "cell_type": "code",
   "execution_count": 49,
   "metadata": {
    "ExecuteTime": {
     "end_time": "2022-08-31T13:40:12.501965Z",
     "start_time": "2022-08-31T13:40:12.497959Z"
    },
    "executionInfo": {
     "elapsed": 812,
     "status": "ok",
     "timestamp": 1610519258453,
     "user": {
      "displayName": "윤기태",
      "photoUrl": "https://lh3.googleusercontent.com/a-/AOh14GhjX4czjHvHYRaEdNzkkF2s-g0b57J74mP9aSZTyg=s64",
      "userId": "10622173580637109440"
     },
     "user_tz": -540
    },
    "id": "DXWDPGAsNg4p"
   },
   "outputs": [
    {
     "data": {
      "text/plain": [
       "'{1995: 1, 1994: 2, 1996: 3, 19'"
      ]
     },
     "execution_count": 49,
     "metadata": {},
     "output_type": "execute_result"
    }
   ],
   "source": [
    "# year 피처맵 생성\n",
    "year_list = merge_df['released_year_area'].unique()\n",
    "year_dict = {}\n",
    "\n",
    "for i, y in enumerate(year_list):\n",
    "    year_dict[y] = i + 1\n",
    "\n",
    "str(year_dict)[:30]\n"
   ]
  },
  {
   "cell_type": "markdown",
   "metadata": {
    "id": "b7sO7lrxUV9l"
   },
   "source": [
    "### 문제 16. Context Profiling - 특정 시간 기준 유저 행동 EDA (시청한 영화 정보, 시청한 영화 점수 분포)"
   ]
  },
  {
   "cell_type": "code",
   "execution_count": 50,
   "metadata": {
    "ExecuteTime": {
     "end_time": "2022-08-31T13:40:12.511300Z",
     "start_time": "2022-08-31T13:40:12.503583Z"
    },
    "id": "8q-I18yAPOx5"
   },
   "outputs": [
    {
     "data": {
      "text/html": [
       "<div>\n",
       "<style scoped>\n",
       "    .dataframe tbody tr th:only-of-type {\n",
       "        vertical-align: middle;\n",
       "    }\n",
       "\n",
       "    .dataframe tbody tr th {\n",
       "        vertical-align: top;\n",
       "    }\n",
       "\n",
       "    .dataframe thead th {\n",
       "        text-align: right;\n",
       "    }\n",
       "</style>\n",
       "<table border=\"1\" class=\"dataframe\">\n",
       "  <thead>\n",
       "    <tr style=\"text-align: right;\">\n",
       "      <th></th>\n",
       "      <th>user_id</th>\n",
       "      <th>movie_id</th>\n",
       "      <th>rating</th>\n",
       "      <th>time</th>\n",
       "    </tr>\n",
       "  </thead>\n",
       "  <tbody>\n",
       "    <tr>\n",
       "      <th>94507</th>\n",
       "      <td>635</td>\n",
       "      <td>1251</td>\n",
       "      <td>4</td>\n",
       "      <td>975768620</td>\n",
       "    </tr>\n",
       "    <tr>\n",
       "      <th>94513</th>\n",
       "      <td>635</td>\n",
       "      <td>3948</td>\n",
       "      <td>4</td>\n",
       "      <td>975768294</td>\n",
       "    </tr>\n",
       "    <tr>\n",
       "      <th>94518</th>\n",
       "      <td>635</td>\n",
       "      <td>1270</td>\n",
       "      <td>4</td>\n",
       "      <td>975768106</td>\n",
       "    </tr>\n",
       "    <tr>\n",
       "      <th>94519</th>\n",
       "      <td>635</td>\n",
       "      <td>1279</td>\n",
       "      <td>5</td>\n",
       "      <td>975768520</td>\n",
       "    </tr>\n",
       "    <tr>\n",
       "      <th>94522</th>\n",
       "      <td>635</td>\n",
       "      <td>1286</td>\n",
       "      <td>4</td>\n",
       "      <td>975768106</td>\n",
       "    </tr>\n",
       "  </tbody>\n",
       "</table>\n",
       "</div>"
      ],
      "text/plain": [
       "       user_id  movie_id  rating       time\n",
       "94507      635      1251       4  975768620\n",
       "94513      635      3948       4  975768294\n",
       "94518      635      1270       4  975768106\n",
       "94519      635      1279       5  975768520\n",
       "94522      635      1286       4  975768106"
      ]
     },
     "execution_count": 50,
     "metadata": {},
     "output_type": "execute_result"
    }
   ],
   "source": [
    "# 시간 기준으로 분리한 데이터셋 EDA\n",
    "\n",
    "train_df.head()"
   ]
  },
  {
   "cell_type": "code",
   "execution_count": 51,
   "metadata": {
    "ExecuteTime": {
     "end_time": "2022-08-31T13:40:12.849456Z",
     "start_time": "2022-08-31T13:40:12.512837Z"
    }
   },
   "outputs": [
    {
     "data": {
      "text/html": [
       "<div>\n",
       "<style scoped>\n",
       "    .dataframe tbody tr th:only-of-type {\n",
       "        vertical-align: middle;\n",
       "    }\n",
       "\n",
       "    .dataframe tbody tr th {\n",
       "        vertical-align: top;\n",
       "    }\n",
       "\n",
       "    .dataframe thead th {\n",
       "        text-align: right;\n",
       "    }\n",
       "</style>\n",
       "<table border=\"1\" class=\"dataframe\">\n",
       "  <thead>\n",
       "    <tr style=\"text-align: right;\">\n",
       "      <th></th>\n",
       "      <th>user_id</th>\n",
       "      <th>movie_id</th>\n",
       "      <th>rating</th>\n",
       "      <th>time</th>\n",
       "      <th>title</th>\n",
       "      <th>genre</th>\n",
       "      <th>released_year_area</th>\n",
       "      <th>main_genre</th>\n",
       "      <th>gender</th>\n",
       "      <th>age</th>\n",
       "      <th>occupation</th>\n",
       "      <th>zipcode</th>\n",
       "      <th>age_bucket</th>\n",
       "    </tr>\n",
       "  </thead>\n",
       "  <tbody>\n",
       "    <tr>\n",
       "      <th>0</th>\n",
       "      <td>635</td>\n",
       "      <td>1251</td>\n",
       "      <td>4</td>\n",
       "      <td>975768620</td>\n",
       "      <td>8 1/2 (1963)</td>\n",
       "      <td>Drama</td>\n",
       "      <td>1963</td>\n",
       "      <td>Drama</td>\n",
       "      <td>M</td>\n",
       "      <td>56</td>\n",
       "      <td>17</td>\n",
       "      <td>33785</td>\n",
       "      <td>50</td>\n",
       "    </tr>\n",
       "    <tr>\n",
       "      <th>1</th>\n",
       "      <td>635</td>\n",
       "      <td>3948</td>\n",
       "      <td>4</td>\n",
       "      <td>975768294</td>\n",
       "      <td>Meet the Parents (2000)</td>\n",
       "      <td>Comedy</td>\n",
       "      <td>2000</td>\n",
       "      <td>Comedy</td>\n",
       "      <td>M</td>\n",
       "      <td>56</td>\n",
       "      <td>17</td>\n",
       "      <td>33785</td>\n",
       "      <td>50</td>\n",
       "    </tr>\n",
       "    <tr>\n",
       "      <th>2</th>\n",
       "      <td>635</td>\n",
       "      <td>1270</td>\n",
       "      <td>4</td>\n",
       "      <td>975768106</td>\n",
       "      <td>Back to the Future (1985)</td>\n",
       "      <td>Comedy|Sci-Fi</td>\n",
       "      <td>1985</td>\n",
       "      <td>Comedy</td>\n",
       "      <td>M</td>\n",
       "      <td>56</td>\n",
       "      <td>17</td>\n",
       "      <td>33785</td>\n",
       "      <td>50</td>\n",
       "    </tr>\n",
       "    <tr>\n",
       "      <th>3</th>\n",
       "      <td>635</td>\n",
       "      <td>1279</td>\n",
       "      <td>5</td>\n",
       "      <td>975768520</td>\n",
       "      <td>Night on Earth (1991)</td>\n",
       "      <td>Comedy|Drama</td>\n",
       "      <td>1991</td>\n",
       "      <td>Comedy</td>\n",
       "      <td>M</td>\n",
       "      <td>56</td>\n",
       "      <td>17</td>\n",
       "      <td>33785</td>\n",
       "      <td>50</td>\n",
       "    </tr>\n",
       "    <tr>\n",
       "      <th>4</th>\n",
       "      <td>635</td>\n",
       "      <td>1286</td>\n",
       "      <td>4</td>\n",
       "      <td>975768106</td>\n",
       "      <td>Somewhere in Time (1980)</td>\n",
       "      <td>Drama|Romance</td>\n",
       "      <td>1980</td>\n",
       "      <td>Drama</td>\n",
       "      <td>M</td>\n",
       "      <td>56</td>\n",
       "      <td>17</td>\n",
       "      <td>33785</td>\n",
       "      <td>50</td>\n",
       "    </tr>\n",
       "  </tbody>\n",
       "</table>\n",
       "</div>"
      ],
      "text/plain": [
       "   user_id  movie_id  rating       time                      title  \\\n",
       "0      635      1251       4  975768620               8 1/2 (1963)   \n",
       "1      635      3948       4  975768294    Meet the Parents (2000)   \n",
       "2      635      1270       4  975768106  Back to the Future (1985)   \n",
       "3      635      1279       5  975768520      Night on Earth (1991)   \n",
       "4      635      1286       4  975768106   Somewhere in Time (1980)   \n",
       "\n",
       "           genre  released_year_area main_genre gender  age  occupation  \\\n",
       "0          Drama                1963      Drama      M   56          17   \n",
       "1         Comedy                2000     Comedy      M   56          17   \n",
       "2  Comedy|Sci-Fi                1985     Comedy      M   56          17   \n",
       "3   Comedy|Drama                1991     Comedy      M   56          17   \n",
       "4  Drama|Romance                1980      Drama      M   56          17   \n",
       "\n",
       "  zipcode age_bucket  \n",
       "0   33785         50  \n",
       "1   33785         50  \n",
       "2   33785         50  \n",
       "3   33785         50  \n",
       "4   33785         50  "
      ]
     },
     "execution_count": 51,
     "metadata": {},
     "output_type": "execute_result"
    }
   ],
   "source": [
    "# 현재는 Train / Test로 나눈 시간에 따라 feature map을 생성하지 않았어\n",
    "# 다시 분포를 확인해보고 많이 다르면 train_df, test_df 로 병합 후 다시 나눠주는 것이 좋음\n",
    "\n",
    "train_df = pd.merge(train_df, movie_df, on=['movie_id'])\n",
    "train_df = pd.merge(train_df, user_df, on=['user_id'])\n",
    "train_df.head()"
   ]
  },
  {
   "cell_type": "code",
   "execution_count": 52,
   "metadata": {
    "ExecuteTime": {
     "end_time": "2022-08-31T13:40:13.563629Z",
     "start_time": "2022-08-31T13:40:12.850780Z"
    }
   },
   "outputs": [
    {
     "data": {
      "image/png": "[encoded data removed]",
      "text/plain": [
       "<Figure size 432x288 with 1 Axes>"
      ]
     },
     "metadata": {
      "needs_background": "light"
     },
     "output_type": "display_data"
    }
   ],
   "source": [
    "rel_li = movie_df['released_year_area'].value_counts().sort_index()\n",
    "sns.barplot(rel_li.index, rel_li.values)\n",
    "plt.show()"
   ]
  },
  {
   "cell_type": "code",
   "execution_count": 53,
   "metadata": {
    "ExecuteTime": {
     "end_time": "2022-08-31T13:40:14.284198Z",
     "start_time": "2022-08-31T13:40:13.564764Z"
    }
   },
   "outputs": [
    {
     "data": {
      "image/png": "[encoded data removed]",
      "text/plain": [
       "<Figure size 432x288 with 1 Axes>"
      ]
     },
     "metadata": {
      "needs_background": "light"
     },
     "output_type": "display_data"
    }
   ],
   "source": [
    "rel_li = train_df['released_year_area'].value_counts().sort_index()\n",
    "sns.barplot(rel_li.index, rel_li.values)\n",
    "plt.show()"
   ]
  },
  {
   "cell_type": "markdown",
   "metadata": {},
   "source": [
    "    - 분포가 같으므로 그대로 진행\n",
    "   "
   ]
  },
  {
   "cell_type": "code",
   "execution_count": 54,
   "metadata": {
    "ExecuteTime": {
     "end_time": "2022-08-31T13:40:14.403213Z",
     "start_time": "2022-08-31T13:40:14.285345Z"
    }
   },
   "outputs": [
    {
     "data": {
      "text/plain": [
       "<AxesSubplot:>"
      ]
     },
     "execution_count": 54,
     "metadata": {},
     "output_type": "execute_result"
    },
    {
     "data": {
      "image/png": "[encoded data removed]",
      "text/plain": [
       "<Figure size 432x288 with 1 Axes>"
      ]
     },
     "metadata": {
      "needs_background": "light"
     },
     "output_type": "display_data"
    }
   ],
   "source": [
    "rating_df['rating'].hist()"
   ]
  },
  {
   "cell_type": "code",
   "execution_count": 55,
   "metadata": {
    "ExecuteTime": {
     "end_time": "2022-08-31T13:40:14.604362Z",
     "start_time": "2022-08-31T13:40:14.404733Z"
    }
   },
   "outputs": [
    {
     "data": {
      "text/plain": [
       "<AxesSubplot:>"
      ]
     },
     "execution_count": 55,
     "metadata": {},
     "output_type": "execute_result"
    },
    {
     "data": {
      "image/png": "[encoded data removed]",
      "text/plain": [
       "<Figure size 432x288 with 1 Axes>"
      ]
     },
     "metadata": {
      "needs_background": "light"
     },
     "output_type": "display_data"
    }
   ],
   "source": [
    "train_df['rating'].hist()"
   ]
  },
  {
   "cell_type": "markdown",
   "metadata": {},
   "source": [
    "    - 분포가 같으므로 그대로 진행"
   ]
  },
  {
   "cell_type": "markdown",
   "metadata": {
    "id": "j9A14Tq_20M8"
   },
   "source": [
    "### 문제 17. Feature Mapping - Profiling 피처맵 맵핑"
   ]
  },
  {
   "cell_type": "code",
   "execution_count": 56,
   "metadata": {
    "ExecuteTime": {
     "end_time": "2022-08-31T13:40:14.910714Z",
     "start_time": "2022-08-31T13:40:14.605823Z"
    },
    "colab": {
     "base_uri": "https://localhost:8080/",
     "height": 204
    },
    "executionInfo": {
     "elapsed": 539,
     "status": "ok",
     "timestamp": 1609042921107,
     "user": {
      "displayName": "윤기태",
      "photoUrl": "https://lh3.googleusercontent.com/a-/AOh14GhjX4czjHvHYRaEdNzkkF2s-g0b57J74mP9aSZTyg=s64",
      "userId": "10622173580637109440"
     },
     "user_tz": -540
    },
    "id": "XCZ1LZsDf9zj",
    "outputId": "ad2ef2b3-9ccf-4ce0-949b-0385dbe2443a"
   },
   "outputs": [
    {
     "data": {
      "text/html": [
       "<div>\n",
       "<style scoped>\n",
       "    .dataframe tbody tr th:only-of-type {\n",
       "        vertical-align: middle;\n",
       "    }\n",
       "\n",
       "    .dataframe tbody tr th {\n",
       "        vertical-align: top;\n",
       "    }\n",
       "\n",
       "    .dataframe thead th {\n",
       "        text-align: right;\n",
       "    }\n",
       "</style>\n",
       "<table border=\"1\" class=\"dataframe\">\n",
       "  <thead>\n",
       "    <tr style=\"text-align: right;\">\n",
       "      <th></th>\n",
       "      <th>user_id</th>\n",
       "      <th>movie_id</th>\n",
       "      <th>rating</th>\n",
       "      <th>released_year_area</th>\n",
       "      <th>main_genre</th>\n",
       "      <th>gender</th>\n",
       "      <th>occupation</th>\n",
       "      <th>age_bucket</th>\n",
       "    </tr>\n",
       "  </thead>\n",
       "  <tbody>\n",
       "    <tr>\n",
       "      <th>0</th>\n",
       "      <td>635</td>\n",
       "      <td>1251</td>\n",
       "      <td>4</td>\n",
       "      <td>32</td>\n",
       "      <td>5</td>\n",
       "      <td>2</td>\n",
       "      <td>9</td>\n",
       "      <td>2</td>\n",
       "    </tr>\n",
       "    <tr>\n",
       "      <th>1</th>\n",
       "      <td>635</td>\n",
       "      <td>3948</td>\n",
       "      <td>4</td>\n",
       "      <td>79</td>\n",
       "      <td>3</td>\n",
       "      <td>2</td>\n",
       "      <td>9</td>\n",
       "      <td>2</td>\n",
       "    </tr>\n",
       "    <tr>\n",
       "      <th>2</th>\n",
       "      <td>635</td>\n",
       "      <td>1270</td>\n",
       "      <td>4</td>\n",
       "      <td>66</td>\n",
       "      <td>3</td>\n",
       "      <td>2</td>\n",
       "      <td>9</td>\n",
       "      <td>2</td>\n",
       "    </tr>\n",
       "    <tr>\n",
       "      <th>3</th>\n",
       "      <td>635</td>\n",
       "      <td>1279</td>\n",
       "      <td>5</td>\n",
       "      <td>15</td>\n",
       "      <td>3</td>\n",
       "      <td>2</td>\n",
       "      <td>9</td>\n",
       "      <td>2</td>\n",
       "    </tr>\n",
       "    <tr>\n",
       "      <th>4</th>\n",
       "      <td>635</td>\n",
       "      <td>1286</td>\n",
       "      <td>4</td>\n",
       "      <td>28</td>\n",
       "      <td>5</td>\n",
       "      <td>2</td>\n",
       "      <td>9</td>\n",
       "      <td>2</td>\n",
       "    </tr>\n",
       "  </tbody>\n",
       "</table>\n",
       "</div>"
      ],
      "text/plain": [
       "   user_id  movie_id  rating  released_year_area  main_genre  gender  \\\n",
       "0      635      1251       4                  32           5       2   \n",
       "1      635      3948       4                  79           3       2   \n",
       "2      635      1270       4                  66           3       2   \n",
       "3      635      1279       5                  15           3       2   \n",
       "4      635      1286       4                  28           5       2   \n",
       "\n",
       "   occupation  age_bucket  \n",
       "0           9           2  \n",
       "1           9           2  \n",
       "2           9           2  \n",
       "3           9           2  \n",
       "4           9           2  "
      ]
     },
     "execution_count": 56,
     "metadata": {},
     "output_type": "execute_result"
    }
   ],
   "source": [
    "# profile 완료된 경과로 피처맵 맵핑\n",
    "\n",
    "train_df = train_df[['user_id', 'movie_id', 'rating', 'released_year_area', \n",
    "                     'main_genre','gender', 'occupation', 'age_bucket']]\n",
    "\n",
    "train_df['released_year_area'] = train_df['released_year_area'].map(year_dict)\n",
    "train_df['main_genre'] = train_df['main_genre'].map(genre_dict)\n",
    "train_df['gender'] = train_df['gender'].map(gender_index)\n",
    "train_df['occupation'] = train_df['occupation'].map(occupation_index)\n",
    "train_df['age_bucket'] = train_df['age_bucket'].map(age_index)\n",
    "\n",
    "train_df.head()\n",
    "# ex.\n",
    "# \tuser_id\tmovie_id\trating\treleased_year_area\tmain_genre\tgender\toccupation\tage_bucket\n",
    "# 0\t635\t1251\t4\t4\t5\t2\t9\t2\n",
    "# 1\t635\t3948\t4\t10\t3\t2\t9\t2\n",
    "# 2\t635\t1270\t4\t3\t3\t2\t9\t2\n",
    "# 3\t635\t1279\t5\t1\t3\t2\t9\t2\n",
    "# 4\t635\t1286\t4\t3\t5\t2\t9\t2"
   ]
  },
  {
   "cell_type": "code",
   "execution_count": 57,
   "metadata": {
    "ExecuteTime": {
     "end_time": "2022-08-31T13:40:14.990346Z",
     "start_time": "2022-08-31T13:40:14.911935Z"
    }
   },
   "outputs": [
    {
     "data": {
      "text/html": [
       "<div>\n",
       "<style scoped>\n",
       "    .dataframe tbody tr th:only-of-type {\n",
       "        vertical-align: middle;\n",
       "    }\n",
       "\n",
       "    .dataframe tbody tr th {\n",
       "        vertical-align: top;\n",
       "    }\n",
       "\n",
       "    .dataframe thead th {\n",
       "        text-align: right;\n",
       "    }\n",
       "</style>\n",
       "<table border=\"1\" class=\"dataframe\">\n",
       "  <thead>\n",
       "    <tr style=\"text-align: right;\">\n",
       "      <th></th>\n",
       "      <th>user_id</th>\n",
       "      <th>movie_id</th>\n",
       "      <th>rating</th>\n",
       "      <th>time</th>\n",
       "      <th>title</th>\n",
       "      <th>genre</th>\n",
       "      <th>released_year_area</th>\n",
       "      <th>main_genre</th>\n",
       "      <th>gender</th>\n",
       "      <th>age</th>\n",
       "      <th>occupation</th>\n",
       "      <th>zipcode</th>\n",
       "      <th>age_bucket</th>\n",
       "    </tr>\n",
       "  </thead>\n",
       "  <tbody>\n",
       "    <tr>\n",
       "      <th>0</th>\n",
       "      <td>1</td>\n",
       "      <td>1193</td>\n",
       "      <td>5</td>\n",
       "      <td>978300760</td>\n",
       "      <td>One Flew Over the Cuckoo's Nest (1975)</td>\n",
       "      <td>Drama</td>\n",
       "      <td>1975</td>\n",
       "      <td>Drama</td>\n",
       "      <td>F</td>\n",
       "      <td>1</td>\n",
       "      <td>10</td>\n",
       "      <td>48067</td>\n",
       "      <td>outlier</td>\n",
       "    </tr>\n",
       "    <tr>\n",
       "      <th>1</th>\n",
       "      <td>1</td>\n",
       "      <td>661</td>\n",
       "      <td>3</td>\n",
       "      <td>978302109</td>\n",
       "      <td>James and the Giant Peach (1996)</td>\n",
       "      <td>Animation|Children's|Musical</td>\n",
       "      <td>1996</td>\n",
       "      <td>Animation</td>\n",
       "      <td>F</td>\n",
       "      <td>1</td>\n",
       "      <td>10</td>\n",
       "      <td>48067</td>\n",
       "      <td>outlier</td>\n",
       "    </tr>\n",
       "    <tr>\n",
       "      <th>2</th>\n",
       "      <td>1</td>\n",
       "      <td>914</td>\n",
       "      <td>3</td>\n",
       "      <td>978301968</td>\n",
       "      <td>My Fair Lady (1964)</td>\n",
       "      <td>Musical|Romance</td>\n",
       "      <td>1964</td>\n",
       "      <td>Musical</td>\n",
       "      <td>F</td>\n",
       "      <td>1</td>\n",
       "      <td>10</td>\n",
       "      <td>48067</td>\n",
       "      <td>outlier</td>\n",
       "    </tr>\n",
       "    <tr>\n",
       "      <th>3</th>\n",
       "      <td>1</td>\n",
       "      <td>3408</td>\n",
       "      <td>4</td>\n",
       "      <td>978300275</td>\n",
       "      <td>Erin Brockovich (2000)</td>\n",
       "      <td>Drama</td>\n",
       "      <td>2000</td>\n",
       "      <td>Drama</td>\n",
       "      <td>F</td>\n",
       "      <td>1</td>\n",
       "      <td>10</td>\n",
       "      <td>48067</td>\n",
       "      <td>outlier</td>\n",
       "    </tr>\n",
       "    <tr>\n",
       "      <th>4</th>\n",
       "      <td>1</td>\n",
       "      <td>2355</td>\n",
       "      <td>5</td>\n",
       "      <td>978824291</td>\n",
       "      <td>Bug's Life, A (1998)</td>\n",
       "      <td>Animation|Children's|Comedy</td>\n",
       "      <td>1998</td>\n",
       "      <td>Animation</td>\n",
       "      <td>F</td>\n",
       "      <td>1</td>\n",
       "      <td>10</td>\n",
       "      <td>48067</td>\n",
       "      <td>outlier</td>\n",
       "    </tr>\n",
       "  </tbody>\n",
       "</table>\n",
       "</div>"
      ],
      "text/plain": [
       "   user_id  movie_id  rating       time  \\\n",
       "0        1      1193       5  978300760   \n",
       "1        1       661       3  978302109   \n",
       "2        1       914       3  978301968   \n",
       "3        1      3408       4  978300275   \n",
       "4        1      2355       5  978824291   \n",
       "\n",
       "                                    title                         genre  \\\n",
       "0  One Flew Over the Cuckoo's Nest (1975)                         Drama   \n",
       "1        James and the Giant Peach (1996)  Animation|Children's|Musical   \n",
       "2                     My Fair Lady (1964)               Musical|Romance   \n",
       "3                  Erin Brockovich (2000)                         Drama   \n",
       "4                    Bug's Life, A (1998)   Animation|Children's|Comedy   \n",
       "\n",
       "   released_year_area main_genre gender  age  occupation zipcode age_bucket  \n",
       "0                1975      Drama      F    1          10   48067    outlier  \n",
       "1                1996  Animation      F    1          10   48067    outlier  \n",
       "2                1964    Musical      F    1          10   48067    outlier  \n",
       "3                2000      Drama      F    1          10   48067    outlier  \n",
       "4                1998  Animation      F    1          10   48067    outlier  "
      ]
     },
     "execution_count": 57,
     "metadata": {},
     "output_type": "execute_result"
    }
   ],
   "source": [
    "test_df = pd.merge(test_df, movie_df, on='movie_id')\n",
    "test_df = pd.merge(test_df, user_df, on='user_id')\n",
    "test_df.head()"
   ]
  },
  {
   "cell_type": "code",
   "execution_count": 58,
   "metadata": {
    "ExecuteTime": {
     "end_time": "2022-08-31T13:40:15.070680Z",
     "start_time": "2022-08-31T13:40:14.991741Z"
    }
   },
   "outputs": [
    {
     "data": {
      "text/html": [
       "<div>\n",
       "<style scoped>\n",
       "    .dataframe tbody tr th:only-of-type {\n",
       "        vertical-align: middle;\n",
       "    }\n",
       "\n",
       "    .dataframe tbody tr th {\n",
       "        vertical-align: top;\n",
       "    }\n",
       "\n",
       "    .dataframe thead th {\n",
       "        text-align: right;\n",
       "    }\n",
       "</style>\n",
       "<table border=\"1\" class=\"dataframe\">\n",
       "  <thead>\n",
       "    <tr style=\"text-align: right;\">\n",
       "      <th></th>\n",
       "      <th>user_id</th>\n",
       "      <th>movie_id</th>\n",
       "      <th>rating</th>\n",
       "      <th>released_year_area</th>\n",
       "      <th>main_genre</th>\n",
       "      <th>gender</th>\n",
       "      <th>occupation</th>\n",
       "      <th>age_bucket</th>\n",
       "    </tr>\n",
       "  </thead>\n",
       "  <tbody>\n",
       "    <tr>\n",
       "      <th>0</th>\n",
       "      <td>1</td>\n",
       "      <td>1193</td>\n",
       "      <td>5</td>\n",
       "      <td>29</td>\n",
       "      <td>5</td>\n",
       "      <td>1</td>\n",
       "      <td>1</td>\n",
       "      <td>1</td>\n",
       "    </tr>\n",
       "    <tr>\n",
       "      <th>1</th>\n",
       "      <td>1</td>\n",
       "      <td>661</td>\n",
       "      <td>3</td>\n",
       "      <td>3</td>\n",
       "      <td>1</td>\n",
       "      <td>1</td>\n",
       "      <td>1</td>\n",
       "      <td>1</td>\n",
       "    </tr>\n",
       "    <tr>\n",
       "      <th>2</th>\n",
       "      <td>1</td>\n",
       "      <td>914</td>\n",
       "      <td>3</td>\n",
       "      <td>9</td>\n",
       "      <td>18</td>\n",
       "      <td>1</td>\n",
       "      <td>1</td>\n",
       "      <td>1</td>\n",
       "    </tr>\n",
       "    <tr>\n",
       "      <th>3</th>\n",
       "      <td>1</td>\n",
       "      <td>3408</td>\n",
       "      <td>4</td>\n",
       "      <td>79</td>\n",
       "      <td>5</td>\n",
       "      <td>1</td>\n",
       "      <td>1</td>\n",
       "      <td>1</td>\n",
       "    </tr>\n",
       "    <tr>\n",
       "      <th>4</th>\n",
       "      <td>1</td>\n",
       "      <td>2355</td>\n",
       "      <td>5</td>\n",
       "      <td>39</td>\n",
       "      <td>1</td>\n",
       "      <td>1</td>\n",
       "      <td>1</td>\n",
       "      <td>1</td>\n",
       "    </tr>\n",
       "  </tbody>\n",
       "</table>\n",
       "</div>"
      ],
      "text/plain": [
       "   user_id  movie_id  rating  released_year_area  main_genre  gender  \\\n",
       "0        1      1193       5                  29           5       1   \n",
       "1        1       661       3                   3           1       1   \n",
       "2        1       914       3                   9          18       1   \n",
       "3        1      3408       4                  79           5       1   \n",
       "4        1      2355       5                  39           1       1   \n",
       "\n",
       "   occupation  age_bucket  \n",
       "0           1           1  \n",
       "1           1           1  \n",
       "2           1           1  \n",
       "3           1           1  \n",
       "4           1           1  "
      ]
     },
     "execution_count": 58,
     "metadata": {},
     "output_type": "execute_result"
    }
   ],
   "source": [
    "test_df = test_df[['user_id', 'movie_id', 'rating', 'released_year_area', \n",
    "                     'main_genre','gender', 'occupation', 'age_bucket']]\n",
    "\n",
    "test_df['released_year_area'] = test_df['released_year_area'].map(year_dict)\n",
    "test_df['main_genre'] = test_df['main_genre'].map(genre_dict)\n",
    "test_df['gender'] = test_df['gender'].map(gender_index)\n",
    "test_df['occupation'] = test_df['occupation'].map(occupation_index)\n",
    "test_df['age_bucket'] = test_df['age_bucket'].map(age_index)\n",
    "test_df.head()"
   ]
  },
  {
   "cell_type": "markdown",
   "metadata": {
    "id": "zRZWztHgUWfx"
   },
   "source": [
    "### 문제 18. Binary Transformation - 평가 점수 기준으로 (0,1) 변환"
   ]
  },
  {
   "cell_type": "code",
   "execution_count": 60,
   "metadata": {
    "ExecuteTime": {
     "end_time": "2022-08-31T13:40:30.345573Z",
     "start_time": "2022-08-31T13:40:30.329550Z"
    },
    "executionInfo": {
     "elapsed": 1724,
     "status": "ok",
     "timestamp": 1610520093308,
     "user": {
      "displayName": "윤기태",
      "photoUrl": "https://lh3.googleusercontent.com/a-/AOh14GhjX4czjHvHYRaEdNzkkF2s-g0b57J74mP9aSZTyg=s64",
      "userId": "10622173580637109440"
     },
     "user_tz": -540
    },
    "id": "nhI2X1BiiPZf"
   },
   "outputs": [],
   "source": [
    "# rating이 4점 이상인 경우 1, 3점 이하인 경우 0으로 변환\n",
    "import numpy as np\n",
    "\n",
    "train_df['y'] = np.where(train_df['rating'] >= 4, 1, 0)\n",
    "test_df['y'] = np.where(test_df['rating'] >= 4, 1, 0)"
   ]
  },
  {
   "cell_type": "markdown",
   "metadata": {
    "id": "ehw9UI3CUWwW"
   },
   "source": [
    "### 문제 19. Feature Vector 생성 - libsvm 포맷의 데이터셋 생성\n"
   ]
  },
  {
   "cell_type": "markdown",
   "metadata": {
    "id": "d9RAAZo2jcaq"
   },
   "source": [
    "#### Sparse Vector in Linear Model\n",
    "\n",
    "    [Sparse Vector]\n",
    "    1. 0, 1로 값을 표현하는 벡터가 매우 희소한 상황\n",
    "    2. 아래 그림에서 3002개의 벡터 중, 1이 등장하는 벡터는 단 두개\n",
    "    3. Linear Model에서 Sparse 하다는 것은 이러한 상황을 의미\n",
    "\n",
    "![sparse](https://raw.githubusercontent.com/yoonkt200/FastCampusDataset/master/images/sparse.png)\n",
    "\n",
    "----\n",
    "\n",
    "    [Linear Model]\n",
    "    1. 입력 특성에 대한 선형 함수를 만들어 예측을 수행하는 모델\n",
    "    2. y = a1x1 + a2x2... 같은 방정식이라고 생각할 수 있음\n",
    "    3. 일반적인 랭킹 모델은 Linear Model로 마지막 추론을 하게 되어있음\n",
    "    4. x1, x2...가 바로 Sparse Vector를 의미함\n",
    "\n",
    "----\n",
    "\n",
    "    [libsvm 포맷]\n",
    "    1. \"index\":\"value\" 형태로 sparse vector를 표현하는 형태\n",
    "    2. 위 그림을 표현하면, \"1:1 3001:1\" 이 됨."
   ]
  },
  {
   "cell_type": "code",
   "execution_count": 61,
   "metadata": {
    "ExecuteTime": {
     "end_time": "2022-08-31T13:40:32.040704Z",
     "start_time": "2022-08-31T13:40:32.035204Z"
    }
   },
   "outputs": [
    {
     "data": {
      "text/plain": [
       "Index(['user_id', 'movie_id', 'rating', 'released_year_area', 'main_genre',\n",
       "       'gender', 'occupation', 'age_bucket', 'y'],\n",
       "      dtype='object')"
      ]
     },
     "execution_count": 61,
     "metadata": {},
     "output_type": "execute_result"
    }
   ],
   "source": [
    "train_df.columns"
   ]
  },
  {
   "cell_type": "code",
   "execution_count": 62,
   "metadata": {
    "ExecuteTime": {
     "end_time": "2022-08-31T13:40:35.935822Z",
     "start_time": "2022-08-31T13:40:35.927775Z"
    }
   },
   "outputs": [
    {
     "data": {
      "text/html": [
       "<div>\n",
       "<style scoped>\n",
       "    .dataframe tbody tr th:only-of-type {\n",
       "        vertical-align: middle;\n",
       "    }\n",
       "\n",
       "    .dataframe tbody tr th {\n",
       "        vertical-align: top;\n",
       "    }\n",
       "\n",
       "    .dataframe thead th {\n",
       "        text-align: right;\n",
       "    }\n",
       "</style>\n",
       "<table border=\"1\" class=\"dataframe\">\n",
       "  <thead>\n",
       "    <tr style=\"text-align: right;\">\n",
       "      <th></th>\n",
       "      <th>user_id</th>\n",
       "      <th>movie_id</th>\n",
       "      <th>rating</th>\n",
       "      <th>released_year_area</th>\n",
       "      <th>main_genre</th>\n",
       "      <th>gender</th>\n",
       "      <th>occupation</th>\n",
       "      <th>age_bucket</th>\n",
       "      <th>y</th>\n",
       "    </tr>\n",
       "  </thead>\n",
       "  <tbody>\n",
       "    <tr>\n",
       "      <th>0</th>\n",
       "      <td>635</td>\n",
       "      <td>1251</td>\n",
       "      <td>4</td>\n",
       "      <td>32</td>\n",
       "      <td>5</td>\n",
       "      <td>2</td>\n",
       "      <td>9</td>\n",
       "      <td>2</td>\n",
       "      <td>1</td>\n",
       "    </tr>\n",
       "    <tr>\n",
       "      <th>1</th>\n",
       "      <td>635</td>\n",
       "      <td>3948</td>\n",
       "      <td>4</td>\n",
       "      <td>79</td>\n",
       "      <td>3</td>\n",
       "      <td>2</td>\n",
       "      <td>9</td>\n",
       "      <td>2</td>\n",
       "      <td>1</td>\n",
       "    </tr>\n",
       "    <tr>\n",
       "      <th>2</th>\n",
       "      <td>635</td>\n",
       "      <td>1270</td>\n",
       "      <td>4</td>\n",
       "      <td>66</td>\n",
       "      <td>3</td>\n",
       "      <td>2</td>\n",
       "      <td>9</td>\n",
       "      <td>2</td>\n",
       "      <td>1</td>\n",
       "    </tr>\n",
       "    <tr>\n",
       "      <th>3</th>\n",
       "      <td>635</td>\n",
       "      <td>1279</td>\n",
       "      <td>5</td>\n",
       "      <td>15</td>\n",
       "      <td>3</td>\n",
       "      <td>2</td>\n",
       "      <td>9</td>\n",
       "      <td>2</td>\n",
       "      <td>1</td>\n",
       "    </tr>\n",
       "    <tr>\n",
       "      <th>4</th>\n",
       "      <td>635</td>\n",
       "      <td>1286</td>\n",
       "      <td>4</td>\n",
       "      <td>28</td>\n",
       "      <td>5</td>\n",
       "      <td>2</td>\n",
       "      <td>9</td>\n",
       "      <td>2</td>\n",
       "      <td>1</td>\n",
       "    </tr>\n",
       "  </tbody>\n",
       "</table>\n",
       "</div>"
      ],
      "text/plain": [
       "   user_id  movie_id  rating  released_year_area  main_genre  gender  \\\n",
       "0      635      1251       4                  32           5       2   \n",
       "1      635      3948       4                  79           3       2   \n",
       "2      635      1270       4                  66           3       2   \n",
       "3      635      1279       5                  15           3       2   \n",
       "4      635      1286       4                  28           5       2   \n",
       "\n",
       "   occupation  age_bucket  y  \n",
       "0           9           2  1  \n",
       "1           9           2  1  \n",
       "2           9           2  1  \n",
       "3           9           2  1  \n",
       "4           9           2  1  "
      ]
     },
     "execution_count": 62,
     "metadata": {},
     "output_type": "execute_result"
    }
   ],
   "source": [
    "train_df.head()"
   ]
  },
  {
   "cell_type": "code",
   "execution_count": 63,
   "metadata": {
    "ExecuteTime": {
     "end_time": "2022-08-31T13:40:40.079764Z",
     "start_time": "2022-08-31T13:40:40.040505Z"
    }
   },
   "outputs": [],
   "source": [
    "col_len_dict = {\n",
    "    'user_id' : len(train_df['user_id'].unique()),\n",
    "    'movie_id' : len(train_df['movie_id'].unique()),\n",
    "    'released_year_area' : len(train_df['released_year_area'].unique()),\n",
    "    'main_genre' : len(train_df['main_genre'].unique()),\n",
    "    'gender' : len(train_df['gender'].unique()),\n",
    "    'occupation' : len(train_df['occupation'].unique()),\n",
    "    'age_bucket' : len(train_df['age_bucket'].unique())\n",
    "}\n",
    "\n",
    "col_accum_index_dict = {} # 누적값 key value 만든 dict\n",
    "cumulative = 0\n",
    "for key, value in col_len_dict.items():\n",
    "    col_accum_index_dict[key] = cumulative\n",
    "    cumulative = cumulative + value"
   ]
  },
  {
   "cell_type": "code",
   "execution_count": 64,
   "metadata": {
    "ExecuteTime": {
     "end_time": "2022-08-31T13:40:43.914953Z",
     "start_time": "2022-08-31T13:40:43.912384Z"
    }
   },
   "outputs": [
    {
     "data": {
      "text/plain": [
       "{'user_id': 5400,\n",
       " 'movie_id': 3662,\n",
       " 'released_year_area': 81,\n",
       " 'main_genre': 18,\n",
       " 'gender': 2,\n",
       " 'occupation': 21,\n",
       " 'age_bucket': 6}"
      ]
     },
     "execution_count": 64,
     "metadata": {},
     "output_type": "execute_result"
    }
   ],
   "source": [
    "col_len_dict"
   ]
  },
  {
   "cell_type": "code",
   "execution_count": 65,
   "metadata": {
    "ExecuteTime": {
     "end_time": "2022-08-31T13:40:47.970189Z",
     "start_time": "2022-08-31T13:40:47.967726Z"
    }
   },
   "outputs": [
    {
     "data": {
      "text/plain": [
       "{'user_id': 0,\n",
       " 'movie_id': 5400,\n",
       " 'released_year_area': 9062,\n",
       " 'main_genre': 9143,\n",
       " 'gender': 9161,\n",
       " 'occupation': 9163,\n",
       " 'age_bucket': 9184}"
      ]
     },
     "execution_count": 65,
     "metadata": {},
     "output_type": "execute_result"
    }
   ],
   "source": [
    "col_accum_index_dict"
   ]
  },
  {
   "cell_type": "code",
   "execution_count": 66,
   "metadata": {
    "ExecuteTime": {
     "end_time": "2022-08-31T13:44:09.350507Z",
     "start_time": "2022-08-31T13:40:51.898405Z"
    }
   },
   "outputs": [],
   "source": [
    "for idx, row in train_df.iterrows():\n",
    "    vec = []\n",
    "    label = row['y']\n",
    "    vec.append(str(label))\n",
    "    row = row.drop(labels=['rating', 'y'])\n",
    "    \n",
    "    for key, value in row.items():\n",
    "        col_idx = col_accum_index_dict[key] + value - 1\n",
    "        vec.append(str(col_idx) + ':' + str(1))"
   ]
  },
  {
   "cell_type": "code",
   "execution_count": 67,
   "metadata": {
    "ExecuteTime": {
     "end_time": "2022-08-31T13:44:12.908130Z",
     "start_time": "2022-08-31T13:44:12.905999Z"
    }
   },
   "outputs": [
    {
     "data": {
      "text/plain": [
       "['1', '3325:1', '9218:1', '9124:1', '9145:1', '9162:1', '9166:1', '9187:1']"
      ]
     },
     "execution_count": 67,
     "metadata": {},
     "output_type": "execute_result"
    }
   ],
   "source": [
    "# libsvm 포맷의 데이터셋 생성\n",
    "\n",
    "vec"
   ]
  },
  {
   "cell_type": "code",
   "execution_count": 68,
   "metadata": {
    "ExecuteTime": {
     "end_time": "2022-08-31T13:44:16.454549Z",
     "start_time": "2022-08-31T13:44:16.453232Z"
    },
    "id": "9sRBaYdNHqN5"
   },
   "outputs": [],
   "source": [
    "# ex. 1 634:1 6650:1 9065:1 9076:1 9091:1 9100:1 9114:1"
   ]
  },
  {
   "cell_type": "markdown",
   "metadata": {
    "id": "O8HR6_qZXC3Q"
   },
   "source": [
    "## Step 4. 추천 랭킹 모델링 (Factorization Machine)"
   ]
  },
  {
   "cell_type": "markdown",
   "metadata": {
    "id": "KLhrv-y-Re8_"
   },
   "source": [
    "#### Factorization Machine\n",
    "\n",
    "![equation](https://img1.daumcdn.net/thumb/R1280x0/?scode=mtistory2&fname=https%3A%2F%2Fblog.kakaocdn.net%2Fdn%2FbRP7gn%2FbtqDw3LQxDB%2FXmWK8heUckUWpHx379UCM1%2Fimg.png)\n",
    "\n",
    "    [랭킹 모델의 형태와 역할]\n",
    "    1. Linear Regression, SVM처럼 동작하는 General predictor\n",
    "    2. 변수 간의 모든 pair-wise interaction을 계산하는 알고리즘\n",
    "    3. General predictor의 장점 + MF 알고리즘이 가지는 의미 단위 해석(latent factor)의 장점\n",
    "    4. sparse한 데이터셋을 가지고 있을 때 적합"
   ]
  },
  {
   "cell_type": "markdown",
   "metadata": {
    "id": "QzKVcaHcUXBs"
   },
   "source": [
    "### 문제 20. 학습 데이터 생성 - 특정 시간 기준 Train/Test 데이터셋 생성"
   ]
  },
  {
   "cell_type": "code",
   "execution_count": null,
   "metadata": {
    "ExecuteTime": {
     "end_time": "2022-08-31T13:40:15.304817Z",
     "start_time": "2022-08-31T13:34:21.416Z"
    },
    "colab": {
     "base_uri": "https://localhost:8080/"
    },
    "executionInfo": {
     "elapsed": 100808,
     "status": "ok",
     "timestamp": 1609043044981,
     "user": {
      "displayName": "윤기태",
      "photoUrl": "https://lh3.googleusercontent.com/a-/AOh14GhjX4czjHvHYRaEdNzkkF2s-g0b57J74mP9aSZTyg=s64",
      "userId": "10622173580637109440"
     },
     "user_tz": -540
    },
    "id": "l3cZ-gom6t6C",
    "outputId": "91b2abc7-bfbe-49c8-9528-9cdb3fff84a0"
   },
   "outputs": [],
   "source": [
    "# !pip install xlearn"
   ]
  },
  {
   "cell_type": "code",
   "execution_count": null,
   "metadata": {
    "ExecuteTime": {
     "end_time": "2022-08-31T13:40:15.306300Z",
     "start_time": "2022-08-31T13:34:21.417Z"
    },
    "id": "39sdm7NtU3Jp"
   },
   "outputs": [],
   "source": [
    "txt_file = open('train.txt', 'w')\n",
    "for idx, row in train_df.iterrows():\n",
    "  vec = []\n",
    "  label = row['y']\n",
    "  vec.append(str(label))\n",
    "  row = row.drop(labels=['rating'])\n",
    "  row = row.drop(labels=['y'])\n",
    "  for key, value in row.items():\n",
    "    col_idx = col_accum_index_dict[key] + value - 1\n",
    "    vec.append(str(col_idx) + \":\" + str(1))\n",
    "  txt_file.write(\"%s\\n\" % \" \".join(vec))\n",
    "txt_file.close()"
   ]
  },
  {
   "cell_type": "code",
   "execution_count": null,
   "metadata": {
    "ExecuteTime": {
     "end_time": "2022-08-31T13:40:15.307307Z",
     "start_time": "2022-08-31T13:34:21.418Z"
    },
    "id": "4ze4w4IyRr70"
   },
   "outputs": [],
   "source": [
    "txt_file = open('test.txt', 'w')\n",
    "for idx, row in test_df.iterrows():\n",
    "  vec = []\n",
    "  label = row['y']\n",
    "  vec.append(str(label))\n",
    "  row = row.drop(labels=['rating'])\n",
    "  row = row.drop(labels=['y'])\n",
    "  for key, value in row.items():\n",
    "    col_idx = col_accum_index_dict[key] + value - 1\n",
    "    vec.append(str(col_idx) + \":\" + str(1))\n",
    "  txt_file.write(\"%s\\n\" % \" \".join(vec))\n",
    "txt_file.close()"
   ]
  },
  {
   "cell_type": "code",
   "execution_count": null,
   "metadata": {
    "ExecuteTime": {
     "end_time": "2022-08-31T13:40:15.308201Z",
     "start_time": "2022-08-31T13:34:21.419Z"
    }
   },
   "outputs": [],
   "source": [
    "# import xlearn as xl\n",
    "\n",
    "# ffm_model = xl.create_ffm()\n",
    "# ffm_model.setSigmoid()\n",
    "# param = {'task' : 'binary', 'lr' : 0.05, 'lambda' : 0.002, 'epoch' : 30,\n",
    "#         'stop_window' : 3, 'nthread' : -1}\n",
    "# ffm_model.setTrain('./train.txt')\n",
    "# ffm_model.setTest('./test.txt')\n",
    "\n",
    "# ffm_model.fit(param, './ffm_model.out')"
   ]
  },
  {
   "cell_type": "markdown",
   "metadata": {
    "id": "9cFSVpqMUXRk"
   },
   "source": [
    "### 문제 21. 모델링 - FM Binary Classification 모델 학습"
   ]
  },
  {
   "cell_type": "code",
   "execution_count": 69,
   "metadata": {
    "ExecuteTime": {
     "end_time": "2022-08-31T13:45:12.618117Z",
     "start_time": "2022-08-31T13:45:12.395130Z"
    },
    "id": "YXevmmxSU6cs"
   },
   "outputs": [],
   "source": [
    "import numpy as np\n",
    "from sklearn.metrics import roc_auc_score\n",
    "\n",
    "\n",
    "class FactorizationMachine():\n",
    "    \"\"\"\n",
    "    This Class is implementation of this paper : https://www.csie.ntu.edu.tw/~b97053/paper/Rendle2010FM.pdf\n",
    "    Just a example of FM Algorithm, not for production.\n",
    "    -----\n",
    "    Only simple methods are available.\n",
    "    e.g 1 : batch training, adagrad optimizer, parallel training are not supported.\n",
    "    e.g 2 : simple optimizer Stochastic Gradient Descent with L2 Regularization.\n",
    "    e.g 3 : using titanic dataset on local memory.\n",
    "    \"\"\"\n",
    "    def __init__(self, k, lr, l2_reg, l2_lambda, epoch, early_stop_window, train_data, valid_data):\n",
    "        \"\"\"\n",
    "        :param k: number of latent vector\n",
    "        :param lr: learning rate\n",
    "        :param l2_reg: bool parameter for L2 regularization\n",
    "        :param l2_lambda: lambda of L2 regularization\n",
    "        :param epoch: training epoch\n",
    "        :param train_data: path of train data\n",
    "        :param valid_data: path of valid data\n",
    "        \"\"\"\n",
    "        self._k = k\n",
    "        self._lr = lr\n",
    "        self._l2_reg = l2_reg\n",
    "        self._l2_lambda = l2_lambda\n",
    "        self._epoch = epoch\n",
    "        self._early_stop_window = early_stop_window\n",
    "        self._train_file_path = train_data\n",
    "        self._valid_file_path = valid_data\n",
    "        self._valid_loss_list = []\n",
    "\n",
    "    def _load_dataset(self):\n",
    "        \"\"\"\n",
    "        1. load dataset to memory from train/valid path\n",
    "        2. find max index in dataset for w's vector size\n",
    "        \"\"\"\n",
    "        # load data\n",
    "        train_file = open(self._train_file_path, 'r')\n",
    "        valid_file = open(self._valid_file_path, 'r')\n",
    "        self._train_data = train_file.read().split('\\n')\n",
    "        self._valid_data = valid_file.read().split('\\n')\n",
    "        train_file.close()\n",
    "        valid_file.close()\n",
    "\n",
    "        # find max index\n",
    "        self.feature_max_index = 0\n",
    "        print(\"Start to init FM vectors.\")\n",
    "        for row in self._train_data:\n",
    "            for element in row.split(\" \")[1:]:\n",
    "                index = int(element.split(\":\")[0])\n",
    "                if self.feature_max_index < index:\n",
    "                    self.feature_max_index = index\n",
    "\n",
    "        for row in self._valid_data:\n",
    "            for element in row.split(\" \")[1:]:\n",
    "                index = int(element.split(\":\")[0])\n",
    "                if self.feature_max_index < index:\n",
    "                    self.feature_max_index = index\n",
    "\n",
    "        # init FM vectors\n",
    "        self._init_vectors()\n",
    "        print(\"Finish init FM vectors.\")\n",
    "\n",
    "    def _init_vectors(self):\n",
    "        \"\"\"\n",
    "        1. initialize FM vectors\n",
    "        2. Conduct naive transformation libsvm format txt data to numpy training sample.\n",
    "        \"\"\"\n",
    "        self.w = np.random.randn(self.feature_max_index+1)\n",
    "        self.v = np.random.randn(self.feature_max_index+1, self._k)\n",
    "        self.train_x_data = []\n",
    "        self.train_y_data = np.zeros((len(self._train_data)-1))\n",
    "        self.valid_x_data = []\n",
    "        self.valid_y_data = np.zeros((len(self._valid_data)-1))\n",
    "\n",
    "        # make numpy dataset\n",
    "        for n, row in enumerate(self._train_data):\n",
    "            element = row.split(\" \")\n",
    "            if len(element) > 1:\n",
    "              self.train_y_data[n] = int(element[0])\n",
    "              self.train_x_data.append([np.array([int(pair.split(\":\")[0]) for pair in element[1:]]),\n",
    "                                        np.array([int(pair.split(\":\")[1]) for pair in element[1:]])])\n",
    "\n",
    "        for n, row in enumerate(self._valid_data):\n",
    "            element = row.split(\" \")\n",
    "            if len(element) > 1:\n",
    "              self.valid_y_data[n] = int(element[0])\n",
    "              self.valid_x_data.append([np.array([int(pair.split(\":\")[0]) for pair in element[1:]]),\n",
    "                                        np.array([int(pair.split(\":\")[1]) for pair in element[1:]])])\n",
    "\n",
    "    def train(self):\n",
    "        \"\"\"\n",
    "        Train FM model by Gradient Descent with L2 regularization\n",
    "        \"\"\"\n",
    "        self._load_dataset()\n",
    "        for epoch_num in range(1, self._epoch):\n",
    "            train_y_hat = self.predict(data=self.train_x_data)\n",
    "            valid_y_hat = self.predict(data=self.valid_x_data)\n",
    "            train_loss = self._get_loss(y_data=self.train_y_data, y_hat=train_y_hat)\n",
    "            valid_loss = self._get_loss(y_data=self.valid_y_data, y_hat=valid_y_hat)\n",
    "            train_auc = roc_auc_score(self.train_y_data, train_y_hat)\n",
    "            valid_auc = roc_auc_score(self.valid_y_data, valid_y_hat)\n",
    "            self._print_learning_info(epoch=epoch_num, train_loss=train_loss, valid_loss=valid_loss,\n",
    "                                      train_auc=train_auc, valid_auc=valid_auc)\n",
    "            if self._check_early_stop(valid_loss=valid_loss):\n",
    "                print(\"Early stop at epoch:\", epoch_num)\n",
    "                return 0\n",
    "\n",
    "            self._stochastic_gradient_descent(self.train_x_data, self.train_y_data)\n",
    "\n",
    "    def predict(self, data):\n",
    "        \"\"\"\n",
    "        Implementation of FM model's equation on O(kmd)\n",
    "        -----\n",
    "        Numpy array shape : (n, [index of md], [value of md])\n",
    "        md : none-zero feature\n",
    "        \"\"\"\n",
    "        num_data = len(data)\n",
    "        scores = np.zeros(num_data)\n",
    "        for n in range(num_data):\n",
    "            feat_idx = data[n][0]\n",
    "            val = data[n][1]\n",
    "\n",
    "            # linear feature score\n",
    "            linear_feature_score = np.sum(self.w[feat_idx] * val)\n",
    "\n",
    "            # factorized feature score\n",
    "            vx = self.v[feat_idx] * (val.reshape(-1, 1))\n",
    "            cross_sum = np.sum(vx, axis=0)\n",
    "            square_sum = np.sum(vx * vx, axis=0)\n",
    "            cross_feature_score = 0.5 * np.sum(np.square(cross_sum) - square_sum)\n",
    "\n",
    "            # Model's equation\n",
    "            scores[n] = linear_feature_score + cross_feature_score\n",
    "\n",
    "        # Sigmoid transformation for binary classification\n",
    "        scores = 1.0 / (1.0 + np.exp(-scores))\n",
    "        return scores\n",
    "\n",
    "    def _get_loss(self, y_data, y_hat):\n",
    "        \"\"\"\n",
    "        Calculate loss with L2 regularization (two type of coeficient - w,v)\n",
    "        \"\"\"\n",
    "        l2_norm = 0\n",
    "        if self._l2_reg:\n",
    "            w_norm = np.sqrt(np.sum(np.square(self.w)))\n",
    "            v_norm = np.sqrt(np.sum(np.square(self.v)))\n",
    "            l2_norm = self._l2_lambda * (w_norm + v_norm)\n",
    "        return -1 * np.sum( (y_data * np.log(y_hat)) + ((1 - y_data) * np.log(1 - y_hat)) ) + l2_norm\n",
    "\n",
    "    def _check_early_stop(self, valid_loss):\n",
    "        self._valid_loss_list.append(valid_loss)\n",
    "        if len(self._valid_loss_list) > 5:\n",
    "            prev_loss = self._valid_loss_list[len(self._valid_loss_list) - self._early_stop_window]\n",
    "            curr_loss = valid_loss\n",
    "            if prev_loss < curr_loss:\n",
    "                return True\n",
    "        return False\n",
    "\n",
    "    def _print_learning_info(self, epoch, train_loss, valid_loss, train_auc, valid_auc):\n",
    "        print(\"epoch:\", epoch, \"||\", \"train_loss:\", train_loss, \"||\", \"valid_loss:\", valid_loss,\n",
    "              \"||\", \"Train AUC:\", train_auc, \"||\", \"Test AUC:\", valid_auc)\n",
    "\n",
    "\n",
    "    def _stochastic_gradient_descent(self, x_data, y_data):\n",
    "        \"\"\"\n",
    "        Update each coefs (w, v) by Gradient Descent\n",
    "        \"\"\"\n",
    "        for data, y in zip(x_data, y_data):\n",
    "            feat_idx = data[0]\n",
    "            val = data[1]\n",
    "            vx = self.v[feat_idx] * (val.reshape(-1, 1))\n",
    "\n",
    "            # linear feature score\n",
    "            linear_feature_score = np.sum(self.w[feat_idx] * val)\n",
    "\n",
    "            # factorized feature score\n",
    "            vx = self.v[feat_idx] * (val.reshape(-1, 1))\n",
    "            cross_sum = np.sum(vx, axis=0)\n",
    "            square_sum = np.sum(vx * vx, axis=0)\n",
    "            cross_feature_score = 0.5 * np.sum(np.square(cross_sum) - square_sum)\n",
    "\n",
    "            # Model's equation\n",
    "            score = linear_feature_score + cross_feature_score\n",
    "            y_hat = 1.0 / (1.0 + np.exp(-score))\n",
    "            cost = y_hat - y\n",
    "\n",
    "            if self._l2_reg:\n",
    "                self.w[feat_idx] = self.w[feat_idx] - cost * self._lr * (val + self._l2_lambda * self.w[feat_idx])\n",
    "                self.v[feat_idx] = self.v[feat_idx] - cost * self._lr * ((sum(vx) * (val.reshape(-1, 1)) - (vx * (val.reshape(-1, 1)))) + self._l2_lambda * self.v[feat_idx])\n",
    "            else:\n",
    "                self.w[feat_idx] = self.w[feat_idx] - cost * self._lr * val\n",
    "                self.v[feat_idx] = self.v[feat_idx] - cost * self._lr * (sum(vx) * (val.reshape(-1, 1)) - (vx * (val.reshape(-1, 1))))"
   ]
  },
  {
   "cell_type": "markdown",
   "metadata": {
    "id": "eKYA0QAKUXfP"
   },
   "source": [
    "### 문제 22. 모델링 - AUC 평가"
   ]
  },
  {
   "cell_type": "code",
   "execution_count": 70,
   "metadata": {
    "ExecuteTime": {
     "end_time": "2022-08-31T14:26:18.601524Z",
     "start_time": "2022-08-31T13:45:27.041476Z"
    },
    "colab": {
     "base_uri": "https://localhost:8080/"
    },
    "executionInfo": {
     "elapsed": 2524972,
     "status": "ok",
     "timestamp": 1609046472460,
     "user": {
      "displayName": "윤기태",
      "photoUrl": "https://lh3.googleusercontent.com/a-/AOh14GhjX4czjHvHYRaEdNzkkF2s-g0b57J74mP9aSZTyg=s64",
      "userId": "10622173580637109440"
     },
     "user_tz": -540
    },
    "id": "BelH_I93nBlC",
    "outputId": "ed12591c-b6bc-4760-c5fb-5963d19c02d8"
   },
   "outputs": [
    {
     "name": "stdout",
     "output_type": "stream",
     "text": [
      "Start to init FM vectors.\n",
      "Finish init FM vectors.\n",
      "epoch: 1 || train_loss: nan || valid_loss: nan || Train AUC: 0.49682141489023673 || Test AUC: 0.4920327405434935\n",
      "epoch: 2 || train_loss: 683971.0913041441 || valid_loss: 187548.29637664554 || Train AUC: 0.6063013773815193 || Test AUC: 0.5777114278586057\n",
      "epoch: 3 || train_loss: 611770.7800235209 || valid_loss: 172557.09264991555 || Train AUC: 0.6428889749982716 || Test AUC: 0.6002134081285855\n",
      "epoch: 4 || train_loss: 575537.0268286272 || valid_loss: 165192.7633140344 || Train AUC: 0.6653509638447862 || Test AUC: 0.6136070422109838\n",
      "epoch: 5 || train_loss: 552470.4250369353 || valid_loss: 160585.82627528312 || Train AUC: 0.681517778883576 || Test AUC: 0.6230623104428648\n",
      "epoch: 6 || train_loss: 535998.6433546772 || valid_loss: 157350.88998843127 || Train AUC: 0.6940060135289824 || Test AUC: 0.6303119137940224\n",
      "epoch: 7 || train_loss: 523527.4122431569 || valid_loss: 154932.70844378814 || Train AUC: 0.7039756775866056 || Test AUC: 0.6361065045823466\n",
      "epoch: 8 || train_loss: 513781.7413964894 || valid_loss: 153064.42389187196 || Train AUC: 0.7120813044334438 || Test AUC: 0.6408374074610003\n",
      "epoch: 9 || train_loss: 505994.34970878024 || valid_loss: 151588.97595116645 || Train AUC: 0.7187663038129898 || Test AUC: 0.6447581681132429\n",
      "epoch: 10 || train_loss: 499659.18573063496 || valid_loss: 150405.61301897385 || Train AUC: 0.7243488211338824 || Test AUC: 0.6480452445232101\n",
      "epoch: 11 || train_loss: 494430.1754439844 || valid_loss: 149447.11853251298 || Train AUC: 0.7290585319328299 || Test AUC: 0.6508351051114714\n",
      "epoch: 12 || train_loss: 490062.25229523407 || valid_loss: 148666.85072417016 || Train AUC: 0.7330639370840141 || Test AUC: 0.6532250505808723\n",
      "epoch: 13 || train_loss: 486376.4603469825 || valid_loss: 148032.09965302475 || Train AUC: 0.736496987789382 || Test AUC: 0.6552838716304744\n",
      "epoch: 14 || train_loss: 483238.8081557073 || valid_loss: 147519.7028690758 || Train AUC: 0.7394613753561695 || Test AUC: 0.6570655507158693\n",
      "epoch: 15 || train_loss: 480546.4642983439 || valid_loss: 147112.71127282843 || Train AUC: 0.7420428429879373 || Test AUC: 0.6586028995680887\n",
      "epoch: 16 || train_loss: 478218.4316521683 || valid_loss: 146798.04241068466 || Train AUC: 0.7443122613403705 || Test AUC: 0.6599244840021543\n",
      "epoch: 17 || train_loss: 476189.5031717011 || valid_loss: 146565.02534441542 || Train AUC: 0.7463287988915928 || Test AUC: 0.6610575217380122\n",
      "epoch: 18 || train_loss: 474406.58102932037 || valid_loss: 146404.62413877188 || Train AUC: 0.7481413704819354 || Test AUC: 0.6620227554787673\n",
      "epoch: 19 || train_loss: 472826.38044977235 || valid_loss: 146309.0570411776 || Train AUC: 0.7497906474059711 || Test AUC: 0.6628408121445754\n",
      "epoch: 20 || train_loss: 471413.815246529 || valid_loss: 146271.56604229417 || Train AUC: 0.7513092026995347 || Test AUC: 0.6635261357852115\n",
      "epoch: 21 || train_loss: 470140.69636743615 || valid_loss: 146286.19829404808 || Train AUC: 0.7527219912402928 || Test AUC: 0.6640940073145907\n",
      "epoch: 22 || train_loss: 468984.57272007613 || valid_loss: 146347.55857119855 || Train AUC: 0.7540485953290257 || Test AUC: 0.6645574636289752\n",
      "Early stop at epoch: 22\n"
     ]
    },
    {
     "data": {
      "text/plain": [
       "0"
      ]
     },
     "execution_count": 70,
     "metadata": {},
     "output_type": "execute_result"
    }
   ],
   "source": [
    "fm = FactorizationMachine(k=4,\n",
    "                          lr=0.01,\n",
    "                          l2_reg=True,\n",
    "                          l2_lambda=0.0002,\n",
    "                          epoch=30,\n",
    "                          early_stop_window=3,\n",
    "                          train_data='./train.txt',\n",
    "                          valid_data='./test.txt')\n",
    "fm.train()"
   ]
  },
  {
   "cell_type": "markdown",
   "metadata": {
    "id": "m-yLXYyOUXuA"
   },
   "source": [
    "## Step 5. 모의 추천 시스템 구축"
   ]
  },
  {
   "cell_type": "markdown",
   "metadata": {
    "id": "1kmxsj7jS4vV"
   },
   "source": [
    "### 문제 23. 추천 결과 평가 - 특정 시간 기준 유저별 시청 목록 추출 (Train/Test과 동일 기준)"
   ]
  },
  {
   "cell_type": "code",
   "execution_count": 78,
   "metadata": {
    "ExecuteTime": {
     "end_time": "2022-08-31T14:36:09.840254Z",
     "start_time": "2022-08-31T14:36:09.029226Z"
    },
    "executionInfo": {
     "elapsed": 833,
     "status": "ok",
     "timestamp": 1610520186400,
     "user": {
      "displayName": "윤기태",
      "photoUrl": "https://lh3.googleusercontent.com/a-/AOh14GhjX4czjHvHYRaEdNzkkF2s-g0b57J74mP9aSZTyg=s64",
      "userId": "10622173580637109440"
     },
     "user_tz": -540
    },
    "id": "ujM6U-G6ESS8"
   },
   "outputs": [
    {
     "data": {
      "text/plain": [
       "user_id\n",
       "635     [2294, 480, 920, 3614, 1270, 1286, 3528, 3948,...\n",
       "636     [2123, 1721, 110, 1210, 2193, 1197, 2746, 3693...\n",
       "637     [908, 1376, 2792, 2085, 1203, 924, 1019, 965, ...\n",
       "638     [1210, 1978, 2716, 2617, 788, 2555, 2532, 3555...\n",
       "639     [2028, 2944, 1961, 1363, 2634, 1198, 2571, 589...\n",
       "                              ...                        \n",
       "6036    [1721, 2376, 3438, 2428, 1883, 2492, 2827, 268...\n",
       "6037    [1882, 2028, 1267, 702, 3508, 562, 3148, 858, ...\n",
       "6038    [920, 3396, 1210, 2146, 356, 1387, 1079, 1148,...\n",
       "6039    [111, 282, 2067, 930, 1230, 3133, 3022, 947, 3...\n",
       "6040    [858, 2384, 593, 2019, 1961, 573, 3111, 3505, ...\n",
       "Length: 5400, dtype: object"
      ]
     },
     "execution_count": 78,
     "metadata": {},
     "output_type": "execute_result"
    }
   ],
   "source": [
    "# train 데이터셋에서 유저 시청 목록 추출\n",
    "\n",
    "q_8 # quantile 0.8 of Dataset\n",
    "\n",
    "def get_movie_list_sort_by_time(x):\n",
    "    return x.sort_values(['time'])['movie_id'].tolist()\n",
    "\n",
    "train_user_watch_list = rating_df[rating_df['time'] < q_8].groupby('user_id')[['movie_id', 'time']].apply(lambda x: get_movie_list_sort_by_time(x))\n",
    "train_user_watch_list"
   ]
  },
  {
   "cell_type": "markdown",
   "metadata": {
    "id": "173B_mtnUX7d"
   },
   "source": [
    "### 문제 24. 추천 결과 평가 - Train 데이터 기반 유저별 추천 후보군 생성"
   ]
  },
  {
   "cell_type": "markdown",
   "metadata": {
    "id": "z_3VC8ow5ZCR"
   },
   "source": [
    "#### 1) 최근 시청한 3개 영화의 연관 영화 목록 추출"
   ]
  },
  {
   "cell_type": "code",
   "execution_count": 79,
   "metadata": {
    "ExecuteTime": {
     "end_time": "2022-08-31T14:37:33.290044Z",
     "start_time": "2022-08-31T14:37:33.115506Z"
    },
    "executionInfo": {
     "elapsed": 1042,
     "status": "ok",
     "timestamp": 1610520197554,
     "user": {
      "displayName": "윤기태",
      "photoUrl": "https://lh3.googleusercontent.com/a-/AOh14GhjX4czjHvHYRaEdNzkkF2s-g0b57J74mP9aSZTyg=s64",
      "userId": "10622173580637109440"
     },
     "user_tz": -540
    },
    "id": "zu4R0ImhDd9i"
   },
   "outputs": [
    {
     "data": {
      "text/html": [
       "<div>\n",
       "<style scoped>\n",
       "    .dataframe tbody tr th:only-of-type {\n",
       "        vertical-align: middle;\n",
       "    }\n",
       "\n",
       "    .dataframe tbody tr th {\n",
       "        vertical-align: top;\n",
       "    }\n",
       "\n",
       "    .dataframe thead th {\n",
       "        text-align: right;\n",
       "    }\n",
       "</style>\n",
       "<table border=\"1\" class=\"dataframe\">\n",
       "  <thead>\n",
       "    <tr style=\"text-align: right;\">\n",
       "      <th></th>\n",
       "      <th>user_id</th>\n",
       "      <th>movie_id</th>\n",
       "      <th>rating</th>\n",
       "      <th>time</th>\n",
       "      <th>title</th>\n",
       "      <th>genre</th>\n",
       "      <th>released_year_area</th>\n",
       "      <th>main_genre</th>\n",
       "    </tr>\n",
       "  </thead>\n",
       "  <tbody>\n",
       "    <tr>\n",
       "      <th>0</th>\n",
       "      <td>635</td>\n",
       "      <td>1251</td>\n",
       "      <td>4</td>\n",
       "      <td>975768620</td>\n",
       "      <td>8 1/2 (1963)</td>\n",
       "      <td>Drama</td>\n",
       "      <td>1963</td>\n",
       "      <td>Drama</td>\n",
       "    </tr>\n",
       "    <tr>\n",
       "      <th>1</th>\n",
       "      <td>673</td>\n",
       "      <td>1251</td>\n",
       "      <td>5</td>\n",
       "      <td>975623211</td>\n",
       "      <td>8 1/2 (1963)</td>\n",
       "      <td>Drama</td>\n",
       "      <td>1963</td>\n",
       "      <td>Drama</td>\n",
       "    </tr>\n",
       "    <tr>\n",
       "      <th>2</th>\n",
       "      <td>711</td>\n",
       "      <td>1251</td>\n",
       "      <td>5</td>\n",
       "      <td>975621446</td>\n",
       "      <td>8 1/2 (1963)</td>\n",
       "      <td>Drama</td>\n",
       "      <td>1963</td>\n",
       "      <td>Drama</td>\n",
       "    </tr>\n",
       "    <tr>\n",
       "      <th>3</th>\n",
       "      <td>737</td>\n",
       "      <td>1251</td>\n",
       "      <td>5</td>\n",
       "      <td>975481404</td>\n",
       "      <td>8 1/2 (1963)</td>\n",
       "      <td>Drama</td>\n",
       "      <td>1963</td>\n",
       "      <td>Drama</td>\n",
       "    </tr>\n",
       "    <tr>\n",
       "      <th>4</th>\n",
       "      <td>829</td>\n",
       "      <td>1251</td>\n",
       "      <td>5</td>\n",
       "      <td>975369343</td>\n",
       "      <td>8 1/2 (1963)</td>\n",
       "      <td>Drama</td>\n",
       "      <td>1963</td>\n",
       "      <td>Drama</td>\n",
       "    </tr>\n",
       "  </tbody>\n",
       "</table>\n",
       "</div>"
      ],
      "text/plain": [
       "   user_id  movie_id  rating       time         title  genre  \\\n",
       "0      635      1251       4  975768620  8 1/2 (1963)  Drama   \n",
       "1      673      1251       5  975623211  8 1/2 (1963)  Drama   \n",
       "2      711      1251       5  975621446  8 1/2 (1963)  Drama   \n",
       "3      737      1251       5  975481404  8 1/2 (1963)  Drama   \n",
       "4      829      1251       5  975369343  8 1/2 (1963)  Drama   \n",
       "\n",
       "   released_year_area main_genre  \n",
       "0                1963      Drama  \n",
       "1                1963      Drama  \n",
       "2                1963      Drama  \n",
       "3                1963      Drama  \n",
       "4                1963      Drama  "
      ]
     },
     "execution_count": 79,
     "metadata": {},
     "output_type": "execute_result"
    }
   ],
   "source": [
    "# train 데이터셋으로만 m2v 모델 학습\n",
    "w2v_train_df = pd.merge(rating_df[rating_df['time'] < q_8], movie_df, on='movie_id')\n",
    "w2v_train_df.head()"
   ]
  },
  {
   "cell_type": "code",
   "execution_count": 86,
   "metadata": {
    "ExecuteTime": {
     "end_time": "2022-08-31T14:39:51.707286Z",
     "start_time": "2022-08-31T14:39:51.638955Z"
    }
   },
   "outputs": [],
   "source": [
    "from gensim.models import Word2Vec\n",
    "\n",
    "\n",
    "\n",
    "m2v_model = Word2Vec.load('./movie2vec_model')"
   ]
  },
  {
   "cell_type": "code",
   "execution_count": 92,
   "metadata": {
    "ExecuteTime": {
     "end_time": "2022-08-31T14:43:11.023992Z",
     "start_time": "2022-08-31T14:43:11.014330Z"
    }
   },
   "outputs": [
    {
     "data": {
      "text/plain": [
       "[('movie_id:2731', 0.7077617049217224),\n",
       " ('movie_id:3467', 0.69098961353302),\n",
       " ('movie_id:3416', 0.6475498080253601),\n",
       " ('movie_id:1511', 0.6274399757385254),\n",
       " ('movie_id:965', 0.6214653253555298),\n",
       " ('movie_id:1952', 0.6186220049858093),\n",
       " ('movie_id:2732', 0.61729896068573),\n",
       " ('movie_id:872', 0.6172923445701599),\n",
       " ('movie_id:2925', 0.6146974563598633),\n",
       " ('movie_id:1262', 0.6133973002433777)]"
      ]
     },
     "execution_count": 92,
     "metadata": {},
     "output_type": "execute_result"
    }
   ],
   "source": [
    "m2v_model.wv.most_similar('movie_id:1251')"
   ]
  },
  {
   "cell_type": "code",
   "execution_count": 98,
   "metadata": {
    "ExecuteTime": {
     "end_time": "2022-08-31T14:44:57.551910Z",
     "start_time": "2022-08-31T14:44:57.548112Z"
    },
    "id": "niAfdiveU_8r"
   },
   "outputs": [],
   "source": [
    "# model = Word2Vec(movie2vec_dataset,\n",
    "#                  size=100,\n",
    "#                  window=6,  # 주변 word의 윈도우\n",
    "#                  sg=1,  # skip-gram OR cbow\n",
    "#                  hs=0,  # hierarchical softmax OR negative sampling\n",
    "#                  negative=20,  # negative sampling 파라미터\n",
    "#                  min_count=1,  # word의 등장 최소 횟수\n",
    "#                  iter=20)"
   ]
  },
  {
   "cell_type": "code",
   "execution_count": 100,
   "metadata": {
    "ExecuteTime": {
     "end_time": "2022-08-31T14:46:46.291606Z",
     "start_time": "2022-08-31T14:46:46.285911Z"
    }
   },
   "outputs": [],
   "source": [
    "def get_recent_movie_list_sort_by_time(x, k):\n",
    "    return x.sort_values(['time'])['movie_id'].tolist()[-k:]"
   ]
  },
  {
   "cell_type": "code",
   "execution_count": 102,
   "metadata": {
    "ExecuteTime": {
     "end_time": "2022-08-31T14:46:55.285470Z",
     "start_time": "2022-08-31T14:46:54.525997Z"
    },
    "id": "B4EZnSNgFgh9"
   },
   "outputs": [
    {
     "data": {
      "text/plain": [
       "user_id\n",
       "635     [1884, 2966, 3198]\n",
       "636     [1391, 1690, 3156]\n",
       "637     [1378, 1278, 1379]\n",
       "638     [1587, 2193, 3863]\n",
       "639     [2762, 3114, 2987]\n",
       "               ...        \n",
       "6036    [1862, 2807, 3574]\n",
       "6037      [2641, 968, 435]\n",
       "6038    [1419, 2700, 1183]\n",
       "6039     [1204, 922, 1254]\n",
       "6040    [3751, 1077, 3168]\n",
       "Length: 5400, dtype: object"
      ]
     },
     "execution_count": 102,
     "metadata": {},
     "output_type": "execute_result"
    }
   ],
   "source": [
    "# 유저별 최근 시청한 3개 영화 추출\n",
    "recent_user_watch_list = rating_df[rating_df['time'] < 975768738].groupby('user_id')[['movie_id', 'time']].apply(lambda x : get_recent_movie_list_sort_by_time(x, 3))\n",
    "recent_user_watch_list"
   ]
  },
  {
   "cell_type": "code",
   "execution_count": 116,
   "metadata": {
    "ExecuteTime": {
     "end_time": "2022-08-31T14:54:29.697744Z",
     "start_time": "2022-08-31T14:54:29.053949Z"
    },
    "executionInfo": {
     "elapsed": 942,
     "status": "ok",
     "timestamp": 1610520249410,
     "user": {
      "displayName": "윤기태",
      "photoUrl": "https://lh3.googleusercontent.com/a-/AOh14GhjX4czjHvHYRaEdNzkkF2s-g0b57J74mP9aSZTyg=s64",
      "userId": "10622173580637109440"
     },
     "user_tz": -540
    },
    "id": "4mZkXef6HI08"
   },
   "outputs": [
    {
     "name": "stdout",
     "output_type": "stream",
     "text": [
      "word 51 not in vocabulary\n",
      "word 109 not in vocabulary\n",
      "word 115 not in vocabulary\n",
      "word 143 not in vocabulary\n",
      "word 284 not in vocabulary\n",
      "word 285 not in vocabulary\n",
      "word 395 not in vocabulary\n",
      "word 399 not in vocabulary\n",
      "word 400 not in vocabulary\n",
      "word 403 not in vocabulary\n",
      "word 604 not in vocabulary\n",
      "word 620 not in vocabulary\n",
      "word 625 not in vocabulary\n",
      "word 629 not in vocabulary\n",
      "word 636 not in vocabulary\n",
      "word 654 not in vocabulary\n",
      "word 675 not in vocabulary\n",
      "word 676 not in vocabulary\n",
      "word 683 not in vocabulary\n",
      "word 693 not in vocabulary\n",
      "word 699 not in vocabulary\n",
      "word 713 not in vocabulary\n",
      "word 721 not in vocabulary\n",
      "word 723 not in vocabulary\n",
      "word 727 not in vocabulary\n",
      "word 738 not in vocabulary\n",
      "word 739 not in vocabulary\n",
      "word 752 not in vocabulary\n",
      "word 768 not in vocabulary\n",
      "word 770 not in vocabulary\n",
      "word 772 not in vocabulary\n",
      "word 773 not in vocabulary\n",
      "word 777 not in vocabulary\n",
      "word 794 not in vocabulary\n",
      "word 795 not in vocabulary\n",
      "word 797 not in vocabulary\n",
      "word 812 not in vocabulary\n",
      "word 816 not in vocabulary\n",
      "word 819 not in vocabulary\n",
      "word 822 not in vocabulary\n",
      "word 825 not in vocabulary\n",
      "word 845 not in vocabulary\n",
      "word 855 not in vocabulary\n",
      "word 856 not in vocabulary\n",
      "word 857 not in vocabulary\n",
      "word 871 not in vocabulary\n",
      "word 873 not in vocabulary\n",
      "word 890 not in vocabulary\n",
      "word 894 not in vocabulary\n",
      "word 979 not in vocabulary\n",
      "word 983 not in vocabulary\n",
      "word 1001 not in vocabulary\n",
      "word 1045 not in vocabulary\n",
      "word 1052 not in vocabulary\n",
      "word 1065 not in vocabulary\n",
      "word 1075 not in vocabulary\n",
      "word 1106 not in vocabulary\n",
      "word 1108 not in vocabulary\n",
      "word 1109 not in vocabulary\n",
      "word 1110 not in vocabulary\n",
      "word 1122 not in vocabulary\n",
      "word 1137 not in vocabulary\n",
      "word 1140 not in vocabulary\n",
      "word 1141 not in vocabulary\n",
      "word 1143 not in vocabulary\n",
      "word 1146 not in vocabulary\n",
      "word 1155 not in vocabulary\n",
      "word 1156 not in vocabulary\n",
      "word 1157 not in vocabulary\n",
      "word 1158 not in vocabulary\n",
      "word 1159 not in vocabulary\n",
      "word 1166 not in vocabulary\n",
      "word 1308 not in vocabulary\n",
      "word 1309 not in vocabulary\n",
      "word 1314 not in vocabulary\n",
      "word 1318 not in vocabulary\n",
      "word 1319 not in vocabulary\n",
      "word 1368 not in vocabulary\n",
      "word 1400 not in vocabulary\n",
      "word 1424 not in vocabulary\n",
      "word 1443 not in vocabulary\n",
      "word 1448 not in vocabulary\n",
      "word 1462 not in vocabulary\n",
      "word 1467 not in vocabulary\n",
      "word 1524 not in vocabulary\n",
      "word 1557 not in vocabulary\n",
      "word 1559 not in vocabulary\n",
      "word 1568 not in vocabulary\n",
      "word 1577 not in vocabulary\n",
      "word 1578 not in vocabulary\n",
      "word 1628 not in vocabulary\n",
      "word 1697 not in vocabulary\n",
      "word 1698 not in vocabulary\n",
      "word 1705 not in vocabulary\n",
      "word 1706 not in vocabulary\n",
      "word 1708 not in vocabulary\n",
      "word 1710 not in vocabulary\n",
      "word 1716 not in vocabulary\n",
      "word 1723 not in vocabulary\n",
      "word 1738 not in vocabulary\n",
      "word 1740 not in vocabulary\n",
      "word 1742 not in vocabulary\n",
      "word 1757 not in vocabulary\n",
      "word 1765 not in vocabulary\n",
      "word 1768 not in vocabulary\n",
      "word 1774 not in vocabulary\n",
      "word 1776 not in vocabulary\n",
      "word 1781 not in vocabulary\n",
      "word 1789 not in vocabulary\n",
      "word 1819 not in vocabulary\n",
      "word 1847 not in vocabulary\n",
      "word 2030 not in vocabulary\n",
      "word 2199 not in vocabulary\n",
      "word 2216 not in vocabulary\n",
      "word 2220 not in vocabulary\n",
      "word 2222 not in vocabulary\n",
      "word 2224 not in vocabulary\n",
      "word 2225 not in vocabulary\n",
      "word 2228 not in vocabulary\n",
      "word 2229 not in vocabulary\n",
      "word 2230 not in vocabulary\n",
      "word 2270 not in vocabulary\n",
      "word 2274 not in vocabulary\n",
      "word 2319 not in vocabulary\n",
      "word 2489 not in vocabulary\n",
      "word 2508 not in vocabulary\n",
      "word 2547 not in vocabulary\n",
      "word 2564 not in vocabulary\n",
      "word 2588 not in vocabulary\n",
      "word 2595 not in vocabulary\n",
      "word 2601 not in vocabulary\n",
      "word 2603 not in vocabulary\n",
      "word 2604 not in vocabulary\n",
      "word 2680 not in vocabulary\n",
      "word 2684 not in vocabulary\n",
      "word 2698 not in vocabulary\n",
      "word 2832 not in vocabulary\n",
      "word 2838 not in vocabulary\n",
      "word 2910 not in vocabulary\n",
      "word 2954 not in vocabulary\n",
      "word 2957 not in vocabulary\n",
      "word 2958 not in vocabulary\n",
      "word 2980 not in vocabulary\n",
      "word 3009 not in vocabulary\n",
      "word 3023 not in vocabulary\n",
      "word 3059 not in vocabulary\n",
      "word 3080 not in vocabulary\n",
      "word 3170 not in vocabulary\n",
      "word 3191 not in vocabulary\n",
      "word 3193 not in vocabulary\n",
      "word 3195 not in vocabulary\n",
      "word 3226 not in vocabulary\n",
      "word 3227 not in vocabulary\n",
      "word 3231 not in vocabulary\n",
      "word 3234 not in vocabulary\n",
      "word 3278 not in vocabulary\n",
      "word 3279 not in vocabulary\n",
      "word 3332 not in vocabulary\n",
      "word 3348 not in vocabulary\n",
      "word 3356 not in vocabulary\n",
      "word 3369 not in vocabulary\n",
      "word 3383 not in vocabulary\n",
      "word 3411 not in vocabulary\n",
      "word 3455 not in vocabulary\n",
      "word 3541 not in vocabulary\n",
      "word 3558 not in vocabulary\n",
      "word 3560 not in vocabulary\n",
      "word 3561 not in vocabulary\n",
      "word 3582 not in vocabulary\n",
      "word 3583 not in vocabulary\n",
      "word 3589 not in vocabulary\n",
      "word 3630 not in vocabulary\n",
      "word 3650 not in vocabulary\n",
      "word 3750 not in vocabulary\n",
      "word 3829 not in vocabulary\n",
      "word 3856 not in vocabulary\n",
      "word 3907 not in vocabulary\n"
     ]
    }
   ],
   "source": [
    "item2item = {}\n",
    "\n",
    "# 영화별 연관 영화 (item2item) k개씩 추출\n",
    "\n",
    "k = 10\n",
    "not_in_count = 0\n",
    "for movie_id in movie_df['movie_id'].values:\n",
    "    item2item[movie_id] = []\n",
    "    try:\n",
    "        sim_list = model.wv.most_similar('movie_id:' + str(movie_id), topn=k+10)\n",
    "        for movie_tup in sim_list:\n",
    "            tup_info = movie_tup[0].split(':')\n",
    "            if (tup_info[0] == 'movie_id') and (len(item2item[movie_id]) < 10):\n",
    "                item2item[movie_id].append(tup_info[1])\n",
    "    except:\n",
    "        not_in_count += 1\n",
    "        print('word', str(movie_id), 'not in vocabulary')"
   ]
  },
  {
   "cell_type": "code",
   "execution_count": 121,
   "metadata": {
    "ExecuteTime": {
     "end_time": "2022-08-31T14:56:40.485983Z",
     "start_time": "2022-08-31T14:56:40.480408Z"
    }
   },
   "outputs": [
    {
     "data": {
      "text/plain": [
       "Index(['movie_id', 'title', 'genre', 'released_year_area', 'main_genre'], dtype='object')"
      ]
     },
     "execution_count": 121,
     "metadata": {},
     "output_type": "execute_result"
    }
   ],
   "source": [
    "movie_df.columns"
   ]
  },
  {
   "cell_type": "code",
   "execution_count": 136,
   "metadata": {
    "ExecuteTime": {
     "end_time": "2022-08-31T15:00:12.924718Z",
     "start_time": "2022-08-31T15:00:12.900234Z"
    }
   },
   "outputs": [
    {
     "name": "stdout",
     "output_type": "stream",
     "text": [
      "영화 :  ['Toy Story (1995)']\n",
      "추천 영화\n"
     ]
    },
    {
     "data": {
      "text/plain": [
       "['Grand Day Out, A (1992)',\n",
       " 'Close Shave, A (1995)',\n",
       " 'Babe (1995)',\n",
       " 'Toy Story 2 (1999)',\n",
       " 'Creature Comforts (1990)',\n",
       " 'Groundhog Day (1993)',\n",
       " 'Wrong Trousers, The (1993)',\n",
       " 'Living in Oblivion (1995)',\n",
       " 'Life Is Beautiful (La Vita è bella) (1997)',\n",
       " 'Shall We Dance? (Shall We Dansu?) (1996)']"
      ]
     },
     "execution_count": 136,
     "metadata": {},
     "output_type": "execute_result"
    }
   ],
   "source": [
    "def i2i_movie_titles(movie_idx):\n",
    "    rec_list = item2item[movie_idx]\n",
    "    print('영화 : ',movie_df[movie_df['movie_id'] == movie_idx]['title'].values)\n",
    "    rec_list_title = []\n",
    "    for rec in rec_list:\n",
    "        rec_list_title.append(movie_df[movie_df['movie_id'] == int(rec)]['title'].values[0])\n",
    "    print('추천 영화')\n",
    "    return rec_list_title\n",
    "\n",
    "i2i_movie_titles(1)"
   ]
  },
  {
   "cell_type": "code",
   "execution_count": 137,
   "metadata": {
    "ExecuteTime": {
     "end_time": "2022-08-31T15:00:16.720716Z",
     "start_time": "2022-08-31T15:00:16.714263Z"
    }
   },
   "outputs": [
    {
     "name": "stdout",
     "output_type": "stream",
     "text": [
      "영화 :  ['Bicentennial Man (1999)']\n",
      "추천 영화\n"
     ]
    },
    {
     "data": {
      "text/plain": [
       "['What Planet Are You From? (2000)',\n",
       " 'Play it to the Bone (1999)',\n",
       " 'Deuce Bigalow: Male Gigolo (1999)',\n",
       " 'Mystery, Alaska (1999)',\n",
       " 'Junior (1994)',\n",
       " 'My Favorite Martian (1999)',\n",
       " 'Drowning Mona (2000)',\n",
       " 'Crazy in Alabama (1999)',\n",
       " 'Hanging Up (2000)',\n",
       " 'Coneheads (1993)']"
      ]
     },
     "execution_count": 137,
     "metadata": {},
     "output_type": "execute_result"
    }
   ],
   "source": [
    "i2i_movie_titles(3156)"
   ]
  },
  {
   "cell_type": "code",
   "execution_count": 138,
   "metadata": {
    "ExecuteTime": {
     "end_time": "2022-08-31T15:03:43.398356Z",
     "start_time": "2022-08-31T15:03:43.359974Z"
    }
   },
   "outputs": [],
   "source": [
    "def get_similar_items(x, k):\n",
    "    similar_items = []\n",
    "    for movie_id in x:\n",
    "        similar_items.append(item2item[movie_id][:k])\n",
    "    return [item for items in similar_items for item in items]\n",
    "\n",
    "recent_watch_similar_items = recent_user_watch_list.apply(lambda x: get_similar_items(x, 5))"
   ]
  },
  {
   "cell_type": "code",
   "execution_count": 141,
   "metadata": {
    "ExecuteTime": {
     "end_time": "2022-08-31T15:04:51.098824Z",
     "start_time": "2022-08-31T15:04:51.085639Z"
    }
   },
   "outputs": [
    {
     "data": {
      "text/plain": [
       "user_id\n",
       "635     [1884, 2966, 3198]\n",
       "636     [1391, 1690, 3156]\n",
       "637     [1378, 1278, 1379]\n",
       "638     [1587, 2193, 3863]\n",
       "639     [2762, 3114, 2987]\n",
       "               ...        \n",
       "6036    [1862, 2807, 3574]\n",
       "6037      [2641, 968, 435]\n",
       "6038    [1419, 2700, 1183]\n",
       "6039     [1204, 922, 1254]\n",
       "6040    [3751, 1077, 3168]\n",
       "Length: 5400, dtype: object"
      ]
     },
     "execution_count": 141,
     "metadata": {},
     "output_type": "execute_result"
    }
   ],
   "source": [
    "recent_user_watch_list"
   ]
  },
  {
   "cell_type": "code",
   "execution_count": 151,
   "metadata": {
    "ExecuteTime": {
     "end_time": "2022-08-31T15:05:40.306543Z",
     "start_time": "2022-08-31T15:05:40.302438Z"
    }
   },
   "outputs": [
    {
     "data": {
      "text/plain": [
       "user_id\n",
       "635     [2155, 1895, 1476, 372, 2765, 3006, 3163, 3083...\n",
       "636     [780, 442, 379, 2393, 1676, 1320, 1762, 2525, ...\n",
       "637     [368, 1379, 3444, 303, 2478, 1136, 1080, 1997,...\n",
       "638     [2403, 2376, 2370, 2990, 3197, 2161, 2005, 196...\n",
       "639     [2840, 3006, 2841, 2692, 3147, 2700, 1, 1148, ...\n",
       "                              ...                        \n",
       "6036    [2448, 3665, 3572, 519, 3663, 692, 546, 2549, ...\n",
       "6037    [1375, 2105, 3698, 2613, 3704, 2901, 2553, 245...\n",
       "6038    [3152, 3201, 1964, 3093, 3359, 2395, 3114, 1, ...\n",
       "6039    [1262, 1254, 1207, 1178, 919, 1267, 3435, 1252...\n",
       "6040    [3615, 3481, 3618, 3536, 3785, 1234, 3200, 336...\n",
       "Length: 5400, dtype: object"
      ]
     },
     "execution_count": 151,
     "metadata": {},
     "output_type": "execute_result"
    }
   ],
   "source": [
    "recent_watch_similar_items # 최대 15개 까지 추천"
   ]
  },
  {
   "cell_type": "markdown",
   "metadata": {
    "id": "3ujTR8-5KiIB"
   },
   "source": [
    "#### 2) 평점 기반 인기 영화"
   ]
  },
  {
   "cell_type": "code",
   "execution_count": 156,
   "metadata": {
    "ExecuteTime": {
     "end_time": "2022-08-31T15:08:39.027479Z",
     "start_time": "2022-08-31T15:08:38.945289Z"
    }
   },
   "outputs": [
    {
     "data": {
      "text/html": [
       "<div>\n",
       "<style scoped>\n",
       "    .dataframe tbody tr th:only-of-type {\n",
       "        vertical-align: middle;\n",
       "    }\n",
       "\n",
       "    .dataframe tbody tr th {\n",
       "        vertical-align: top;\n",
       "    }\n",
       "\n",
       "    .dataframe thead th {\n",
       "        text-align: right;\n",
       "    }\n",
       "</style>\n",
       "<table border=\"1\" class=\"dataframe\">\n",
       "  <thead>\n",
       "    <tr style=\"text-align: right;\">\n",
       "      <th></th>\n",
       "      <th>mean</th>\n",
       "      <th>count</th>\n",
       "    </tr>\n",
       "    <tr>\n",
       "      <th>movie_id</th>\n",
       "      <th></th>\n",
       "      <th></th>\n",
       "    </tr>\n",
       "  </thead>\n",
       "  <tbody>\n",
       "    <tr>\n",
       "      <th>1</th>\n",
       "      <td>4.145714</td>\n",
       "      <td>1750</td>\n",
       "    </tr>\n",
       "    <tr>\n",
       "      <th>2</th>\n",
       "      <td>3.197880</td>\n",
       "      <td>566</td>\n",
       "    </tr>\n",
       "    <tr>\n",
       "      <th>3</th>\n",
       "      <td>3.023560</td>\n",
       "      <td>382</td>\n",
       "    </tr>\n",
       "    <tr>\n",
       "      <th>4</th>\n",
       "      <td>2.701493</td>\n",
       "      <td>134</td>\n",
       "    </tr>\n",
       "    <tr>\n",
       "      <th>5</th>\n",
       "      <td>2.995781</td>\n",
       "      <td>237</td>\n",
       "    </tr>\n",
       "    <tr>\n",
       "      <th>...</th>\n",
       "      <td>...</td>\n",
       "      <td>...</td>\n",
       "    </tr>\n",
       "    <tr>\n",
       "      <th>3948</th>\n",
       "      <td>3.720621</td>\n",
       "      <td>451</td>\n",
       "    </tr>\n",
       "    <tr>\n",
       "      <th>3949</th>\n",
       "      <td>4.328947</td>\n",
       "      <td>76</td>\n",
       "    </tr>\n",
       "    <tr>\n",
       "      <th>3950</th>\n",
       "      <td>3.133333</td>\n",
       "      <td>15</td>\n",
       "    </tr>\n",
       "    <tr>\n",
       "      <th>3951</th>\n",
       "      <td>3.904762</td>\n",
       "      <td>21</td>\n",
       "    </tr>\n",
       "    <tr>\n",
       "      <th>3952</th>\n",
       "      <td>3.750000</td>\n",
       "      <td>196</td>\n",
       "    </tr>\n",
       "  </tbody>\n",
       "</table>\n",
       "<p>3662 rows × 2 columns</p>\n",
       "</div>"
      ],
      "text/plain": [
       "              mean  count\n",
       "movie_id                 \n",
       "1         4.145714   1750\n",
       "2         3.197880    566\n",
       "3         3.023560    382\n",
       "4         2.701493    134\n",
       "5         2.995781    237\n",
       "...            ...    ...\n",
       "3948      3.720621    451\n",
       "3949      4.328947     76\n",
       "3950      3.133333     15\n",
       "3951      3.904762     21\n",
       "3952      3.750000    196\n",
       "\n",
       "[3662 rows x 2 columns]"
      ]
     },
     "execution_count": 156,
     "metadata": {},
     "output_type": "execute_result"
    }
   ],
   "source": [
    "mean_ratings = rating_df[rating_df['time'] < q_8].groupby('movie_id')['rating'].agg(['mean', 'count'])\n",
    "mean_ratings"
   ]
  },
  {
   "cell_type": "code",
   "execution_count": 158,
   "metadata": {
    "ExecuteTime": {
     "end_time": "2022-08-31T15:09:25.147858Z",
     "start_time": "2022-08-31T15:09:25.135502Z"
    },
    "id": "TkXcbtCItGF8"
   },
   "outputs": [
    {
     "data": {
      "text/plain": [
       "[2019, 318, 922, 745, 50, 858, 1148, 527, 1178, 904]"
      ]
     },
     "execution_count": 158,
     "metadata": {},
     "output_type": "execute_result"
    }
   ],
   "source": [
    "# 평점 높은 상위 10개의 영화 추출 ( count 100 이상 )\n",
    "popular_movie_list = mean_ratings[mean_ratings['count'] > 100]['mean'].sort_values(ascending=False).index[:10].tolist()\n",
    "popular_movie_list"
   ]
  },
  {
   "cell_type": "markdown",
   "metadata": {
    "id": "w9Fl6b6UKn8n"
   },
   "source": [
    "#### 3) 장르, 연도별 인기 영화"
   ]
  },
  {
   "cell_type": "code",
   "execution_count": 161,
   "metadata": {
    "ExecuteTime": {
     "end_time": "2022-08-31T15:10:16.199464Z",
     "start_time": "2022-08-31T15:10:16.191473Z"
    }
   },
   "outputs": [
    {
     "data": {
      "text/html": [
       "<div>\n",
       "<style scoped>\n",
       "    .dataframe tbody tr th:only-of-type {\n",
       "        vertical-align: middle;\n",
       "    }\n",
       "\n",
       "    .dataframe tbody tr th {\n",
       "        vertical-align: top;\n",
       "    }\n",
       "\n",
       "    .dataframe thead th {\n",
       "        text-align: right;\n",
       "    }\n",
       "</style>\n",
       "<table border=\"1\" class=\"dataframe\">\n",
       "  <thead>\n",
       "    <tr style=\"text-align: right;\">\n",
       "      <th></th>\n",
       "      <th>movie_id</th>\n",
       "      <th>mean</th>\n",
       "      <th>count</th>\n",
       "      <th>title</th>\n",
       "      <th>genre</th>\n",
       "      <th>released_year_area</th>\n",
       "      <th>main_genre</th>\n",
       "    </tr>\n",
       "  </thead>\n",
       "  <tbody>\n",
       "    <tr>\n",
       "      <th>0</th>\n",
       "      <td>1</td>\n",
       "      <td>4.145714</td>\n",
       "      <td>1750</td>\n",
       "      <td>Toy Story (1995)</td>\n",
       "      <td>Animation|Children's|Comedy</td>\n",
       "      <td>1995</td>\n",
       "      <td>Animation</td>\n",
       "    </tr>\n",
       "    <tr>\n",
       "      <th>1</th>\n",
       "      <td>2</td>\n",
       "      <td>3.197880</td>\n",
       "      <td>566</td>\n",
       "      <td>Jumanji (1995)</td>\n",
       "      <td>Adventure|Children's|Fantasy</td>\n",
       "      <td>1995</td>\n",
       "      <td>Adventure</td>\n",
       "    </tr>\n",
       "    <tr>\n",
       "      <th>2</th>\n",
       "      <td>3</td>\n",
       "      <td>3.023560</td>\n",
       "      <td>382</td>\n",
       "      <td>Grumpier Old Men (1995)</td>\n",
       "      <td>Comedy|Romance</td>\n",
       "      <td>1995</td>\n",
       "      <td>Comedy</td>\n",
       "    </tr>\n",
       "    <tr>\n",
       "      <th>3</th>\n",
       "      <td>4</td>\n",
       "      <td>2.701493</td>\n",
       "      <td>134</td>\n",
       "      <td>Waiting to Exhale (1995)</td>\n",
       "      <td>Comedy|Drama</td>\n",
       "      <td>1995</td>\n",
       "      <td>Comedy</td>\n",
       "    </tr>\n",
       "    <tr>\n",
       "      <th>4</th>\n",
       "      <td>5</td>\n",
       "      <td>2.995781</td>\n",
       "      <td>237</td>\n",
       "      <td>Father of the Bride Part II (1995)</td>\n",
       "      <td>Comedy</td>\n",
       "      <td>1995</td>\n",
       "      <td>Comedy</td>\n",
       "    </tr>\n",
       "  </tbody>\n",
       "</table>\n",
       "</div>"
      ],
      "text/plain": [
       "   movie_id      mean  count                               title  \\\n",
       "0         1  4.145714   1750                    Toy Story (1995)   \n",
       "1         2  3.197880    566                      Jumanji (1995)   \n",
       "2         3  3.023560    382             Grumpier Old Men (1995)   \n",
       "3         4  2.701493    134            Waiting to Exhale (1995)   \n",
       "4         5  2.995781    237  Father of the Bride Part II (1995)   \n",
       "\n",
       "                          genre  released_year_area main_genre  \n",
       "0   Animation|Children's|Comedy                1995  Animation  \n",
       "1  Adventure|Children's|Fantasy                1995  Adventure  \n",
       "2                Comedy|Romance                1995     Comedy  \n",
       "3                  Comedy|Drama                1995     Comedy  \n",
       "4                        Comedy                1995     Comedy  "
      ]
     },
     "execution_count": 161,
     "metadata": {},
     "output_type": "execute_result"
    }
   ],
   "source": [
    "merge_df = pd.merge(mean_ratings, movie_df, on='movie_id')\n",
    "merge_df.head()"
   ]
  },
  {
   "cell_type": "code",
   "execution_count": 172,
   "metadata": {
    "ExecuteTime": {
     "end_time": "2022-08-31T15:14:11.004504Z",
     "start_time": "2022-08-31T15:14:10.976763Z"
    },
    "executionInfo": {
     "elapsed": 761,
     "status": "ok",
     "timestamp": 1610520287506,
     "user": {
      "displayName": "윤기태",
      "photoUrl": "https://lh3.googleusercontent.com/a-/AOh14GhjX4czjHvHYRaEdNzkkF2s-g0b57J74mP9aSZTyg=s64",
      "userId": "10622173580637109440"
     },
     "user_tz": -540
    },
    "id": "sJLdfNWJKnnr"
   },
   "outputs": [
    {
     "name": "stdout",
     "output_type": "stream",
     "text": [
      "main_genre\n",
      "Action         [2905, 2019, 858, 1198, 260, 1221, 2028, 2571,...\n",
      "Adventure      [3172, 1204, 1262, 1254, 919, 3470, 1303, 1259...\n",
      "Animation      [745, 1148, 720, 3429, 1223, 3114, 1, 741, 281...\n",
      "Children's     [1026, 1097, 1028, 34, 262, 3396, 3397, 531, 9...\n",
      "Comedy         [3233, 3607, 1830, 3232, 2444, 3030, 3307, 341...\n",
      "Crime          [3656, 50, 3517, 3435, 1260, 296, 1213, 608, 1...\n",
      "Documentary    [3881, 787, 2930, 1149, 3338, 1147, 3679, 128,...\n",
      "Drama          [989, 3522, 2964, 1471, 3382, 53, 1664, 2503, ...\n",
      "Fantasy                                              [792, 2021]\n",
      "Film-Noir      [922, 913, 1267, 1252, 2186, 930, 541, 2203, 1...\n",
      "Horror         [1219, 1258, 1997, 1348, 2648, 1340, 2664, 133...\n",
      "Musical        [899, 914, 1947, 3606, 2565, 3545, 1035, 900, ...\n",
      "Mystery        [904, 1212, 903, 950, 906, 1086, 2206, 931, 16...\n",
      "Romance        [928, 28, 932, 2721, 2708, 803, 1684, 1770, 29...\n",
      "Sci-Fi         [750, 1206, 1199, 2010, 2660, 1301, 1921, 3658...\n",
      "Thriller       [2762, 3634, 3849, 965, 3075, 2819, 1249, 3056...\n",
      "War            [1927, 2670, 2669, 3670, 3339, 665, 3066, 1450...\n",
      "Western        [1283, 3365, 599, 1266, 1209, 3508, 714, 3681,...\n",
      "dtype: object\n",
      "\n",
      "released_year_area\n",
      "1919                                   [3132, 2823, 2821]\n",
      "1920                                               [3309]\n",
      "1921                                               [3310]\n",
      "1922                                               [1348]\n",
      "1923                                         [3140, 3641]\n",
      "                              ...                        \n",
      "1996    [1664, 720, 1117, 1147, 2609, 608, 1423, 2330,...\n",
      "1997    [1471, 2444, 2480, 2324, 1780, 1617, 3000, 170...\n",
      "1998    [1830, 2930, 2503, 2309, 2673, 2028, 2360, 235...\n",
      "1999    [2964, 2762, 3410, 2858, 2571, 3114, 3147, 299...\n",
      "2000    [3881, 3949, 3897, 3578, 3911, 3851, 3866, 335...\n",
      "Length: 81, dtype: object\n"
     ]
    }
   ],
   "source": [
    "# 장르&연도를 meta로 하여, meta별 상위 10개의 평점 높은 영화 리스트 추출\n",
    "\n",
    "def get_meta_popular_list(x, k):\n",
    "    movie_id_list = x.sort_values(by=['mean'], ascending=False)['movie_id'].tolist()\n",
    "    return movie_id_list[:k]\n",
    "    \n",
    "genre_popular = merge_df.groupby('main_genre').apply(lambda x: get_meta_popular_list(x, k=10))\n",
    "print(genre_popular)\n",
    "print()\n",
    "year_popular = merge_df.groupby('released_year_area').apply(lambda x: get_meta_popular_list(x, k=10))\n",
    "print(year_popular)"
   ]
  },
  {
   "cell_type": "markdown",
   "metadata": {
    "id": "A1Ys2cgbLWAg"
   },
   "source": [
    "#### 4) 4개 추천 후보군 병합"
   ]
  },
  {
   "cell_type": "markdown",
   "metadata": {
    "id": "ThXkF9teOzkL"
   },
   "source": [
    "##### 유저별 선호 장르/연도 파악"
   ]
  },
  {
   "cell_type": "code",
   "execution_count": 179,
   "metadata": {
    "ExecuteTime": {
     "end_time": "2022-08-31T15:19:59.314979Z",
     "start_time": "2022-08-31T15:19:59.302810Z"
    }
   },
   "outputs": [],
   "source": [
    "movie_dict = merge_df[['movie_id', 'released_year_area', 'main_genre']].to_dict()"
   ]
  },
  {
   "cell_type": "code",
   "execution_count": 177,
   "metadata": {
    "ExecuteTime": {
     "end_time": "2022-08-31T15:18:35.059157Z",
     "start_time": "2022-08-31T15:18:34.688994Z"
    }
   },
   "outputs": [],
   "source": [
    "from collections import Counter \n",
    "\n",
    "def most_frequent(x): \n",
    "    occurence_count = Counter(x) \n",
    "    return occurence_count.most_common(1)[0][0] \n",
    "\n",
    "def get_items_by_prefer_meta(x):\n",
    "  year_list = []\n",
    "  genre_list = []\n",
    "  for movie_id in x:\n",
    "    if movie_id in movie_dict['released_year_area']:\n",
    "      year_list.append(movie_dict['released_year_area'][movie_id])\n",
    "    if movie_id in movie_dict['main_genre']:\n",
    "      genre_list.append(movie_dict['main_genre'][movie_id])\n",
    "  prefer_year = most_frequent(year_list)\n",
    "  prefer_genre = most_frequent(genre_list)\n",
    "  return year_popular[prefer_year] + genre_popular[prefer_genre]\n",
    "\n",
    "items_by_prefer_meta = train_user_watch_list.apply(lambda x: get_items_by_prefer_meta(x))\n"
   ]
  },
  {
   "cell_type": "code",
   "execution_count": 180,
   "metadata": {
    "ExecuteTime": {
     "end_time": "2022-08-31T15:20:22.065510Z",
     "start_time": "2022-08-31T15:20:22.044854Z"
    }
   },
   "outputs": [
    {
     "data": {
      "text/plain": [
       "user_id\n",
       "635     [2294, 480, 920, 3614, 1270, 1286, 3528, 3948,...\n",
       "636     [2123, 1721, 110, 1210, 2193, 1197, 2746, 3693...\n",
       "637     [908, 1376, 2792, 2085, 1203, 924, 1019, 965, ...\n",
       "638     [1210, 1978, 2716, 2617, 788, 2555, 2532, 3555...\n",
       "639     [2028, 2944, 1961, 1363, 2634, 1198, 2571, 589...\n",
       "                              ...                        \n",
       "6036    [1721, 2376, 3438, 2428, 1883, 2492, 2827, 268...\n",
       "6037    [1882, 2028, 1267, 702, 3508, 562, 3148, 858, ...\n",
       "6038    [920, 3396, 1210, 2146, 356, 1387, 1079, 1148,...\n",
       "6039    [111, 282, 2067, 930, 1230, 3133, 3022, 947, 3...\n",
       "6040    [858, 2384, 593, 2019, 1961, 573, 3111, 3505, ...\n",
       "Length: 5400, dtype: object"
      ]
     },
     "execution_count": 180,
     "metadata": {},
     "output_type": "execute_result"
    }
   ],
   "source": [
    "train_user_watch_list"
   ]
  },
  {
   "cell_type": "markdown",
   "metadata": {
    "id": "WTCAXtCZSay5"
   },
   "source": [
    "##### 최종 병합"
   ]
  },
  {
   "cell_type": "code",
   "execution_count": 183,
   "metadata": {
    "ExecuteTime": {
     "end_time": "2022-08-31T15:22:02.736646Z",
     "start_time": "2022-08-31T15:22:02.688534Z"
    },
    "id": "nE6su4uuvLa9"
   },
   "outputs": [
    {
     "data": {
      "text/plain": [
       "user_id\n",
       "635     {1664, 3163, 3194, 1955, 1423, 527, 2964, 2330...\n",
       "636     {1664, 3146, 1320, 2393, 2444, 527, 2324, 2964...\n",
       "637     {1664, 1423, 527, 2964, 1379, 2330, 1080, 3444...\n",
       "638     {2692, 2309, 2005, 2444, 3607, 2329, 3232, 323...\n",
       "639     {1664, 1, 2692, 2309, 2070, 527, 2964, 2329, 2...\n",
       "                              ...                        \n",
       "6036    {1664, 1105, 3663, 3572, 1423, 527, 2964, 2330...\n",
       "6037    {1664, 2553, 3698, 1391, 1423, 527, 2964, 2330...\n",
       "6038    {1664, 1, 3152, 1964, 3359, 1423, 527, 2964, 2...\n",
       "6039    {1664, 1931, 1252, 1423, 527, 2964, 1204, 1207...\n",
       "6040    {3011, 1664, 1423, 527, 3618, 2964, 3461, 2330...\n",
       "Length: 5400, dtype: object"
      ]
     },
     "execution_count": 183,
     "metadata": {},
     "output_type": "execute_result"
    }
   ],
   "source": [
    "merged_candidates = recent_watch_similar_items + items_by_prefer_meta\n",
    "recommendations = merged_candidates.apply(lambda x: set(x))\n",
    "recommendations"
   ]
  },
  {
   "cell_type": "markdown",
   "metadata": {
    "id": "qvQbBlxeS9wD"
   },
   "source": [
    "### 문제 25. 추천 결과 평가 - 랭킹 모델로 추천 후보군 K개 정렬"
   ]
  },
  {
   "cell_type": "markdown",
   "metadata": {
    "id": "423FEDAmW0di"
   },
   "source": [
    "#### predict 가능한 포맷으로 변경\n",
    "- ex) [[array([31, 55, 66, 77]), array([1, 1, 1, 1])]]"
   ]
  },
  {
   "cell_type": "code",
   "execution_count": 185,
   "metadata": {
    "ExecuteTime": {
     "end_time": "2022-08-31T15:23:17.010599Z",
     "start_time": "2022-08-31T15:23:16.984549Z"
    },
    "id": "Y0nfEYKwjwtw"
   },
   "outputs": [
    {
     "data": {
      "text/html": [
       "<div>\n",
       "<style scoped>\n",
       "    .dataframe tbody tr th:only-of-type {\n",
       "        vertical-align: middle;\n",
       "    }\n",
       "\n",
       "    .dataframe tbody tr th {\n",
       "        vertical-align: top;\n",
       "    }\n",
       "\n",
       "    .dataframe thead th {\n",
       "        text-align: right;\n",
       "    }\n",
       "</style>\n",
       "<table border=\"1\" class=\"dataframe\">\n",
       "  <thead>\n",
       "    <tr style=\"text-align: right;\">\n",
       "      <th></th>\n",
       "      <th>movie_id</th>\n",
       "      <th>released_year_area</th>\n",
       "      <th>main_genre</th>\n",
       "    </tr>\n",
       "  </thead>\n",
       "  <tbody>\n",
       "    <tr>\n",
       "      <th>0</th>\n",
       "      <td>1</td>\n",
       "      <td>1</td>\n",
       "      <td>1</td>\n",
       "    </tr>\n",
       "    <tr>\n",
       "      <th>1</th>\n",
       "      <td>2</td>\n",
       "      <td>1</td>\n",
       "      <td>2</td>\n",
       "    </tr>\n",
       "    <tr>\n",
       "      <th>2</th>\n",
       "      <td>3</td>\n",
       "      <td>1</td>\n",
       "      <td>3</td>\n",
       "    </tr>\n",
       "    <tr>\n",
       "      <th>3</th>\n",
       "      <td>4</td>\n",
       "      <td>1</td>\n",
       "      <td>3</td>\n",
       "    </tr>\n",
       "    <tr>\n",
       "      <th>4</th>\n",
       "      <td>5</td>\n",
       "      <td>1</td>\n",
       "      <td>3</td>\n",
       "    </tr>\n",
       "  </tbody>\n",
       "</table>\n",
       "</div>"
      ],
      "text/plain": [
       "   movie_id  released_year_area  main_genre\n",
       "0         1                   1           1\n",
       "1         2                   1           2\n",
       "2         3                   1           3\n",
       "3         4                   1           3\n",
       "4         5                   1           3"
      ]
     },
     "execution_count": 185,
     "metadata": {},
     "output_type": "execute_result"
    }
   ],
   "source": [
    "movie_df['released_year_area'] = movie_df['released_year_area'].apply(lambda x: year_dict[x])\n",
    "movie_df['main_genre'] = movie_df['main_genre'].apply(lambda x: genre_dict[x])\n",
    "movie_df = movie_df[['movie_id', 'released_year_area', 'main_genre']]\n",
    "movie_df.head()"
   ]
  },
  {
   "cell_type": "code",
   "execution_count": 186,
   "metadata": {
    "ExecuteTime": {
     "end_time": "2022-08-31T15:23:48.204845Z",
     "start_time": "2022-08-31T15:23:48.170073Z"
    },
    "id": "ddjlIbvYgWaf"
   },
   "outputs": [
    {
     "data": {
      "text/html": [
       "<div>\n",
       "<style scoped>\n",
       "    .dataframe tbody tr th:only-of-type {\n",
       "        vertical-align: middle;\n",
       "    }\n",
       "\n",
       "    .dataframe tbody tr th {\n",
       "        vertical-align: top;\n",
       "    }\n",
       "\n",
       "    .dataframe thead th {\n",
       "        text-align: right;\n",
       "    }\n",
       "</style>\n",
       "<table border=\"1\" class=\"dataframe\">\n",
       "  <thead>\n",
       "    <tr style=\"text-align: right;\">\n",
       "      <th></th>\n",
       "      <th>user_id</th>\n",
       "      <th>gender</th>\n",
       "      <th>age_bucket</th>\n",
       "      <th>occupation</th>\n",
       "    </tr>\n",
       "  </thead>\n",
       "  <tbody>\n",
       "    <tr>\n",
       "      <th>0</th>\n",
       "      <td>1</td>\n",
       "      <td>1</td>\n",
       "      <td>1</td>\n",
       "      <td>1</td>\n",
       "    </tr>\n",
       "    <tr>\n",
       "      <th>1</th>\n",
       "      <td>2</td>\n",
       "      <td>2</td>\n",
       "      <td>2</td>\n",
       "      <td>2</td>\n",
       "    </tr>\n",
       "    <tr>\n",
       "      <th>2</th>\n",
       "      <td>3</td>\n",
       "      <td>2</td>\n",
       "      <td>3</td>\n",
       "      <td>3</td>\n",
       "    </tr>\n",
       "    <tr>\n",
       "      <th>3</th>\n",
       "      <td>4</td>\n",
       "      <td>2</td>\n",
       "      <td>4</td>\n",
       "      <td>4</td>\n",
       "    </tr>\n",
       "    <tr>\n",
       "      <th>4</th>\n",
       "      <td>5</td>\n",
       "      <td>2</td>\n",
       "      <td>3</td>\n",
       "      <td>5</td>\n",
       "    </tr>\n",
       "  </tbody>\n",
       "</table>\n",
       "</div>"
      ],
      "text/plain": [
       "   user_id  gender  age_bucket  occupation\n",
       "0        1       1           1           1\n",
       "1        2       2           2           2\n",
       "2        3       2           3           3\n",
       "3        4       2           4           4\n",
       "4        5       2           3           5"
      ]
     },
     "execution_count": 186,
     "metadata": {},
     "output_type": "execute_result"
    }
   ],
   "source": [
    "user_df['gender'] = user_df['gender'].apply(lambda x: gender_index[x])\n",
    "user_df['occupation'] = user_df['occupation'].apply(lambda x: occupation_index[x])\n",
    "user_df['age_bucket'] = user_df['age_bucket'].apply(lambda x: age_index[x])\n",
    "user_df = user_df[['user_id', 'gender', 'age_bucket', 'occupation']]\n",
    "user_df.head()"
   ]
  },
  {
   "cell_type": "code",
   "execution_count": 191,
   "metadata": {
    "ExecuteTime": {
     "end_time": "2022-08-31T15:24:56.713412Z",
     "start_time": "2022-08-31T15:24:56.692973Z"
    },
    "id": "xa5mb4WjgWdT"
   },
   "outputs": [
    {
     "data": {
      "text/plain": [
       "\"{'released_year_area': {1: 1, 2: 1, 3: 1, 4: 1, 5: 1, 6: 1, 7: 1, 8: 1, 9: 1, 10: 1, 11: 1, 12: 1, 13: 1, 14: 1, 15: 1, 16: 1, 17: 1, 18: 1, 19: 1, 20: 1, 21: 1, 22: 1, 23: 1, 24: 1, 25: 1, 26: 1, 27: 1, 28: 1, 29: 1, 30: 1, 31: 1, 32: 1, 33: 1, 34: 1, 35: 1, 36: 1, 37: 1, 38: 1, 39: 1, 40: 1, 41: 1\""
      ]
     },
     "execution_count": 191,
     "metadata": {},
     "output_type": "execute_result"
    }
   ],
   "source": [
    "movie_index_dict = movie_df.set_index('movie_id')[['released_year_area', 'main_genre']].to_dict()\n",
    "str(movie_index_dict)[:300]"
   ]
  },
  {
   "cell_type": "code",
   "execution_count": 192,
   "metadata": {
    "ExecuteTime": {
     "end_time": "2022-08-31T15:25:01.368460Z",
     "start_time": "2022-08-31T15:25:01.338005Z"
    }
   },
   "outputs": [
    {
     "data": {
      "text/plain": [
       "\"{'gender': {1: 1, 2: 2, 3: 2, 4: 2, 5: 2, 6: 1, 7: 2, 8: 2, 9: 2, 10: 1, 11: 1, 12: 2, 13: 2, 14: 2, 15: 2, 16: 1, 17: 2, 18: 1, 19: 2, 20: 2, 21: 2, 22: 2, 23: 2, 24: 1, 25: 2, 26: 2, 27: 2, 28: 1, 29: 2, 30: 1, 31: 2, 32: 1, 33: 2, 34: 1, 35: 2, 36: 2, 37: 1, 38: 1, 39: 2, 40: 2, 41: 1, 42: 2, 43:\""
      ]
     },
     "execution_count": 192,
     "metadata": {},
     "output_type": "execute_result"
    }
   ],
   "source": [
    "user_index_dict = user_df.set_index('user_id')[['gender', 'age_bucket', 'occupation']].to_dict()\n",
    "str(user_index_dict)[:300]"
   ]
  },
  {
   "cell_type": "code",
   "execution_count": 193,
   "metadata": {
    "ExecuteTime": {
     "end_time": "2022-08-31T15:29:49.984699Z",
     "start_time": "2022-08-31T15:25:15.323377Z"
    }
   },
   "outputs": [],
   "source": [
    "txt_file = open('train.txt', 'w')\n",
    "for idx, row in train_df.iterrows():\n",
    "  vec = []\n",
    "  label = row['y']\n",
    "  vec.append(str(label))\n",
    "  row = row.drop(labels=['rating'])\n",
    "  row = row.drop(labels=['y'])\n",
    "  for key, value in row.items():\n",
    "    col_idx = col_accum_index_dict[key] + value - 1\n",
    "    vec.append(str(col_idx) + \":\" + str(1))\n",
    "  txt_file.write(\"%s\\n\" % \" \".join(vec))\n",
    "txt_file.close()"
   ]
  },
  {
   "cell_type": "code",
   "execution_count": 194,
   "metadata": {
    "ExecuteTime": {
     "end_time": "2022-08-31T15:29:53.893920Z",
     "start_time": "2022-08-31T15:29:53.891774Z"
    }
   },
   "outputs": [
    {
     "data": {
      "text/plain": [
       "{'user_id': 0,\n",
       " 'movie_id': 5400,\n",
       " 'released_year_area': 9062,\n",
       " 'main_genre': 9143,\n",
       " 'gender': 9161,\n",
       " 'occupation': 9163,\n",
       " 'age_bucket': 9184}"
      ]
     },
     "execution_count": 194,
     "metadata": {},
     "output_type": "execute_result"
    }
   ],
   "source": [
    "col_accum_index_dict"
   ]
  },
  {
   "cell_type": "code",
   "execution_count": 195,
   "metadata": {
    "ExecuteTime": {
     "end_time": "2022-08-31T15:29:59.418967Z",
     "start_time": "2022-08-31T15:29:57.799016Z"
    }
   },
   "outputs": [],
   "source": [
    "def make_libsvm_row(uid, mid):\n",
    "  row = []\n",
    "  user_id = str(col_accum_index_dict['user_id'] + uid - 1) + \":\" + str(1)\n",
    "  gender = str(col_accum_index_dict['gender'] + user_index_dict['gender'][uid] - 1) + \":\" + str(1)\n",
    "  age_bucket = str(col_accum_index_dict['age_bucket'] + user_index_dict['age_bucket'][uid] - 1) + \":\" + str(1)\n",
    "  occupation = str(col_accum_index_dict['occupation'] + user_index_dict['occupation'][uid] - 1) + \":\" + str(1)\n",
    "  movie_id = str(col_accum_index_dict['movie_id'] + int(mid) - 1) + \":\" + str(1)\n",
    "  released_year_area = str(col_accum_index_dict['released_year_area'] + movie_index_dict['released_year_area'][int(mid)] - 1) + \":\" + str(1)\n",
    "  main_genre = str(col_accum_index_dict['main_genre'] + movie_index_dict['main_genre'][int(mid)] - 1) + \":\" + str(1)\n",
    "  return \" \".join([user_id, gender, age_bucket, occupation, movie_id, released_year_area, main_genre])\n",
    "\n",
    "# make vector list\n",
    "vector_list = []\n",
    "uid_mid_list = []\n",
    "for uid, movie_set in recommendations.iteritems():\n",
    "  for mid in movie_set:\n",
    "    x_feature = []\n",
    "    libsvm_row = make_libsvm_row(uid, mid)\n",
    "    element = libsvm_row.split(\" \")\n",
    "    vector_list.append([np.array([int(pair.split(\":\")[0]) for pair in element]), np.array([int(pair.split(\":\")[1]) for pair in element])])\n",
    "    uid_mid_list.append((uid, mid))"
   ]
  },
  {
   "cell_type": "code",
   "execution_count": 198,
   "metadata": {
    "ExecuteTime": {
     "end_time": "2022-08-31T15:36:26.772100Z",
     "start_time": "2022-08-31T15:36:26.764333Z"
    }
   },
   "outputs": [
    {
     "data": {
      "text/plain": [
       "[array([ 634, 9162, 9185, 9171, 7063, 9064, 9147]),\n",
       " array([1, 1, 1, 1, 1, 1, 1])]"
      ]
     },
     "execution_count": 198,
     "metadata": {},
     "output_type": "execute_result"
    }
   ],
   "source": [
    "vector_list[0]"
   ]
  },
  {
   "cell_type": "code",
   "execution_count": 199,
   "metadata": {
    "ExecuteTime": {
     "end_time": "2022-08-31T15:36:51.566301Z",
     "start_time": "2022-08-31T15:36:51.558094Z"
    }
   },
   "outputs": [
    {
     "data": {
      "text/plain": [
       "(635, 1664)"
      ]
     },
     "execution_count": 199,
     "metadata": {},
     "output_type": "execute_result"
    }
   ],
   "source": [
    "uid_mid_list[0]"
   ]
  },
  {
   "cell_type": "code",
   "execution_count": 200,
   "metadata": {
    "ExecuteTime": {
     "end_time": "2022-08-31T15:39:23.251252Z",
     "start_time": "2022-08-31T15:39:19.411898Z"
    }
   },
   "outputs": [
    {
     "data": {
      "text/plain": [
       "array([0.43301227, 0.97068501, 0.96086514, ..., 0.82627949, 0.32090598,\n",
       "       0.86852264])"
      ]
     },
     "execution_count": 200,
     "metadata": {},
     "output_type": "execute_result"
    }
   ],
   "source": [
    "predict_results = fm.predict(vector_list)\n",
    "predict_results"
   ]
  },
  {
   "cell_type": "markdown",
   "metadata": {
    "id": "sE39eppIfIwv"
   },
   "source": [
    "#### 후보군 정렬"
   ]
  },
  {
   "cell_type": "code",
   "execution_count": 201,
   "metadata": {
    "ExecuteTime": {
     "end_time": "2022-08-31T15:41:50.054887Z",
     "start_time": "2022-08-31T15:41:49.960868Z"
    },
    "id": "jNl8FX_hfPq4"
   },
   "outputs": [],
   "source": [
    "# 유저별 추천 후보군 재정렬\n",
    "# ex. \n",
    "# {635: {1664: 0.49089334810703084, 3498: 0.7017178066091346, 2444: 0.3960630484760756...}, ...}\n",
    "# -> {userid: {movieid: score...}...}\n",
    "\n",
    "user_recommendation_dict = {}\n",
    "for watch_prob, uid_mid in zip(predict_results, uid_mid_list):\n",
    "  uid, mid = int(uid_mid[0]), int(uid_mid[1])\n",
    "  if uid not in user_recommendation_dict:\n",
    "    user_recommendation_dict[uid] = {}\n",
    "    user_recommendation_dict[uid][mid] = watch_prob\n",
    "  else:\n",
    "    if mid not in user_recommendation_dict[uid]:\n",
    "      user_recommendation_dict[uid][mid] = watch_prob"
   ]
  },
  {
   "cell_type": "code",
   "execution_count": 202,
   "metadata": {
    "ExecuteTime": {
     "end_time": "2022-08-31T15:44:18.637863Z",
     "start_time": "2022-08-31T15:44:18.506004Z"
    },
    "colab": {
     "base_uri": "https://localhost:8080/",
     "height": 103
    },
    "executionInfo": {
     "elapsed": 726,
     "status": "ok",
     "timestamp": 1609048289077,
     "user": {
      "displayName": "윤기태",
      "photoUrl": "https://lh3.googleusercontent.com/a-/AOh14GhjX4czjHvHYRaEdNzkkF2s-g0b57J74mP9aSZTyg=s64",
      "userId": "10622173580637109440"
     },
     "user_tz": -540
    },
    "id": "LsDmD9kriLsy",
    "outputId": "b9f2a3e3-b70d-45e9-b83f-7ec973e00843"
   },
   "outputs": [
    {
     "data": {
      "text/plain": [
       "'{635: {1664: 0.4330122686514756, 3163: 0.97068500524726, 3194: 0.9608651380632204, 1955: 0.946580528577798, 1423: 0.9354239269179316, 527: 0.9944633815641114, 2964: 0.973483389937908, 2330: 0.9787207495328553, 3733: 0.9777151442411401, 3006: 0.9886410427437993, 3135: 0.9568415619889458, 2609: 0.9413149895192962, 53: 0.9967836944256572, 3382: 0.9625909794457652, 2765: 0.17044943551974803, 318: 0.9980207652826459, 1471: 0.5588708555780335, 1476: 0.8878042588067493, 3522: 0.9998066836826133, 2503: 0.9806662889260139, 372: 0.9844393072301256, 1358: 0.9810827235777135, 720: 0.9424632341572386, 2501: 0.9895031865452202, 3083: 0.9869833177243922, 1117: 0.9523989631189118, 2682: 0.9698405682931681, 989: 0.8012763327801787, 608: 0.9905653117711244, 1895: 0.9497125942717543, 2155: 0.8652427663456409, 1002: 0.9972259655216604, 3498: 0.9825665379836297, 1147: 0.9742212368993244}, 636: {1664: 0.9387038554326855, 3146: 0.3792738812079292, 1320: 0.45494842230511207, 2393: 0.48276045790430944, 2444: 0.5630490101529904, 527: 0.910409066915779, 2324: 0.9239761229504334, 2964: 0.8353768899860547, 1704: 0.8510153105630407, 2889: 0.554647680156149, 2480: 0.5637969582585426, 1762: 0.21420836562973483, 53: 0.796135140357665, 3382: 0.9064894543294943, 2525: 0.12309959738407131, 3000: 0.9056600550948842, 318: 0.9142211225513611, 1471: 0.17868347252165012, 512: 0.24992156774185212, 256: 0.21813423748455069, 3522: 0.6863898280475719, 2503: 0.8850728378571474, 780: 0.6470975166109316, 1617: 0.8934332055988329, 1879: 0.8645602769246823, 989: 0.6750120132057063, 1692: 0.7885992668879637, 3326: 0.42851541689293177, 3180: 0.3159657026638814, 442: 0.31749064066692234, 1900: 0.7971495654940175, 379: 0.14293488134224563, 1676: 0.46666018986821695, 1780: 0.9856603192858856}, 637: {1664: 0.4780133050829936, 1423: 0.9087221478111366, 527: 0.9178465679482064, 2964: 0.13062274367456833, 1379: 0.3009342959603688, 2330: 0.47267607283962093, 1080: 0.7065873093049096, 3444: 0.4217257307008114, 1394: 0.6499956'"
      ]
     },
     "execution_count": 202,
     "metadata": {},
     "output_type": "execute_result"
    }
   ],
   "source": [
    "str(user_recommendation_dict)[:2000]"
   ]
  },
  {
   "cell_type": "markdown",
   "metadata": {
    "id": "SHPb32edTELY"
   },
   "source": [
    "## Step 6. 추천 결과 평가"
   ]
  },
  {
   "cell_type": "markdown",
   "metadata": {
    "id": "uGheYASLTGT8"
   },
   "source": [
    "### 문제 26. 추천 결과 평가 - 추천 후보군과 Test 데이터간의 MAP@K 계산"
   ]
  },
  {
   "cell_type": "code",
   "execution_count": 203,
   "metadata": {
    "ExecuteTime": {
     "end_time": "2022-08-31T15:46:47.141894Z",
     "start_time": "2022-08-31T15:46:47.026247Z"
    },
    "executionInfo": {
     "elapsed": 1383,
     "status": "ok",
     "timestamp": 1610520642921,
     "user": {
      "displayName": "윤기태",
      "photoUrl": "https://lh3.googleusercontent.com/a-/AOh14GhjX4czjHvHYRaEdNzkkF2s-g0b57J74mP9aSZTyg=s64",
      "userId": "10622173580637109440"
     },
     "user_tz": -540
    },
    "id": "ESaTx28EwRpW"
   },
   "outputs": [
    {
     "data": {
      "text/plain": [
       "user_id\n",
       "635     [1251, 3948, 1270, 1279, 1286, 3035, 920, 3067...\n",
       "636     [2054, 589, 1261, 780, 968, 2455, 1653, 2460, ...\n",
       "637     [2987, 3930, 3932, 3791, 1250, 2054, 1252, 125...\n",
       "638     [2987, 3793, 1259, 592, 1270, 1275, 1285, 3039...\n",
       "639     [2058, 589, 1408, 733, 592, 1275, 913, 3062, 1...\n",
       "                              ...                        \n",
       "6036    [589, 3006, 3008, 2064, 2069, 590, 593, 594, 5...\n",
       "6037    [3006, 2064, 593, 903, 904, 908, 909, 910, 912...\n",
       "6038    [1419, 3088, 232, 1136, 1148, 1183, 2146, 3548...\n",
       "6039    [588, 2067, 1416, 3022, 2080, 3035, 3037, 901,...\n",
       "6040    [573, 589, 593, 2070, 2076, 903, 904, 908, 910...\n",
       "Name: movie_id, Length: 5396, dtype: object"
      ]
     },
     "execution_count": 203,
     "metadata": {},
     "output_type": "execute_result"
    }
   ],
   "source": [
    "# 4점 이상을 준 test 시청리스트 추출\n",
    "user_actual_watch_list = rating_df[(rating_df['time'] < 975768738) & (rating_df['rating'] >= 4)].groupby('user_id')['movie_id'].apply(lambda x: x.tolist())\n",
    "user_actual_watch_list"
   ]
  },
  {
   "cell_type": "code",
   "execution_count": 204,
   "metadata": {
    "ExecuteTime": {
     "end_time": "2022-08-31T15:49:15.884239Z",
     "start_time": "2022-08-31T15:49:15.882282Z"
    }
   },
   "outputs": [],
   "source": [
    "estimated_list = user_recommendation_dict[635].copy()\n",
    "sorted_list = sorted(estimated_list.items(), key=lambda t : t[1], reverse=True)\n",
    "top_k_list = [tup[0] for tup in sorted_list][:10]"
   ]
  },
  {
   "cell_type": "code",
   "execution_count": 211,
   "metadata": {
    "ExecuteTime": {
     "end_time": "2022-08-31T16:06:42.330341Z",
     "start_time": "2022-08-31T16:06:42.328303Z"
    }
   },
   "outputs": [
    {
     "data": {
      "text/plain": [
       "[318, 1085, 3382]"
      ]
     },
     "execution_count": 211,
     "metadata": {},
     "output_type": "execute_result"
    }
   ],
   "source": [
    "top_k_list"
   ]
  },
  {
   "cell_type": "code",
   "execution_count": 205,
   "metadata": {
    "ExecuteTime": {
     "end_time": "2022-08-31T15:51:44.418221Z",
     "start_time": "2022-08-31T15:51:44.353829Z"
    },
    "colab": {
     "base_uri": "https://localhost:8080/",
     "height": 298
    },
    "executionInfo": {
     "elapsed": 748,
     "status": "ok",
     "timestamp": 1609048951674,
     "user": {
      "displayName": "윤기태",
      "photoUrl": "https://lh3.googleusercontent.com/a-/AOh14GhjX4czjHvHYRaEdNzkkF2s-g0b57J74mP9aSZTyg=s64",
      "userId": "10622173580637109440"
     },
     "user_tz": -540
    },
    "id": "O8Ujbvnt8Twn",
    "outputId": "a6e6381b-13d2-43f2-a5f8-db2fcc332c1e"
   },
   "outputs": [
    {
     "name": "stdout",
     "output_type": "stream",
     "text": [
      "list index out of range, exclude user 1160\n",
      "list index out of range, exclude user 3598\n",
      "list index out of range, exclude user 4467\n",
      "list index out of range, exclude user 4486\n"
     ]
    }
   ],
   "source": [
    "user_metric = []\n",
    "\n",
    "# 유저별 k개의 선호 리스트 추출\n",
    "k = 3\n",
    "for user in user_recommendation_dict:\n",
    "  try:\n",
    "    estimated_list = user_recommendation_dict[user].copy()\n",
    "    sorted_list = sorted(estimated_list.items(), key=lambda t : t[1], reverse=True)\n",
    "    top_k_list = [tup[0] for tup in sorted_list][:k]\n",
    "    user_metric.append((user, top_k_list, user_actual_watch_list[user]))\n",
    "  except:\n",
    "    print(\"list index out of range, exclude user \" + str(user))"
   ]
  },
  {
   "cell_type": "code",
   "execution_count": 206,
   "metadata": {
    "ExecuteTime": {
     "end_time": "2022-08-31T15:54:13.300916Z",
     "start_time": "2022-08-31T15:54:13.298645Z"
    },
    "id": "WmI2tVRxyohC"
   },
   "outputs": [],
   "source": [
    "def get_map(user_list):\n",
    "  precision_list = []\n",
    "  for user in user_list:\n",
    "    predictive_values = user[1]\n",
    "    actual_values = set(user[2])\n",
    "    tp = [pv for pv in predictive_values if pv in actual_values]\n",
    "    precision = len(tp) / len(predictive_values)\n",
    "    precision_list.append(precision)\n",
    "  return sum(precision_list) / len(precision_list)"
   ]
  },
  {
   "cell_type": "code",
   "execution_count": 207,
   "metadata": {
    "ExecuteTime": {
     "end_time": "2022-08-31T15:56:42.046576Z",
     "start_time": "2022-08-31T15:56:42.027336Z"
    }
   },
   "outputs": [
    {
     "data": {
      "text/plain": [
       "0.09655300222386852"
      ]
     },
     "execution_count": 207,
     "metadata": {},
     "output_type": "execute_result"
    }
   ],
   "source": [
    "get_map(user_metric)"
   ]
  },
  {
   "cell_type": "code",
   "execution_count": 208,
   "metadata": {
    "ExecuteTime": {
     "end_time": "2022-08-31T15:59:10.921100Z",
     "start_time": "2022-08-31T15:59:10.918152Z"
    }
   },
   "outputs": [],
   "source": [
    "def get_map_topk(k):\n",
    "  user_metric = []\n",
    "  for user in user_recommendation_dict:\n",
    "    try:\n",
    "      estimated_list = user_recommendation_dict[user].copy()\n",
    "      sorted_list = sorted(estimated_list.items(), key=lambda t : t[1], reverse=True)\n",
    "      top_k_list = [tup[0] for tup in sorted_list][:k]\n",
    "      user_metric.append((user, top_k_list, user_actual_watch_list[user]))\n",
    "    except:\n",
    "      print(\"list index out of range, exclude user \" + str(user))\n",
    "  \n",
    "  precision_list = []\n",
    "  for user in user_metric:\n",
    "    predictive_values = user[1]\n",
    "    actual_values = set(user[2])\n",
    "    tp = [pv for pv in predictive_values if pv in actual_values]\n",
    "    precision = len(tp) / len(predictive_values)\n",
    "    precision_list.append(precision)\n",
    "  return sum(precision_list) / len(precision_list)"
   ]
  },
  {
   "cell_type": "code",
   "execution_count": 209,
   "metadata": {
    "ExecuteTime": {
     "end_time": "2022-08-31T16:01:42.242238Z",
     "start_time": "2022-08-31T16:01:39.639406Z"
    }
   },
   "outputs": [
    {
     "name": "stdout",
     "output_type": "stream",
     "text": [
      "list index out of range, exclude user 1160\n",
      "list index out of range, exclude user 3598\n",
      "list index out of range, exclude user 4467\n",
      "list index out of range, exclude user 4486\n",
      "list index out of range, exclude user 1160\n",
      "list index out of range, exclude user 3598\n",
      "list index out of range, exclude user 4467\n",
      "list index out of range, exclude user 4486\n",
      "list index out of range, exclude user 1160\n",
      "list index out of range, exclude user 3598\n",
      "list index out of range, exclude user 4467\n",
      "list index out of range, exclude user 4486\n",
      "list index out of range, exclude user 1160\n",
      "list index out of range, exclude user 3598\n",
      "list index out of range, exclude user 4467\n",
      "list index out of range, exclude user 4486\n",
      "list index out of range, exclude user 1160\n",
      "list index out of range, exclude user 3598\n",
      "list index out of range, exclude user 4467\n",
      "list index out of range, exclude user 4486\n",
      "list index out of range, exclude user 1160\n",
      "list index out of range, exclude user 3598\n",
      "list index out of range, exclude user 4467\n",
      "list index out of range, exclude user 4486\n",
      "list index out of range, exclude user 1160\n",
      "list index out of range, exclude user 3598\n",
      "list index out of range, exclude user 4467\n",
      "list index out of range, exclude user 4486\n",
      "list index out of range, exclude user 1160\n",
      "list index out of range, exclude user 3598\n",
      "list index out of range, exclude user 4467\n",
      "list index out of range, exclude user 4486\n",
      "list index out of range, exclude user 1160\n",
      "list index out of range, exclude user 3598\n",
      "list index out of range, exclude user 4467\n",
      "list index out of range, exclude user 4486\n",
      "list index out of range, exclude user 1160\n",
      "list index out of range, exclude user 3598\n",
      "list index out of range, exclude user 4467\n",
      "list index out of range, exclude user 4486\n",
      "list index out of range, exclude user 1160\n",
      "list index out of range, exclude user 3598\n",
      "list index out of range, exclude user 4467\n",
      "list index out of range, exclude user 4486\n",
      "list index out of range, exclude user 1160\n",
      "list index out of range, exclude user 3598\n",
      "list index out of range, exclude user 4467\n",
      "list index out of range, exclude user 4486\n",
      "list index out of range, exclude user 1160\n",
      "list index out of range, exclude user 3598\n",
      "list index out of range, exclude user 4467\n",
      "list index out of range, exclude user 4486\n",
      "list index out of range, exclude user 1160\n",
      "list index out of range, exclude user 3598\n",
      "list index out of range, exclude user 4467\n",
      "list index out of range, exclude user 4486\n",
      "list index out of range, exclude user 1160\n",
      "list index out of range, exclude user 3598\n",
      "list index out of range, exclude user 4467\n",
      "list index out of range, exclude user 4486\n",
      "list index out of range, exclude user 1160\n",
      "list index out of range, exclude user 3598\n",
      "list index out of range, exclude user 4467\n",
      "list index out of range, exclude user 4486\n",
      "list index out of range, exclude user 1160\n",
      "list index out of range, exclude user 3598\n",
      "list index out of range, exclude user 4467\n",
      "list index out of range, exclude user 4486\n",
      "list index out of range, exclude user 1160\n",
      "list index out of range, exclude user 3598\n",
      "list index out of range, exclude user 4467\n",
      "list index out of range, exclude user 4486\n",
      "list index out of range, exclude user 1160\n",
      "list index out of range, exclude user 3598\n",
      "list index out of range, exclude user 4467\n",
      "list index out of range, exclude user 4486\n",
      "list index out of range, exclude user 1160\n",
      "list index out of range, exclude user 3598\n",
      "list index out of range, exclude user 4467\n",
      "list index out of range, exclude user 4486\n",
      "list index out of range, exclude user 1160\n",
      "list index out of range, exclude user 3598\n",
      "list index out of range, exclude user 4467\n",
      "list index out of range, exclude user 4486\n",
      "list index out of range, exclude user 1160\n",
      "list index out of range, exclude user 3598\n",
      "list index out of range, exclude user 4467\n",
      "list index out of range, exclude user 4486\n",
      "list index out of range, exclude user 1160\n",
      "list index out of range, exclude user 3598\n",
      "list index out of range, exclude user 4467\n",
      "list index out of range, exclude user 4486\n",
      "list index out of range, exclude user 1160\n",
      "list index out of range, exclude user 3598\n",
      "list index out of range, exclude user 4467\n",
      "list index out of range, exclude user 4486\n",
      "list index out of range, exclude user 1160\n",
      "list index out of range, exclude user 3598\n",
      "list index out of range, exclude user 4467\n",
      "list index out of range, exclude user 4486\n",
      "list index out of range, exclude user 1160\n",
      "list index out of range, exclude user 3598\n",
      "list index out of range, exclude user 4467\n",
      "list index out of range, exclude user 4486\n",
      "list index out of range, exclude user 1160\n",
      "list index out of range, exclude user 3598\n",
      "list index out of range, exclude user 4467\n",
      "list index out of range, exclude user 4486\n",
      "list index out of range, exclude user 1160\n",
      "list index out of range, exclude user 3598\n",
      "list index out of range, exclude user 4467\n",
      "list index out of range, exclude user 4486\n",
      "list index out of range, exclude user 1160\n",
      "list index out of range, exclude user 3598\n",
      "list index out of range, exclude user 4467\n",
      "list index out of range, exclude user 4486\n"
     ]
    }
   ],
   "source": [
    "k_param_list = range(1,30)\n",
    "map_list = []\n",
    "for k in k_param_list:    \n",
    "  map_list.append(get_map_topk(k))"
   ]
  },
  {
   "cell_type": "code",
   "execution_count": 210,
   "metadata": {
    "ExecuteTime": {
     "end_time": "2022-08-31T16:04:11.654859Z",
     "start_time": "2022-08-31T16:04:11.582988Z"
    }
   },
   "outputs": [
    {
     "data": {
      "image/png": "[encoded data removed]",
      "text/plain": [
       "<Figure size 432x288 with 1 Axes>"
      ]
     },
     "metadata": {
      "needs_background": "light"
     },
     "output_type": "display_data"
    }
   ],
   "source": [
    "plt.plot(k_param_list, map_list)\n",
    "plt.title('MAP by top k recommendation')\n",
    "plt.ylabel('MAP', fontsize=12)\n",
    "plt.xlabel('k', fontsize=12)\n",
    "plt.show()"
   ]
  },
  {
   "cell_type": "code",
   "execution_count": null,
   "metadata": {},
   "outputs": [],
   "source": []
  }
 ],
 "metadata": {
  "colab": {
   "collapsed_sections": [],
   "name": "2. Embedding & Ranking 기반 영화 추천 모델",
   "provenance": [
    {
     "file_id": "1cS2OjWOehEb97E7763rQ_LrzQIK34Kd-",
     "timestamp": 1604921871166
    },
    {
     "file_id": "1g7SaVjG6EvBPvIH4ADG2RA3qN8v521d1",
     "timestamp": 1604886286018
    }
   ],
   "toc_visible": true
  },
  "hide_input": false,
  "kernelspec": {
   "display_name": "Python 3",
   "language": "python",
   "name": "python3"
  },
  "language_info": {
   "codemirror_mode": {
    "name": "ipython",
    "version": 3
   },
   "file_extension": ".py",
   "mimetype": "text/x-python",
   "name": "python",
   "nbconvert_exporter": "python",
   "pygments_lexer": "ipython3",
   "version": "3.8.8"
  },
  "toc": {
   "base_numbering": 1,
   "nav_menu": {},
   "number_sections": true,
   "sideBar": true,
   "skip_h1_title": false,
   "title_cell": "Table of Contents",
   "title_sidebar": "Contents",
   "toc_cell": false,
   "toc_position": {},
   "toc_section_display": true,
   "toc_window_display": false
  },
  "varInspector": {
   "cols": {
    "lenName": 16,
    "lenType": 16,
    "lenVar": 40
   },
   "kernels_config": {
    "python": {
     "delete_cmd_postfix": "",
     "delete_cmd_prefix": "del ",
     "library": "var_list.py",
     "varRefreshCmd": "print(var_dic_list())"
    },
    "r": {
     "delete_cmd_postfix": ") ",
     "delete_cmd_prefix": "rm(",
     "library": "var_list.r",
     "varRefreshCmd": "cat(var_dic_list()) "
    }
   },
   "types_to_exclude": [
    "module",
    "function",
    "builtin_function_or_method",
    "instance",
    "_Feature"
   ],
   "window_display": false
  }
 },
 "nbformat": 4,
 "nbformat_minor": 1
}
